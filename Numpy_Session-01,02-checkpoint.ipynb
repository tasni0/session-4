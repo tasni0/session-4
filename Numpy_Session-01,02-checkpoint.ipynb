{
 "cells": [
  {
   "cell_type": "markdown",
   "id": "8a502746",
   "metadata": {},
   "source": [
    "# 1.Basics"
   ]
  },
  {
   "cell_type": "code",
   "execution_count": 1,
   "id": "796be2eb",
   "metadata": {},
   "outputs": [],
   "source": [
    "import numpy as np\n"
   ]
  },
  {
   "cell_type": "code",
   "execution_count": 2,
   "id": "153bb721",
   "metadata": {},
   "outputs": [
    {
     "data": {
      "text/plain": [
       "array([   0,    3,    6,   23,   56,   73,  234,  456, 2391])"
      ]
     },
     "execution_count": 2,
     "metadata": {},
     "output_type": "execute_result"
    }
   ],
   "source": [
    "sales = [0, 3, 6, 23, 56, 73, 234, 456, 2391]\n",
    "sales_array = np.array(sales)\n",
    "sales_array"
   ]
  },
  {
   "cell_type": "code",
   "execution_count": 3,
   "id": "0cdaaea6",
   "metadata": {},
   "outputs": [
    {
     "data": {
      "text/plain": [
       "numpy.ndarray"
      ]
     },
     "execution_count": 3,
     "metadata": {},
     "output_type": "execute_result"
    }
   ],
   "source": [
    "type(sales_array)"
   ]
  },
  {
   "cell_type": "code",
   "execution_count": 4,
   "id": "86717f83",
   "metadata": {},
   "outputs": [
    {
     "name": "stdout",
     "output_type": "stream",
     "text": [
      "ndim: 1\n",
      "shape: (9,)\n",
      "size: 9\n",
      "dtype: int32\n"
     ]
    }
   ],
   "source": [
    "print(f\"ndim: {sales_array.ndim}\")\n",
    "print(f\"shape: {sales_array.shape}\")\n",
    "print(f\"size: {sales_array.size}\")\n",
    "print(f\"dtype: {sales_array.dtype}\")"
   ]
  },
  {
   "cell_type": "code",
   "execution_count": 7,
   "id": "47c20c4b",
   "metadata": {},
   "outputs": [
    {
     "name": "stdout",
     "output_type": "stream",
     "text": [
      "[[  3   5  12  78]\n",
      " [ 23  56  73 234]\n",
      " [  6  23  56  73]]\n"
     ]
    },
    {
     "data": {
      "text/plain": [
       "numpy.ndarray"
      ]
     },
     "execution_count": 7,
     "metadata": {},
     "output_type": "execute_result"
    }
   ],
   "source": [
    "sales_2d = [[3, 5, 12, 78], [23, 56, 73, 234], [6, 23, 56, 73]]\n",
    "sales_2d_array = np.array(sales_2d)\n",
    "print(sales_2d_array)\n",
    "type(sales_2d_array)"
   ]
  },
  {
   "cell_type": "code",
   "execution_count": 8,
   "id": "b8f86319",
   "metadata": {},
   "outputs": [
    {
     "name": "stdout",
     "output_type": "stream",
     "text": [
      "ndim: 2\n",
      "shape: (3, 4)\n",
      "size: 12\n",
      "dtype: int32\n"
     ]
    }
   ],
   "source": [
    "print(f\"ndim: {sales_2d_array.ndim}\")\n",
    "print(f\"shape: {sales_2d_array.shape}\")\n",
    "print(f\"size: {sales_2d_array.size}\")\n",
    "print(f\"dtype: {sales_2d_array.dtype}\")"
   ]
  },
  {
   "cell_type": "markdown",
   "id": "d0e088f3",
   "metadata": {},
   "source": [
    "# Array Creation"
   ]
  },
  {
   "cell_type": "code",
   "execution_count": 9,
   "id": "5d7097ae",
   "metadata": {},
   "outputs": [
    {
     "data": {
      "text/plain": [
       "array([[1., 1., 1., 1.],\n",
       "       [1., 1., 1., 1.],\n",
       "       [1., 1., 1., 1.]])"
      ]
     },
     "execution_count": 9,
     "metadata": {},
     "output_type": "execute_result"
    }
   ],
   "source": [
    "np.ones((3, 4))"
   ]
  },
  {
   "cell_type": "code",
   "execution_count": 10,
   "id": "4f54f50c",
   "metadata": {},
   "outputs": [
    {
     "data": {
      "text/plain": [
       "array([[0., 0., 0., 0.],\n",
       "       [0., 0., 0., 0.],\n",
       "       [0., 0., 0., 0.]])"
      ]
     },
     "execution_count": 10,
     "metadata": {},
     "output_type": "execute_result"
    }
   ],
   "source": [
    "np.zeros((3, 4))"
   ]
  },
  {
   "cell_type": "code",
   "execution_count": 11,
   "id": "8dd3eb2a",
   "metadata": {},
   "outputs": [
    {
     "data": {
      "text/plain": [
       "array([[5, 5, 5, 5],\n",
       "       [5, 5, 5, 5],\n",
       "       [5, 5, 5, 5]])"
      ]
     },
     "execution_count": 11,
     "metadata": {},
     "output_type": "execute_result"
    }
   ],
   "source": [
    "np.full((3, 4), 5)"
   ]
  },
  {
   "cell_type": "code",
   "execution_count": 12,
   "id": "4acfd4cd",
   "metadata": {},
   "outputs": [
    {
     "data": {
      "text/plain": [
       "array([[1., 0., 0.],\n",
       "       [0., 1., 0.],\n",
       "       [0., 0., 1.]])"
      ]
     },
     "execution_count": 12,
     "metadata": {},
     "output_type": "execute_result"
    }
   ],
   "source": [
    "np.eye(3)"
   ]
  },
  {
   "cell_type": "code",
   "execution_count": 13,
   "id": "f4312074",
   "metadata": {},
   "outputs": [
    {
     "data": {
      "text/plain": [
       "array([[0.13829223, 0.05873502, 0.99722046, 0.50334605],\n",
       "       [0.77373242, 0.17791407, 0.45555907, 0.95338273],\n",
       "       [0.01588568, 0.934766  , 0.32671883, 0.35374003]])"
      ]
     },
     "execution_count": 13,
     "metadata": {},
     "output_type": "execute_result"
    }
   ],
   "source": [
    "np.random.random((3, 4))"
   ]
  },
  {
   "cell_type": "code",
   "execution_count": 14,
   "id": "07e9407e",
   "metadata": {},
   "outputs": [
    {
     "data": {
      "text/plain": [
       "array([0, 1, 2, 3, 4, 5, 6, 7, 8, 9])"
      ]
     },
     "execution_count": 14,
     "metadata": {},
     "output_type": "execute_result"
    }
   ],
   "source": [
    "np.arange(10)"
   ]
  },
  {
   "cell_type": "code",
   "execution_count": 15,
   "id": "6f910199",
   "metadata": {},
   "outputs": [
    {
     "data": {
      "text/plain": [
       "array([ 0. ,  2.5,  5. ,  7.5, 10. ])"
      ]
     },
     "execution_count": 15,
     "metadata": {},
     "output_type": "execute_result"
    }
   ],
   "source": [
    "np.linspace(0, 10, 5)"
   ]
  },
  {
   "cell_type": "code",
   "execution_count": 16,
   "id": "20ab3ccb",
   "metadata": {},
   "outputs": [
    {
     "data": {
      "text/plain": [
       "array([[0, 1, 2, 3, 4],\n",
       "       [5, 6, 7, 8, 9]])"
      ]
     },
     "execution_count": 16,
     "metadata": {},
     "output_type": "execute_result"
    }
   ],
   "source": [
    "np.arange(10).reshape(2, 5)"
   ]
  },
  {
   "cell_type": "markdown",
   "id": "47415f1e",
   "metadata": {},
   "source": [
    "# Creating Random Number Arrays(Sampling and Simulation)"
   ]
  },
  {
   "cell_type": "code",
   "execution_count": 17,
   "id": "c4ba4df8",
   "metadata": {},
   "outputs": [
    {
     "data": {
      "text/plain": [
       "array([[0.97669977, 0.38019574, 0.92324623, 0.26169242],\n",
       "       [0.31909706, 0.11809123, 0.24176629, 0.31853393],\n",
       "       [0.96407925, 0.2636498 , 0.44100612, 0.60987081]])"
      ]
     },
     "execution_count": 17,
     "metadata": {},
     "output_type": "execute_result"
    }
   ],
   "source": [
    "from numpy.random import default_rng\n",
    "rng = default_rng(1234)\n",
    "random_array = rng.random((3, 4))\n",
    "random_array"
   ]
  },
  {
   "cell_type": "code",
   "execution_count": 18,
   "id": "a07b0f08",
   "metadata": {},
   "outputs": [
    {
     "data": {
      "text/plain": [
       "array([[0.71693056, 2.05127993, 2.59271304, 2.12209535],\n",
       "       [2.69099511, 4.33047938, 0.81694131, 2.75637838]])"
      ]
     },
     "execution_count": 18,
     "metadata": {},
     "output_type": "execute_result"
    }
   ],
   "source": [
    "rng = default_rng(1234)\n",
    "mean, std_d = 2, 0.8\n",
    "random_array = rng.normal(mean, std_d, size=(2, 4))\n",
    "random_array"
   ]
  },
  {
   "cell_type": "markdown",
   "id": "3afe2105",
   "metadata": {},
   "source": [
    "# Task 1 (Creating array and reshape it to row and column)"
   ]
  },
  {
   "cell_type": "code",
   "execution_count": 24,
   "id": "78603926",
   "metadata": {},
   "outputs": [
    {
     "data": {
      "text/plain": [
       "array([23, 24, 25, 26, 27, 28, 29, 30, 31, 32, 33, 34, 35, 36, 37, 38, 39,\n",
       "       40, 41, 42, 43, 44, 45, 46, 47, 48, 49, 50, 51, 52, 53, 54, 55])"
      ]
     },
     "execution_count": 24,
     "metadata": {},
     "output_type": "execute_result"
    }
   ],
   "source": [
    "np.arange(23, 56)"
   ]
  },
  {
   "cell_type": "markdown",
   "id": "e81124eb",
   "metadata": {},
   "source": [
    "# Task 2 (Creating a random numbers from 0 to 1 in a 3x6 shape)"
   ]
  },
  {
   "cell_type": "code",
   "execution_count": 29,
   "id": "805d6c8b",
   "metadata": {},
   "outputs": [
    {
     "data": {
      "text/plain": [
       "array([[0.90912227, 0.53261691, 0.10480459, 0.34085253, 0.34959503,\n",
       "        0.95265293],\n",
       "       [0.44635221, 0.03330385, 0.88604564, 0.34753873, 0.12317826,\n",
       "        0.34415794],\n",
       "       [0.17559239, 0.39805421, 0.83867944, 0.14670634, 0.20374925,\n",
       "        0.70140399]])"
      ]
     },
     "execution_count": 29,
     "metadata": {},
     "output_type": "execute_result"
    }
   ],
   "source": [
    "random_array = np.random.rand(3, 6)\n",
    "\n",
    "random_array"
   ]
  },
  {
   "cell_type": "markdown",
   "id": "a3ece5f7",
   "metadata": {},
   "source": [
    "# Array Indexing & Slicing"
   ]
  },
  {
   "cell_type": "code",
   "execution_count": 30,
   "id": "6e1a21da",
   "metadata": {},
   "outputs": [
    {
     "name": "stdout",
     "output_type": "stream",
     "text": [
      "[5 6 7 8 9]\n",
      "8\n",
      "8\n",
      "[6 7]\n",
      "[5 7 9]\n",
      "[ 5  6  7  8 15]\n",
      "[ 1  2  3  8 15]\n"
     ]
    }
   ],
   "source": [
    "arange_arr = np.arange(5, 10)\n",
    "print(arange_arr)\n",
    "\n",
    "print(arange_arr[3]) # 4th element as 0-base indexing\n",
    "print(arange_arr[-2]) # 2nd last element\n",
    "print(arange_arr[1:3]) # Last index is exculded\n",
    "print(arange_arr[::2])\n",
    "\n",
    "arange_arr[-1] = 15 # mutable\n",
    "print(arange_arr)\n",
    "arange_arr[0:3] = [1, 2, 3]\n",
    "print(arange_arr)"
   ]
  },
  {
   "cell_type": "code",
   "execution_count": 31,
   "id": "318661ce",
   "metadata": {},
   "outputs": [
    {
     "name": "stdout",
     "output_type": "stream",
     "text": [
      "[[ 0  1  2]\n",
      " [ 3  4  5]\n",
      " [ 6  7  8]\n",
      " [ 9 10 11]]\n",
      "[3 4 5]\n",
      "5\n",
      "5\n",
      "[[1 2]\n",
      " [4 5]]\n",
      "[[ 1  2]\n",
      " [ 4  5]\n",
      " [ 7  8]\n",
      " [10 11]]\n",
      "[[0 1]\n",
      " [3 4]\n",
      " [6 7]]\n",
      "[[ 3  5]\n",
      " [ 6  8]\n",
      " [ 9 11]]\n"
     ]
    }
   ],
   "source": [
    "arange_arr = np.arange(12)\n",
    "arange_arr.shape = (4,3)\n",
    "print(arange_arr)\n",
    "\n",
    "# arange_arr(row, col)  ---- Basic format\n",
    "print(arange_arr[1])\n",
    "print(arange_arr[1][2])\n",
    "print(arange_arr[1,2]) # alternative format of previous one\n",
    "print(arange_arr[0:2, 1:3])\n",
    "print(arange_arr[:, 1:3])\n",
    "print(arange_arr[0:3, :2])\n",
    "print(arange_arr[1:, [0, 2]]) # Indexing with an array of integers (discreat)"
   ]
  },
  {
   "cell_type": "markdown",
   "id": "cca7825f",
   "metadata": {},
   "source": [
    "# 2. Array Operations"
   ]
  },
  {
   "cell_type": "code",
   "execution_count": 32,
   "id": "bec0f18b",
   "metadata": {},
   "outputs": [
    {
     "data": {
      "text/plain": [
       "array([[12,  2,  6, 48],\n",
       "       [ 6,  3,  5, 73]])"
      ]
     },
     "execution_count": 32,
     "metadata": {},
     "output_type": "execute_result"
    }
   ],
   "source": [
    "sales = [[12, 2, 6, 48], [6, 3, 5, 73]]\n",
    "sales_array = np.array(sales)\n",
    "sales_array"
   ]
  },
  {
   "cell_type": "code",
   "execution_count": 33,
   "id": "d3bd3355",
   "metadata": {},
   "outputs": [
    {
     "data": {
      "text/plain": [
       "array([[14,  4,  8, 50],\n",
       "       [ 8,  5,  7, 75]])"
      ]
     },
     "execution_count": 33,
     "metadata": {},
     "output_type": "execute_result"
    }
   ],
   "source": [
    "sales_array + 2"
   ]
  },
  {
   "cell_type": "code",
   "execution_count": 34,
   "id": "94dab270",
   "metadata": {},
   "outputs": [
    {
     "data": {
      "text/plain": [
       "array([  72,    6,   30, 3504])"
      ]
     },
     "execution_count": 34,
     "metadata": {},
     "output_type": "execute_result"
    }
   ],
   "source": [
    "quanity = sales_array[0, :]\n",
    "price = sales_array[1, :]\n",
    "\n",
    "quanity * price"
   ]
  },
  {
   "cell_type": "markdown",
   "id": "d8e79d67",
   "metadata": {},
   "source": [
    "# Task 3 (designing a campaign: random discount for a product on given prices)"
   ]
  },
  {
   "cell_type": "code",
   "execution_count": 40,
   "id": "ed81fb8d",
   "metadata": {},
   "outputs": [
    {
     "name": "stdout",
     "output_type": "stream",
     "text": [
      "Original Prices: [10 20 30 40 50 60]\n",
      "Prices with Shipping: [15 25 35 45 55 65]\n",
      "Random Discounts: [0.0509455  0.09147054 0.06250691 0.06390241 0.08207095 0.13699011]\n",
      "Discounted Prices: [14.23581745 22.71323658 32.81225829 42.1243914  50.48609774 56.09564288]\n",
      "Final Prices: [14.24 22.71 32.81 42.12 50.49 56.1 ]\n"
     ]
    }
   ],
   "source": [
    "# Given prices\n",
    "prices = np.array([10, 20, 30, 40, 50, 60])\n",
    "\n",
    "# Add flat $5 shipping cost for every product\n",
    "prices_with_shipping = prices + 5\n",
    "\n",
    "# Generate a random discount for every product\n",
    "random_discounts = np.random.uniform(0.05, 0.15, len(prices))  # Example: random discount between 5% and 15%\n",
    "\n",
    "# Calculate the discounted price\n",
    "discounted_prices = prices_with_shipping * (1 - random_discounts)\n",
    "\n",
    "# Round the result to 2 digits\n",
    "final_prices = np.round(discounted_prices, 2)\n",
    "\n",
    "# Print the results\n",
    "print(\"Original Prices:\", prices)\n",
    "print(\"Prices with Shipping:\", prices_with_shipping)\n",
    "print(\"Random Discounts:\", random_discounts)\n",
    "print(\"Discounted Prices:\", discounted_prices)\n",
    "print(\"Final Prices:\", final_prices)\n"
   ]
  },
  {
   "cell_type": "code",
   "execution_count": 41,
   "id": "0708d537",
   "metadata": {},
   "outputs": [
    {
     "data": {
      "text/plain": [
       "array([False,  True,  True,  True,  True,  True])"
      ]
     },
     "execution_count": 41,
     "metadata": {},
     "output_type": "execute_result"
    }
   ],
   "source": [
    "prices >= 20"
   ]
  },
  {
   "cell_type": "code",
   "execution_count": 42,
   "id": "d049072a",
   "metadata": {},
   "outputs": [
    {
     "data": {
      "text/plain": [
       "array([20, 30, 40, 50, 60])"
      ]
     },
     "execution_count": 42,
     "metadata": {},
     "output_type": "execute_result"
    }
   ],
   "source": [
    "prices[prices >= 20]"
   ]
  },
  {
   "cell_type": "code",
   "execution_count": 44,
   "id": "7792d0c9",
   "metadata": {},
   "outputs": [
    {
     "data": {
      "text/plain": [
       "array([20, 30, 40, 50])"
      ]
     },
     "execution_count": 44,
     "metadata": {},
     "output_type": "execute_result"
    }
   ],
   "source": [
    "prices[(prices >= 20) & (prices <= 50)]"
   ]
  },
  {
   "cell_type": "code",
   "execution_count": 45,
   "id": "d8c68023",
   "metadata": {},
   "outputs": [
    {
     "name": "stdout",
     "output_type": "stream",
     "text": [
      "[10 20  0 40  0 60]\n"
     ]
    }
   ],
   "source": [
    "# You can modify array values by assigning new ones\n",
    "prices[2] = 0\n",
    "prices[4] = 0\n",
    "print(prices)"
   ]
  },
  {
   "cell_type": "code",
   "execution_count": 46,
   "id": "ce30efb0",
   "metadata": {},
   "outputs": [
    {
     "data": {
      "text/plain": [
       "array([10, 20,  8, 40,  8, 60])"
      ]
     },
     "execution_count": 46,
     "metadata": {},
     "output_type": "execute_result"
    }
   ],
   "source": [
    "prices[prices == 0] = 8\n",
    "prices"
   ]
  },
  {
   "cell_type": "code",
   "execution_count": 47,
   "id": "439b7c35",
   "metadata": {},
   "outputs": [],
   "source": [
    "inventory_array = np.array([23, 67, 0, 4, 65, 0])\n",
    "product_array = np.array([\"apple\", \"orange\", \"mango\", \"banana\", \"grape\", \"pineapple\"])"
   ]
  },
  {
   "cell_type": "code",
   "execution_count": 48,
   "id": "bc6ad126",
   "metadata": {},
   "outputs": [
    {
     "data": {
      "text/plain": [
       "array(['Stock available', 'Stock available', 'out of stock',\n",
       "       'Stock available', 'Stock available', 'out of stock'], dtype='<U15')"
      ]
     },
     "execution_count": 48,
     "metadata": {},
     "output_type": "execute_result"
    }
   ],
   "source": [
    "np.where(inventory_array <= 0, \"out of stock\", \"Stock available\")"
   ]
  },
  {
   "cell_type": "code",
   "execution_count": 49,
   "id": "3d777ef0",
   "metadata": {},
   "outputs": [
    {
     "data": {
      "text/plain": [
       "array(['apple', 'orange', 'out of stock', 'banana', 'grape',\n",
       "       'out of stock'], dtype='<U12')"
      ]
     },
     "execution_count": 49,
     "metadata": {},
     "output_type": "execute_result"
    }
   ],
   "source": [
    "np.where(inventory_array <= 0, \"out of stock\", product_array)"
   ]
  },
  {
   "cell_type": "markdown",
   "id": "4b921433",
   "metadata": {},
   "source": [
    "# Task 4(filtered_prices, fancy_feast_special, shipping_cost)"
   ]
  },
  {
   "cell_type": "code",
   "execution_count": 60,
   "id": "0ecc508a",
   "metadata": {},
   "outputs": [
    {
     "data": {
      "text/plain": [
       "array([30, 40, 50, 60])"
      ]
     },
     "execution_count": 60,
     "metadata": {},
     "output_type": "execute_result"
    }
   ],
   "source": [
    "filtered_prices = prices[prices > 25]\n",
    "\n",
    "filtered_prices"
   ]
  },
  {
   "cell_type": "code",
   "execution_count": 61,
   "id": "42aec8f8",
   "metadata": {},
   "outputs": [
    {
     "data": {
      "text/plain": [
       "array(['pepsi', 30, 40, 50, 60], dtype=object)"
      ]
     },
     "execution_count": 61,
     "metadata": {},
     "output_type": "execute_result"
    }
   ],
   "source": [
    "fancy_feast_special = np.insert(filtered_prices.astype(object), 0, \"pepsi\")\n",
    "\n",
    "fancy_feast_special\n"
   ]
  },
  {
   "cell_type": "code",
   "execution_count": 62,
   "id": "5f128688",
   "metadata": {},
   "outputs": [
    {
     "data": {
      "text/plain": [
       "array([0, 0, 0, 0])"
      ]
     },
     "execution_count": 62,
     "metadata": {},
     "output_type": "execute_result"
    }
   ],
   "source": [
    "shipping_cost = np.where(filtered_prices > 20, 0, 5)\n",
    "\n",
    "shipping_cost"
   ]
  },
  {
   "cell_type": "markdown",
   "id": "686da6b3",
   "metadata": {},
   "source": [
    "# Array aggregation methods let you calculate metrics like sum, mean, and max"
   ]
  },
  {
   "cell_type": "code",
   "execution_count": 63,
   "id": "66f9318e",
   "metadata": {},
   "outputs": [
    {
     "data": {
      "text/plain": [
       "array([23, 67,  0,  4, 65,  0])"
      ]
     },
     "execution_count": 63,
     "metadata": {},
     "output_type": "execute_result"
    }
   ],
   "source": [
    "inventory_array"
   ]
  },
  {
   "cell_type": "code",
   "execution_count": 64,
   "id": "40af3a8f",
   "metadata": {},
   "outputs": [
    {
     "name": "stdout",
     "output_type": "stream",
     "text": [
      "67\n",
      "0\n",
      "26.5\n",
      "159\n"
     ]
    }
   ],
   "source": [
    "print(inventory_array.max())\n",
    "print(inventory_array.min())\n",
    "print(inventory_array.mean())\n",
    "print(inventory_array.sum())"
   ]
  },
  {
   "cell_type": "code",
   "execution_count": 65,
   "id": "4e4afd40",
   "metadata": {},
   "outputs": [
    {
     "name": "stdout",
     "output_type": "stream",
     "text": [
      "[65 67 23 67]\n",
      "[67 67]\n",
      "[88 67 23 71]\n",
      "[ 94 155]\n"
     ]
    }
   ],
   "source": [
    "# 2x4 inventory array\n",
    "inventory_array = np.array([[23, 67, 0, 4], [65, 0, 23, 67]])\n",
    "print(inventory_array.max(axis=0)) # aggregate along the row\n",
    "print(inventory_array.max(axis=1)) # aggregate along the columns\n",
    "\n",
    "print(inventory_array.sum(axis=0)) # aggregate along the row\n",
    "print(inventory_array.sum(axis=1)) # aggregate along the columns"
   ]
  },
  {
   "cell_type": "code",
   "execution_count": 66,
   "id": "e555f100",
   "metadata": {},
   "outputs": [
    {
     "data": {
      "text/plain": [
       "23.0"
      ]
     },
     "execution_count": 66,
     "metadata": {},
     "output_type": "execute_result"
    }
   ],
   "source": [
    "np.median(inventory_array)"
   ]
  },
  {
   "cell_type": "code",
   "execution_count": 67,
   "id": "f5689963",
   "metadata": {},
   "outputs": [
    {
     "data": {
      "text/plain": [
       "65.5"
      ]
     },
     "execution_count": 67,
     "metadata": {},
     "output_type": "execute_result"
    }
   ],
   "source": [
    "np.percentile(inventory_array, 75)"
   ]
  },
  {
   "cell_type": "code",
   "execution_count": 68,
   "id": "bb796dac",
   "metadata": {},
   "outputs": [
    {
     "data": {
      "text/plain": [
       "array([ 0,  4, 23, 65, 67])"
      ]
     },
     "execution_count": 68,
     "metadata": {},
     "output_type": "execute_result"
    }
   ],
   "source": [
    "np.unique(inventory_array)"
   ]
  },
  {
   "cell_type": "code",
   "execution_count": 71,
   "id": "5216937e",
   "metadata": {},
   "outputs": [
    {
     "data": {
      "text/plain": [
       "array([[4.79583152, 8.18535277, 0.        , 2.        ],\n",
       "       [8.06225775, 0.        , 4.79583152, 8.18535277]])"
      ]
     },
     "execution_count": 71,
     "metadata": {},
     "output_type": "execute_result"
    }
   ],
   "source": [
    "np.sqrt(inventory_array)"
   ]
  },
  {
   "cell_type": "markdown",
   "id": "40a4af24",
   "metadata": {},
   "source": [
    "The sort() method will sort arrays in place\n",
    "Use the axis argument to specify the dimension to sort by"
   ]
  },
  {
   "cell_type": "code",
   "execution_count": 72,
   "id": "f3b3d802",
   "metadata": {},
   "outputs": [
    {
     "data": {
      "text/plain": [
       "array([[23, 67,  0,  4],\n",
       "       [65,  0, 23, 67]])"
      ]
     },
     "execution_count": 72,
     "metadata": {},
     "output_type": "execute_result"
    }
   ],
   "source": [
    "inventory_array"
   ]
  },
  {
   "cell_type": "code",
   "execution_count": 73,
   "id": "62c7970a",
   "metadata": {},
   "outputs": [
    {
     "data": {
      "text/plain": [
       "array([[ 0,  4, 23, 67],\n",
       "       [ 0, 23, 65, 67]])"
      ]
     },
     "execution_count": 73,
     "metadata": {},
     "output_type": "execute_result"
    }
   ],
   "source": [
    "inventory_array.sort()\n",
    "inventory_array"
   ]
  },
  {
   "cell_type": "code",
   "execution_count": 74,
   "id": "ccb9bb3c",
   "metadata": {},
   "outputs": [
    {
     "data": {
      "text/plain": [
       "array([[ 0,  4, 23, 67],\n",
       "       [ 0, 23, 65, 67]])"
      ]
     },
     "execution_count": 74,
     "metadata": {},
     "output_type": "execute_result"
    }
   ],
   "source": [
    "inventory_array.sort(axis=0)\n",
    "inventory_array"
   ]
  },
  {
   "cell_type": "code",
   "execution_count": 75,
   "id": "91f34f09",
   "metadata": {},
   "outputs": [
    {
     "data": {
      "text/plain": [
       "array([[ 0,  4, 23, 67],\n",
       "       [ 0, 23, 65, 67]])"
      ]
     },
     "execution_count": 75,
     "metadata": {},
     "output_type": "execute_result"
    }
   ],
   "source": [
    "inventory_array.sort(axis=1)\n",
    "inventory_array"
   ]
  },
  {
   "cell_type": "markdown",
   "id": "aab8fa9d",
   "metadata": {},
   "source": [
    "# 3. Copy & View"
   ]
  },
  {
   "cell_type": "code",
   "execution_count": 76,
   "id": "f6d4549b",
   "metadata": {},
   "outputs": [
    {
     "name": "stdout",
     "output_type": "stream",
     "text": [
      "Original: [0 1 2 3 4 5 6 7 8 9]\n",
      "Copied: [0 1 2 3 4 5 6 7 8 9]\n"
     ]
    }
   ],
   "source": [
    "original_arr = np.arange(10)\n",
    "print(\"Original:\", original_arr)\n",
    "\n",
    "copied_arr = original_arr\n",
    "print(\"Copied:\", copied_arr)"
   ]
  },
  {
   "cell_type": "code",
   "execution_count": 77,
   "id": "07195ad5",
   "metadata": {},
   "outputs": [
    {
     "name": "stdout",
     "output_type": "stream",
     "text": [
      "1879149078320\n"
     ]
    }
   ],
   "source": [
    "### Same or Different\n",
    "#reference equilaty\n",
    "original_arr is copied_arr\n",
    "print(id(original_arr))"
   ]
  },
  {
   "cell_type": "code",
   "execution_count": 78,
   "id": "9cd32157",
   "metadata": {},
   "outputs": [
    {
     "data": {
      "text/plain": [
       "array([3, 1, 2, 3, 4, 5, 6, 7, 8, 9])"
      ]
     },
     "execution_count": 78,
     "metadata": {},
     "output_type": "execute_result"
    }
   ],
   "source": [
    "#value equality\n",
    "original_arr == copied_arr\n",
    "copied_arr[0] = 3\n",
    "original_arr"
   ]
  },
  {
   "cell_type": "code",
   "execution_count": 79,
   "id": "8977a2fb",
   "metadata": {},
   "outputs": [
    {
     "data": {
      "text/plain": [
       "True"
      ]
     },
     "execution_count": 79,
     "metadata": {},
     "output_type": "execute_result"
    }
   ],
   "source": [
    "np.may_share_memory(original_arr, copied_arr)"
   ]
  },
  {
   "cell_type": "code",
   "execution_count": 80,
   "id": "c2c54a6f",
   "metadata": {},
   "outputs": [
    {
     "name": "stdout",
     "output_type": "stream",
     "text": [
      "Before Chaning:\n",
      "[[88 91 82]\n",
      " [89 95 85]]\n",
      "[88 91 82 89 95 85]\n",
      "After Changing:\n",
      "[[88 91 82]\n",
      " [89 95 93]]\n",
      "[88 91 82 89 95 93]\n"
     ]
    }
   ],
   "source": [
    "### View\n",
    "raw_marks = np.array([88, 91, 82, 89, 95, 85])\n",
    "final_marks = raw_marks.view()\n",
    "final_marks.shape = (2, 3)\n",
    "print(\"Before Chaning:\")\n",
    "print(final_marks)\n",
    "print(raw_marks)\n",
    "final_marks[1,2] = 93\n",
    "print(\"After Changing:\")\n",
    "print(final_marks)\n",
    "print(raw_marks)"
   ]
  },
  {
   "cell_type": "code",
   "execution_count": 81,
   "id": "41526f9f",
   "metadata": {},
   "outputs": [
    {
     "data": {
      "text/plain": [
       "True"
      ]
     },
     "execution_count": 81,
     "metadata": {},
     "output_type": "execute_result"
    }
   ],
   "source": [
    "np.may_share_memory(raw_marks, final_marks)"
   ]
  },
  {
   "cell_type": "code",
   "execution_count": 82,
   "id": "9c9986ec",
   "metadata": {},
   "outputs": [
    {
     "name": "stdout",
     "output_type": "stream",
     "text": [
      "[[88 91 82]\n",
      " [89 95 85]]\n"
     ]
    },
    {
     "data": {
      "text/plain": [
       "False"
      ]
     },
     "execution_count": 82,
     "metadata": {},
     "output_type": "execute_result"
    }
   ],
   "source": [
    "### Copy\n",
    "raw_marks = np.array([88, 91, 82, 89, 95, 85])\n",
    "#final_marks = raw_marks.copy()\n",
    "final_marks = np.copy(raw_marks)\n",
    "final_marks.shape = (2, 3)\n",
    "print(final_marks)\n",
    "np.may_share_memory(raw_marks, final_marks)"
   ]
  },
  {
   "cell_type": "markdown",
   "id": "f3e05b64",
   "metadata": {},
   "source": [
    "# 5. Broadcasting "
   ]
  },
  {
   "cell_type": "code",
   "execution_count": 83,
   "id": "1c115a01",
   "metadata": {},
   "outputs": [],
   "source": [
    "import numpy as np"
   ]
  },
  {
   "cell_type": "code",
   "execution_count": 84,
   "id": "b38295e1",
   "metadata": {},
   "outputs": [
    {
     "data": {
      "text/plain": [
       "array([ 4,  6,  8, 10, 12, 14])"
      ]
     },
     "execution_count": 84,
     "metadata": {},
     "output_type": "execute_result"
    }
   ],
   "source": [
    "a = np.arange(4, 15, 2)\n",
    "a"
   ]
  },
  {
   "cell_type": "code",
   "execution_count": 85,
   "id": "344c60cc",
   "metadata": {},
   "outputs": [
    {
     "data": {
      "text/plain": [
       "(6,)"
      ]
     },
     "execution_count": 85,
     "metadata": {},
     "output_type": "execute_result"
    }
   ],
   "source": [
    "a.shape"
   ]
  },
  {
   "cell_type": "code",
   "execution_count": 86,
   "id": "de8d65e0",
   "metadata": {},
   "outputs": [
    {
     "data": {
      "text/plain": [
       "array([12. , 20.8, 29.6, 38.4, 47.2, 56. ])"
      ]
     },
     "execution_count": 86,
     "metadata": {},
     "output_type": "execute_result"
    }
   ],
   "source": [
    "b = np.linspace(12, 56, 6)\n",
    "b"
   ]
  },
  {
   "cell_type": "code",
   "execution_count": 87,
   "id": "28e5cb93",
   "metadata": {},
   "outputs": [
    {
     "data": {
      "text/plain": [
       "array([16. , 26.8, 37.6, 48.4, 59.2, 70. ])"
      ]
     },
     "execution_count": 87,
     "metadata": {},
     "output_type": "execute_result"
    }
   ],
   "source": [
    "a + b"
   ]
  },
  {
   "cell_type": "code",
   "execution_count": 88,
   "id": "6f859913",
   "metadata": {},
   "outputs": [
    {
     "data": {
      "text/plain": [
       "array([ 3. , 15.5, 28. , 40.5, 53. , 65.5, 78. ])"
      ]
     },
     "execution_count": 88,
     "metadata": {},
     "output_type": "execute_result"
    }
   ],
   "source": [
    "c = np.linspace(3, 78, 7)\n",
    "c"
   ]
  },
  {
   "cell_type": "code",
   "execution_count": 89,
   "id": "928b4941",
   "metadata": {},
   "outputs": [
    {
     "data": {
      "text/plain": [
       "array([[ 3. ],\n",
       "       [15.5],\n",
       "       [28. ],\n",
       "       [40.5],\n",
       "       [53. ],\n",
       "       [65.5],\n",
       "       [78. ]])"
      ]
     },
     "execution_count": 89,
     "metadata": {},
     "output_type": "execute_result"
    }
   ],
   "source": [
    "c[:, np.newaxis]"
   ]
  },
  {
   "cell_type": "code",
   "execution_count": 90,
   "id": "919b46e9",
   "metadata": {},
   "outputs": [
    {
     "data": {
      "text/plain": [
       "(1, 7)"
      ]
     },
     "execution_count": 90,
     "metadata": {},
     "output_type": "execute_result"
    }
   ],
   "source": [
    "c[np.newaxis, :].shape"
   ]
  },
  {
   "cell_type": "code",
   "execution_count": 91,
   "id": "cc2a921b",
   "metadata": {},
   "outputs": [
    {
     "data": {
      "text/plain": [
       "array([[[ 0,  1,  2,  3,  4],\n",
       "        [ 5,  6,  7,  8,  9],\n",
       "        [10, 11, 12, 13, 14],\n",
       "        [15, 16, 17, 18, 19],\n",
       "        [20, 21, 22, 23, 24],\n",
       "        [25, 26, 27, 28, 29],\n",
       "        [30, 31, 32, 33, 34]],\n",
       "\n",
       "       [[35, 36, 37, 38, 39],\n",
       "        [40, 41, 42, 43, 44],\n",
       "        [45, 46, 47, 48, 49],\n",
       "        [50, 51, 52, 53, 54],\n",
       "        [55, 56, 57, 58, 59],\n",
       "        [60, 61, 62, 63, 64],\n",
       "        [65, 66, 67, 68, 69]]])"
      ]
     },
     "execution_count": 91,
     "metadata": {},
     "output_type": "execute_result"
    }
   ],
   "source": [
    "my_3D_arr = np.arange(70).reshape((2,7,5))\n",
    "my_3D_arr"
   ]
  },
  {
   "cell_type": "code",
   "execution_count": 92,
   "id": "ff7bf45f",
   "metadata": {},
   "outputs": [
    {
     "data": {
      "text/plain": [
       "3"
      ]
     },
     "execution_count": 92,
     "metadata": {},
     "output_type": "execute_result"
    }
   ],
   "source": [
    "my_3D_arr.ndim"
   ]
  },
  {
   "cell_type": "code",
   "execution_count": 93,
   "id": "056426e7",
   "metadata": {},
   "outputs": [
    {
     "data": {
      "text/plain": [
       "array([[[ -3,   0,   3,   6,   9],\n",
       "        [ 12,  15,  18,  21,  24],\n",
       "        [ 27,  30,  33,  36,  39],\n",
       "        [ 42,  45,  48,  51,  54],\n",
       "        [ 57,  60,  63,  66,  69],\n",
       "        [ 72,  75,  78,  81,  84],\n",
       "        [ 87,  90,  93,  96,  99]],\n",
       "\n",
       "       [[102, 105, 108, 111, 114],\n",
       "        [117, 120, 123, 126, 129],\n",
       "        [132, 135, 138, 141, 144],\n",
       "        [147, 150, 153, 156, 159],\n",
       "        [162, 165, 168, 171, 174],\n",
       "        [177, 180, 183, 186, 189],\n",
       "        [192, 195, 198, 201, 204]]])"
      ]
     },
     "execution_count": 93,
     "metadata": {},
     "output_type": "execute_result"
    }
   ],
   "source": [
    "my_3D_arr * 3 - 3"
   ]
  },
  {
   "cell_type": "markdown",
   "id": "e4e32692",
   "metadata": {},
   "source": [
    "# Arrays with smaller dimension are broadcasted to match the larger arrays without copying data."
   ]
  },
  {
   "cell_type": "code",
   "execution_count": 94,
   "id": "2db7e999",
   "metadata": {},
   "outputs": [
    {
     "name": "stdout",
     "output_type": "stream",
     "text": [
      "[ 0 10 20 30]\n",
      "[0 1 2]\n",
      "[[ 0  1  2]\n",
      " [10 11 12]\n",
      " [20 21 22]\n",
      " [30 31 32]]\n"
     ]
    }
   ],
   "source": [
    "a = np.arange(0,31,10)\n",
    "b = np.arange(0, 3)\n",
    "print(a)\n",
    "print(b)\n",
    "print(a[:, np.newaxis] + b)\n",
    "# print(b[np.newaxis, :] + a[:, np.newaxis])\n",
    "# print(a[np.newaxis, :] + b[:, np.newaxis])"
   ]
  },
  {
   "cell_type": "code",
   "execution_count": 95,
   "id": "0a29836b",
   "metadata": {},
   "outputs": [
    {
     "data": {
      "text/plain": [
       "array([[ 0,  1,  2],\n",
       "       [10, 11, 12],\n",
       "       [20, 21, 22],\n",
       "       [30, 31, 32]])"
      ]
     },
     "execution_count": 95,
     "metadata": {},
     "output_type": "execute_result"
    }
   ],
   "source": [
    "a[:, np.newaxis] + b # a -> (4,1); b -> (3,)"
   ]
  },
  {
   "cell_type": "code",
   "execution_count": 96,
   "id": "7a39ab30",
   "metadata": {},
   "outputs": [
    {
     "data": {
      "text/plain": [
       "array([[4, 5],\n",
       "       [5, 6],\n",
       "       [6, 7]])"
      ]
     },
     "execution_count": 96,
     "metadata": {},
     "output_type": "execute_result"
    }
   ],
   "source": [
    "x = np.array([1, 2])\n",
    "y = np.array([3, 4, 5])\n",
    "z = x[np.newaxis, :] + y[:, np.newaxis]\n",
    "z"
   ]
  },
  {
   "cell_type": "markdown",
   "id": "89d7fd47",
   "metadata": {},
   "source": [
    "# An application: Distance from center"
   ]
  },
  {
   "cell_type": "code",
   "execution_count": 97,
   "id": "47675241",
   "metadata": {},
   "outputs": [
    {
     "data": {
      "image/png": "[encoded data removed]",
      "text/plain": [
       "<Figure size 640x480 with 2 Axes>"
      ]
     },
     "metadata": {},
     "output_type": "display_data"
    }
   ],
   "source": [
    "import matplotlib.pyplot as plt\n",
    "%matplotlib inline\n",
    "a = np.linspace(0, 1, 15) - 0.5\n",
    "b = a[:, np.newaxis] # b.shape == (15, 1)\n",
    "dist2 = a**2 + b**2 # broadcasting sum.\n",
    "dist = np.sqrt(dist2)\n",
    "plt.imshow(dist)\n",
    "plt.colorbar();"
   ]
  },
  {
   "cell_type": "code",
   "execution_count": 98,
   "id": "e55f0a6f",
   "metadata": {},
   "outputs": [
    {
     "data": {
      "text/plain": [
       "(array([0.        , 0.07142857, 0.14285714, 0.21428571, 0.28571429,\n",
       "        0.35714286, 0.42857143, 0.5       , 0.57142857, 0.64285714,\n",
       "        0.71428571, 0.78571429, 0.85714286, 0.92857143, 1.        ]),\n",
       " 0.07142857142857142)"
      ]
     },
     "execution_count": 98,
     "metadata": {},
     "output_type": "execute_result"
    }
   ],
   "source": [
    "x = np.linspace(0, 1, 15, retstep=True)\n",
    "x"
   ]
  },
  {
   "cell_type": "code",
   "execution_count": 99,
   "id": "2fd22ef6",
   "metadata": {},
   "outputs": [
    {
     "name": "stdout",
     "output_type": "stream",
     "text": [
      "(15, 1) (1, 15)\n"
     ]
    },
    {
     "data": {
      "text/plain": [
       "(array([[-0.5 ],\n",
       "        [-0.43],\n",
       "        [-0.36],\n",
       "        [-0.29],\n",
       "        [-0.22],\n",
       "        [-0.15],\n",
       "        [-0.08],\n",
       "        [-0.01],\n",
       "        [ 0.06],\n",
       "        [ 0.13],\n",
       "        [ 0.2 ],\n",
       "        [ 0.27],\n",
       "        [ 0.34],\n",
       "        [ 0.41],\n",
       "        [ 0.48]]),\n",
       " array([[-0.5 , -0.43, -0.36, -0.29, -0.22, -0.15, -0.08, -0.01,  0.06,\n",
       "          0.13,  0.2 ,  0.27,  0.34,  0.41,  0.48]]))"
      ]
     },
     "execution_count": 99,
     "metadata": {},
     "output_type": "execute_result"
    }
   ],
   "source": [
    "a, b = np.ogrid[0:1:0.07, 0:1:0.07]\n",
    "print(a.shape, b.shape)\n",
    "a -= 0.5\n",
    "b -= 0.5\n",
    "a, b"
   ]
  },
  {
   "cell_type": "code",
   "execution_count": 100,
   "id": "8673e355",
   "metadata": {},
   "outputs": [
    {
     "data": {
      "image/png": "[encoded data removed]",
      "text/plain": [
       "<Figure size 640x480 with 2 Axes>"
      ]
     },
     "metadata": {},
     "output_type": "display_data"
    }
   ],
   "source": [
    "dist2 = a**2 + b**2 # broadcasting sum.\n",
    "dist = np.sqrt(dist2)\n",
    "plt.imshow(dist)\n",
    "plt.colorbar();"
   ]
  },
  {
   "cell_type": "markdown",
   "id": "1f70f927",
   "metadata": {},
   "source": [
    "# 6. Structure & Record arrays"
   ]
  },
  {
   "cell_type": "code",
   "execution_count": 101,
   "id": "c7ec8f04",
   "metadata": {},
   "outputs": [
    {
     "data": {
      "text/plain": [
       "[('name', 'S6'), ('height', 'f8'), ('weight', 'f8'), ('age', 'i8')]"
      ]
     },
     "execution_count": 101,
     "metadata": {},
     "output_type": "execute_result"
    }
   ],
   "source": [
    "person_data_def = [('name','S6'),('height','f8'),('weight','f8'), ('age', 'i8')]\n",
    "person_data_def"
   ]
  },
  {
   "cell_type": "code",
   "execution_count": 102,
   "id": "5e2049d2",
   "metadata": {},
   "outputs": [
    {
     "data": {
      "text/plain": [
       "array([(b'', 0., 0., 0), (b'', 0., 0., 0), (b'', 0., 0., 0),\n",
       "       (b'', 0., 0., 0)],\n",
       "      dtype=[('name', 'S6'), ('height', '<f8'), ('weight', '<f8'), ('age', '<i8')])"
      ]
     },
     "execution_count": 102,
     "metadata": {},
     "output_type": "execute_result"
    }
   ],
   "source": [
    "people_array = np.zeros((4,), dtype=person_data_def)\n",
    "people_array"
   ]
  },
  {
   "cell_type": "code",
   "execution_count": 103,
   "id": "6efc52a9",
   "metadata": {},
   "outputs": [
    {
     "data": {
      "text/plain": [
       "array([(b'Alpha', 65., 112., 23), (b'',  0.,   0.,  0),\n",
       "       (b'',  0.,   0.,  0), (b'Delta', 73., 205., 34)],\n",
       "      dtype=[('name', 'S6'), ('height', '<f8'), ('weight', '<f8'), ('age', '<i8')])"
      ]
     },
     "execution_count": 103,
     "metadata": {},
     "output_type": "execute_result"
    }
   ],
   "source": [
    "people_array[3] = ('Delta', 73, 205, 34)\n",
    "people_array[0] = ('Alpha', 65, 112, 23)\n",
    "people_array"
   ]
  },
  {
   "cell_type": "code",
   "execution_count": 104,
   "id": "843cd309",
   "metadata": {},
   "outputs": [
    {
     "data": {
      "text/plain": [
       "array([(b'Alpha', 65., 112., 23), (b'',  0.,   0.,  0)],\n",
       "      dtype=[('name', 'S6'), ('height', '<f8'), ('weight', '<f8'), ('age', '<i8')])"
      ]
     },
     "execution_count": 104,
     "metadata": {},
     "output_type": "execute_result"
    }
   ],
   "source": [
    "people_array[0::2]"
   ]
  },
  {
   "cell_type": "code",
   "execution_count": 105,
   "id": "8866766a",
   "metadata": {},
   "outputs": [
    {
     "data": {
      "text/plain": [
       "array([23,  0,  0, 34], dtype=int64)"
      ]
     },
     "execution_count": 105,
     "metadata": {},
     "output_type": "execute_result"
    }
   ],
   "source": [
    "ages = people_array['age']\n",
    "ages"
   ]
  },
  {
   "cell_type": "code",
   "execution_count": 106,
   "id": "0da82bb8",
   "metadata": {},
   "outputs": [
    {
     "data": {
      "text/plain": [
       "array([11.5,  0. ,  0. , 17. ])"
      ]
     },
     "execution_count": 106,
     "metadata": {},
     "output_type": "execute_result"
    }
   ],
   "source": [
    "make_youthful = ages / 2\n",
    "make_youthful"
   ]
  },
  {
   "cell_type": "code",
   "execution_count": 107,
   "id": "b9c5d62c",
   "metadata": {},
   "outputs": [
    {
     "data": {
      "text/plain": [
       "array([(b'Alpha', 65., 112., 23), (b'',  0.,   0.,  0),\n",
       "       (b'',  0.,   0.,  0), (b'Delta', 73., 205., 34)],\n",
       "      dtype=[('name', 'S6'), ('height', '<f8'), ('weight', '<f8'), ('age', '<i8')])"
      ]
     },
     "execution_count": 107,
     "metadata": {},
     "output_type": "execute_result"
    }
   ],
   "source": [
    "people_array"
   ]
  },
  {
   "cell_type": "code",
   "execution_count": 108,
   "id": "81760eca",
   "metadata": {},
   "outputs": [
    {
     "data": {
      "text/plain": [
       "array([23,  0,  0, 34], dtype=int64)"
      ]
     },
     "execution_count": 108,
     "metadata": {},
     "output_type": "execute_result"
    }
   ],
   "source": [
    "ages"
   ]
  },
  {
   "cell_type": "markdown",
   "id": "940429a8",
   "metadata": {},
   "source": [
    "# Multidimentional Structed Array"
   ]
  },
  {
   "cell_type": "code",
   "execution_count": 109,
   "id": "750a1389",
   "metadata": {},
   "outputs": [
    {
     "data": {
      "text/plain": [
       "array([[[(b'1', 1., 1., 1), (b'1', 1., 1., 1)],\n",
       "        [(b'1', 1., 1., 1), (b'1', 1., 1., 1)],\n",
       "        [(b'1', 1., 1., 1), (b'1', 1., 1., 1)]],\n",
       "\n",
       "       [[(b'1', 1., 1., 1), (b'1', 1., 1., 1)],\n",
       "        [(b'1', 1., 1., 1), (b'1', 1., 1., 1)],\n",
       "        [(b'1', 1., 1., 1), (b'1', 1., 1., 1)]],\n",
       "\n",
       "       [[(b'1', 1., 1., 1), (b'1', 1., 1., 1)],\n",
       "        [(b'1', 1., 1., 1), (b'1', 1., 1., 1)],\n",
       "        [(b'1', 1., 1., 1), (b'1', 1., 1., 1)]],\n",
       "\n",
       "       [[(b'1', 1., 1., 1), (b'1', 1., 1., 1)],\n",
       "        [(b'1', 1., 1., 1), (b'1', 1., 1., 1)],\n",
       "        [(b'1', 1., 1., 1), (b'1', 1., 1., 1)]]],\n",
       "      dtype=[('name', 'S6'), ('height', '<f8'), ('weight', '<f8'), ('age', '<i8')])"
      ]
     },
     "execution_count": 109,
     "metadata": {},
     "output_type": "execute_result"
    }
   ],
   "source": [
    "people_big_array = np.ones((4,3,2), dtype=person_data_def)\n",
    "people_big_array"
   ]
  },
  {
   "cell_type": "code",
   "execution_count": 110,
   "id": "655a02d9",
   "metadata": {},
   "outputs": [
    {
     "data": {
      "text/plain": [
       "array([[[(b'1',  1.,   1.,  1), (b'1',  1.,   1.,  1)],\n",
       "        [(b'1',  1.,   1.,  1), (b'1',  1.,   1.,  1)],\n",
       "        [(b'1',  1.,   1.,  1), (b'1',  1.,   1.,  1)]],\n",
       "\n",
       "       [[(b'1',  1.,   1.,  1), (b'1',  1.,   1.,  1)],\n",
       "        [(b'1',  1.,   1.,  1), (b'1',  1.,   1.,  1)],\n",
       "        [(b'1',  1.,   1.,  1), (b'1',  1.,   1.,  1)]],\n",
       "\n",
       "       [[(b'1',  1.,   1.,  1), (b'1',  1.,   1.,  1)],\n",
       "        [(b'1',  1.,   1.,  1), (b'1',  1.,   1.,  1)],\n",
       "        [(b'1',  1.,   1.,  1), (b'1',  1.,   1.,  1)]],\n",
       "\n",
       "       [[(b'1',  1.,   1.,  1), (b'1',  1.,   1.,  1)],\n",
       "        [(b'1',  1.,   1.,  1), (b'1',  1.,   1.,  1)],\n",
       "        [(b'1',  1.,   1.,  1), (b'Echo', 68., 155., 46)]]],\n",
       "      dtype=[('name', 'S6'), ('height', '<f8'), ('weight', '<f8'), ('age', '<i8')])"
      ]
     },
     "execution_count": 110,
     "metadata": {},
     "output_type": "execute_result"
    }
   ],
   "source": [
    "people_big_array[3,2,1] = ('Echo', 68, 155, 46)\n",
    "people_big_array"
   ]
  },
  {
   "cell_type": "code",
   "execution_count": 112,
   "id": "1f95c0b7",
   "metadata": {},
   "outputs": [
    {
     "data": {
      "text/plain": [
       "array([[[ 1.,  1.],\n",
       "        [ 1.,  1.],\n",
       "        [ 1.,  1.]],\n",
       "\n",
       "       [[ 1.,  1.],\n",
       "        [ 1.,  1.],\n",
       "        [ 1.,  1.]],\n",
       "\n",
       "       [[ 1.,  1.],\n",
       "        [ 1.,  1.],\n",
       "        [ 1.,  1.]],\n",
       "\n",
       "       [[ 1.,  1.],\n",
       "        [ 1.,  1.],\n",
       "        [ 1., 68.]]])"
      ]
     },
     "execution_count": 112,
     "metadata": {},
     "output_type": "execute_result"
    }
   ],
   "source": [
    "people_big_array['height']"
   ]
  },
  {
   "cell_type": "code",
   "execution_count": 113,
   "id": "ba25515f",
   "metadata": {},
   "outputs": [
    {
     "data": {
      "text/plain": [
       "array([[[( 1.,   1.), ( 1.,   1.)],\n",
       "        [( 1.,   1.), ( 1.,   1.)],\n",
       "        [( 1.,   1.), ( 1.,   1.)]],\n",
       "\n",
       "       [[( 1.,   1.), ( 1.,   1.)],\n",
       "        [( 1.,   1.), ( 1.,   1.)],\n",
       "        [( 1.,   1.), ( 1.,   1.)]],\n",
       "\n",
       "       [[( 1.,   1.), ( 1.,   1.)],\n",
       "        [( 1.,   1.), ( 1.,   1.)],\n",
       "        [( 1.,   1.), ( 1.,   1.)]],\n",
       "\n",
       "       [[( 1.,   1.), ( 1.,   1.)],\n",
       "        [( 1.,   1.), ( 1.,   1.)],\n",
       "        [( 1.,   1.), (68., 155.)]]],\n",
       "      dtype={'names': ['height', 'weight'], 'formats': ['<f8', '<f8'], 'offsets': [6, 14], 'itemsize': 30})"
      ]
     },
     "execution_count": 113,
     "metadata": {},
     "output_type": "execute_result"
    }
   ],
   "source": [
    "people_big_array[['height', 'weight']]"
   ]
  },
  {
   "cell_type": "markdown",
   "id": "7482fd5a",
   "metadata": {},
   "source": [
    "# Creating Record Arrays"
   ]
  },
  {
   "cell_type": "code",
   "execution_count": 114,
   "id": "e3269b49",
   "metadata": {},
   "outputs": [
    {
     "data": {
      "text/plain": [
       "rec.array([(b'Delta', 73., 205., 34), (b'Alpha', 65., 112., 23)],\n",
       "          dtype=[('name', 'S6'), ('height', '<f8'), ('weight', '<f8'), ('age', '<i8')])"
      ]
     },
     "execution_count": 114,
     "metadata": {},
     "output_type": "execute_result"
    }
   ],
   "source": [
    "person_record_array = np.rec.array([('Delta', 73, 205, 34),('Alpha', 65, 112, 23)],dtype=person_data_def)\n",
    "person_record_array"
   ]
  },
  {
   "cell_type": "code",
   "execution_count": 115,
   "id": "251cace4",
   "metadata": {},
   "outputs": [
    {
     "data": {
      "text/plain": [
       "34"
      ]
     },
     "execution_count": 115,
     "metadata": {},
     "output_type": "execute_result"
    }
   ],
   "source": [
    "person_record_array[0].age"
   ]
  },
  {
   "cell_type": "code",
   "execution_count": 116,
   "id": "66ae55e6",
   "metadata": {},
   "outputs": [
    {
     "data": {
      "text/plain": [
       "array([34, 23], dtype=int64)"
      ]
     },
     "execution_count": 116,
     "metadata": {},
     "output_type": "execute_result"
    }
   ],
   "source": [
    "person_record_array.age"
   ]
  },
  {
   "cell_type": "markdown",
   "id": "4718124b",
   "metadata": {},
   "source": [
    "# 7. Array Calculation"
   ]
  },
  {
   "cell_type": "code",
   "execution_count": 117,
   "id": "99ed0a23",
   "metadata": {},
   "outputs": [],
   "source": [
    "import numpy as np"
   ]
  },
  {
   "cell_type": "code",
   "execution_count": 118,
   "id": "d98ee1b1",
   "metadata": {},
   "outputs": [
    {
     "data": {
      "text/plain": [
       "array([[ 0,  1,  2,  3],\n",
       "       [ 4,  5,  6,  7],\n",
       "       [ 8,  9, 10, 11]])"
      ]
     },
     "execution_count": 118,
     "metadata": {},
     "output_type": "execute_result"
    }
   ],
   "source": [
    "arange_arr = np.arange(12).reshape(3,4)\n",
    "arange_arr"
   ]
  },
  {
   "cell_type": "code",
   "execution_count": 119,
   "id": "64343471",
   "metadata": {},
   "outputs": [
    {
     "name": "stdout",
     "output_type": "stream",
     "text": [
      "66\n",
      "Column-sum: [12 15 18 21]\n",
      "Row-sum: [ 6 22 38]\n"
     ]
    }
   ],
   "source": [
    "# sum\n",
    "print(arange_arr.sum()) # alternative: np.sum(a)\n",
    "print(\"Column-sum:\", arange_arr.sum(axis=0)) # column-sum\n",
    "print(\"Row-sum:\", arange_arr.sum(axis=1)) # row-sum"
   ]
  },
  {
   "cell_type": "code",
   "execution_count": 120,
   "id": "e7874b5d",
   "metadata": {},
   "outputs": [
    {
     "name": "stdout",
     "output_type": "stream",
     "text": [
      "Array:\n",
      " [[23 10 18 38 42]\n",
      " [ 7 48  3 17 23]\n",
      " [42 21 29 13  5]]\n",
      "Min: 3\n",
      "Max: 48\n",
      "Column-min: [ 7 10  3 13  5]\n",
      "Row-min: [10  3  5]\n",
      "Column-max: [42 48 29 38 42]\n",
      "Row-max: [42 48 42]\n",
      "Column-min-index: [1 0 1 2 2]\n",
      "Row-min-index: [1 2 4]\n",
      "Column-max-index: [2 1 2 0 0]\n",
      "Row-max-index: [4 1 0]\n"
     ]
    }
   ],
   "source": [
    "#min/max\n",
    "rand_arr = np.random.randint(1, 50, size=15).reshape(3,5)\n",
    "print(\"Array:\\n\", rand_arr)\n",
    "print(\"Min:\", rand_arr.min())\n",
    "print(\"Max:\", rand_arr.max())\n",
    "\n",
    "print(\"Column-min:\", np.min(rand_arr, axis=0)) # column-min\n",
    "print(\"Row-min:\", np.min(rand_arr, axis=1)) #row-min\n",
    "\n",
    "print(\"Column-max:\", np.max(rand_arr, axis=0)) #column-max\n",
    "print(\"Row-max:\", np.max(rand_arr, axis=1)) #row-max\n",
    "\n",
    "print(\"Column-min-index:\", np.argmin(rand_arr, axis=0)) # column-min\n",
    "print(\"Row-min-index:\", np.argmin(rand_arr, axis=1)) #row-min\n",
    "\n",
    "print(\"Column-max-index:\", np.argmax(rand_arr, axis=0)) #column-max\n",
    "print(\"Row-max-index:\", np.argmax(rand_arr, axis=1)) #row-max"
   ]
  },
  {
   "cell_type": "code",
   "execution_count": 121,
   "id": "d7ea8fc6",
   "metadata": {},
   "outputs": [
    {
     "name": "stdout",
     "output_type": "stream",
     "text": [
      "Original Array:\n",
      " [[23 10 18 38 42]\n",
      " [ 7 48  3 17 23]\n",
      " [42 21 29 13  5]]\n",
      "Mean\n",
      " 22.6\n",
      "Column-mean\n",
      " [24.         26.33333333 16.66666667 22.66666667 23.33333333]\n",
      "Row-mean\n",
      " [26.2 19.6 22. ]\n"
     ]
    }
   ],
   "source": [
    "#mean\n",
    "print(\"Original Array:\\n\", rand_arr)\n",
    "print(\"Mean\\n\", np.mean(rand_arr))\n",
    "print(\"Column-mean\\n\", np.mean(rand_arr, axis=0))\n",
    "print(\"Row-mean\\n\", np.mean(rand_arr, axis=1))"
   ]
  },
  {
   "cell_type": "markdown",
   "id": "42f614ef",
   "metadata": {},
   "source": [
    "# Sorting Data"
   ]
  },
  {
   "cell_type": "code",
   "execution_count": 122,
   "id": "ee3dfad3",
   "metadata": {},
   "outputs": [
    {
     "name": "stdout",
     "output_type": "stream",
     "text": [
      "Original array:\n",
      " [[23 10 18 38 42]\n",
      " [ 7 48  3 17 23]\n",
      " [42 21 29 13  5]]\n",
      "Sorting:\n",
      " [[10 18 23 38 42]\n",
      " [ 3  7 17 23 48]\n",
      " [ 5 13 21 29 42]]\n",
      "Column-base-sort:\n",
      " [[ 7 10  3 13  5]\n",
      " [23 21 18 17 23]\n",
      " [42 48 29 38 42]]\n",
      "Row-base-sort:\n",
      " [[10 18 23 38 42]\n",
      " [ 3  7 17 23 48]\n",
      " [ 5 13 21 29 42]]\n"
     ]
    }
   ],
   "source": [
    "print(\"Original array:\\n\", rand_arr)\n",
    "print(\"Sorting:\\n\", np.sort(rand_arr))\n",
    "print(\"Column-base-sort:\\n\", np.sort(rand_arr, axis=0))\n",
    "print(\"Row-base-sort:\\n\", np.sort(rand_arr, axis=1))"
   ]
  },
  {
   "cell_type": "code",
   "execution_count": 123,
   "id": "d5fdcb45",
   "metadata": {},
   "outputs": [
    {
     "name": "stdout",
     "output_type": "stream",
     "text": [
      "Array:\n",
      " [84 82 40 80 82 52 61 40 54 67]\n",
      "Arg-Sorting:\n",
      " [2 7 5 8 6 9 3 1 4 0]\n"
     ]
    }
   ],
   "source": [
    "#arg-sort\n",
    "a = np.random.randint(1,100, 10)\n",
    "print(\"Array:\\n\", a)\n",
    "print(\"Arg-Sorting:\\n\", np.argsort(a))"
   ]
  },
  {
   "cell_type": "code",
   "execution_count": 124,
   "id": "3214688d",
   "metadata": {},
   "outputs": [
    {
     "name": "stdout",
     "output_type": "stream",
     "text": [
      "Array:\n",
      " [[82  2 81 39 44]\n",
      " [76 30 97 38 23]]\n"
     ]
    },
    {
     "data": {
      "text/plain": [
       "array([[76,  2, 81, 38, 23],\n",
       "       [82, 30, 97, 39, 44]])"
      ]
     },
     "execution_count": 124,
     "metadata": {},
     "output_type": "execute_result"
    }
   ],
   "source": [
    "#inplace-sort\n",
    "a = np.random.randint(1,100, 10).reshape(2,5)\n",
    "print(\"Array:\\n\", a)\n",
    "a.sort(axis=0)\n",
    "a"
   ]
  },
  {
   "cell_type": "markdown",
   "id": "1e45003d",
   "metadata": {},
   "source": [
    "# Flattering Arrays"
   ]
  },
  {
   "cell_type": "code",
   "execution_count": 125,
   "id": "de4bc0c6",
   "metadata": {},
   "outputs": [
    {
     "data": {
      "text/plain": [
       "array([[0, 1, 2],\n",
       "       [3, 4, 5]])"
      ]
     },
     "execution_count": 125,
     "metadata": {},
     "output_type": "execute_result"
    }
   ],
   "source": [
    "a = np.arange(6).reshape(2,3)\n",
    "a"
   ]
  },
  {
   "cell_type": "code",
   "execution_count": 126,
   "id": "464a6f0a",
   "metadata": {},
   "outputs": [
    {
     "data": {
      "text/plain": [
       "array([0, 1, 2, 3, 4, 5])"
      ]
     },
     "execution_count": 126,
     "metadata": {},
     "output_type": "execute_result"
    }
   ],
   "source": [
    "b = a.flatten()\n",
    "b"
   ]
  },
  {
   "cell_type": "code",
   "execution_count": 127,
   "id": "c029abdc",
   "metadata": {},
   "outputs": [
    {
     "data": {
      "text/plain": [
       "array([[0, 1, 2],\n",
       "       [3, 4, 5]])"
      ]
     },
     "execution_count": 127,
     "metadata": {},
     "output_type": "execute_result"
    }
   ],
   "source": [
    "b[1] = 12\n",
    "a"
   ]
  },
  {
   "cell_type": "code",
   "execution_count": 128,
   "id": "ff79e038",
   "metadata": {},
   "outputs": [
    {
     "data": {
      "text/plain": [
       "array([0, 1, 2, 3, 4, 5])"
      ]
     },
     "execution_count": 128,
     "metadata": {},
     "output_type": "execute_result"
    }
   ],
   "source": [
    "b = a.ravel()\n",
    "b"
   ]
  },
  {
   "cell_type": "code",
   "execution_count": 129,
   "id": "c14b8e81",
   "metadata": {},
   "outputs": [
    {
     "data": {
      "text/plain": [
       "array([[ 0, 12,  2],\n",
       "       [ 3,  4,  5]])"
      ]
     },
     "execution_count": 129,
     "metadata": {},
     "output_type": "execute_result"
    }
   ],
   "source": [
    "b[1] = 12\n",
    "a"
   ]
  },
  {
   "cell_type": "markdown",
   "id": "bb52b6cb",
   "metadata": {},
   "source": [
    "# 8. Array Manipulation"
   ]
  },
  {
   "cell_type": "code",
   "execution_count": 130,
   "id": "426b0cf7",
   "metadata": {},
   "outputs": [
    {
     "data": {
      "text/plain": [
       "array([[[ 0,  1,  2,  3],\n",
       "        [ 4,  5,  6,  7],\n",
       "        [ 8,  9, 10, 11]],\n",
       "\n",
       "       [[12, 13, 14, 15],\n",
       "        [16, 17, 18, 19],\n",
       "        [20, 21, 22, 23]]])"
      ]
     },
     "execution_count": 130,
     "metadata": {},
     "output_type": "execute_result"
    }
   ],
   "source": [
    "a = np.array(np.arange(24)).reshape(2,3,4)\n",
    "a"
   ]
  },
  {
   "cell_type": "code",
   "execution_count": 131,
   "id": "3d2465dc",
   "metadata": {},
   "outputs": [
    {
     "data": {
      "text/plain": [
       "array([ 0,  1,  2,  3,  4,  5,  6,  7,  8,  9, 10, 11, 12, 13, 14, 15, 16,\n",
       "       17, 18, 19, 20, 21, 22, 23,  5,  6,  7,  8])"
      ]
     },
     "execution_count": 131,
     "metadata": {},
     "output_type": "execute_result"
    }
   ],
   "source": [
    "b=np.append(a, [5,6,7,8])\n",
    "b"
   ]
  },
  {
   "cell_type": "code",
   "execution_count": 132,
   "id": "e8704c96",
   "metadata": {},
   "outputs": [
    {
     "data": {
      "text/plain": [
       "array([[[  3,  13,  23,  33],\n",
       "        [ 43,  53,  63,  73],\n",
       "        [ 83,  93, 103, 113]],\n",
       "\n",
       "       [[123, 133, 143, 153],\n",
       "        [163, 173, 183, 193],\n",
       "        [203, 213, 223, 233]]])"
      ]
     },
     "execution_count": 132,
     "metadata": {},
     "output_type": "execute_result"
    }
   ],
   "source": [
    "c = np.array(np.arange(24)).reshape(2,3,4) * 10 + 3\n",
    "c"
   ]
  },
  {
   "cell_type": "code",
   "execution_count": 133,
   "id": "158ce903",
   "metadata": {},
   "outputs": [
    {
     "data": {
      "text/plain": [
       "array([[[  0,   1,   2,   3],\n",
       "        [  4,   5,   6,   7],\n",
       "        [  8,   9,  10,  11]],\n",
       "\n",
       "       [[ 12,  13,  14,  15],\n",
       "        [ 16,  17,  18,  19],\n",
       "        [ 20,  21,  22,  23]],\n",
       "\n",
       "       [[  3,  13,  23,  33],\n",
       "        [ 43,  53,  63,  73],\n",
       "        [ 83,  93, 103, 113]],\n",
       "\n",
       "       [[123, 133, 143, 153],\n",
       "        [163, 173, 183, 193],\n",
       "        [203, 213, 223, 233]]])"
      ]
     },
     "execution_count": 133,
     "metadata": {},
     "output_type": "execute_result"
    }
   ],
   "source": [
    "np.append(a,c, axis=0)"
   ]
  },
  {
   "cell_type": "code",
   "execution_count": 134,
   "id": "5c59293c",
   "metadata": {},
   "outputs": [
    {
     "data": {
      "text/plain": [
       "array([[[  0,   1,   2,   3],\n",
       "        [  4,   5,   6,   7],\n",
       "        [  8,   9,  10,  11],\n",
       "        [  3,  13,  23,  33],\n",
       "        [ 43,  53,  63,  73],\n",
       "        [ 83,  93, 103, 113]],\n",
       "\n",
       "       [[ 12,  13,  14,  15],\n",
       "        [ 16,  17,  18,  19],\n",
       "        [ 20,  21,  22,  23],\n",
       "        [123, 133, 143, 153],\n",
       "        [163, 173, 183, 193],\n",
       "        [203, 213, 223, 233]]])"
      ]
     },
     "execution_count": 134,
     "metadata": {},
     "output_type": "execute_result"
    }
   ],
   "source": [
    "np.append(a,c, axis=1)"
   ]
  },
  {
   "cell_type": "code",
   "execution_count": 135,
   "id": "000bbf3f",
   "metadata": {},
   "outputs": [
    {
     "data": {
      "text/plain": [
       "array([[[  0,   1,   2,   3,   3,  13,  23,  33],\n",
       "        [  4,   5,   6,   7,  43,  53,  63,  73],\n",
       "        [  8,   9,  10,  11,  83,  93, 103, 113]],\n",
       "\n",
       "       [[ 12,  13,  14,  15, 123, 133, 143, 153],\n",
       "        [ 16,  17,  18,  19, 163, 173, 183, 193],\n",
       "        [ 20,  21,  22,  23, 203, 213, 223, 233]]])"
      ]
     },
     "execution_count": 135,
     "metadata": {},
     "output_type": "execute_result"
    }
   ],
   "source": [
    "np.append(a,c, axis=2)"
   ]
  },
  {
   "cell_type": "code",
   "execution_count": 136,
   "id": "630a69cb",
   "metadata": {},
   "outputs": [
    {
     "data": {
      "text/plain": [
       "array([[[  0,   1,   2,   3],\n",
       "        [  4,   5,   6,   7],\n",
       "        [  8,   9,  10,  11],\n",
       "        [  3,  13,  23,  33],\n",
       "        [ 43,  53,  63,  73],\n",
       "        [ 83,  93, 103, 113]],\n",
       "\n",
       "       [[ 12,  13,  14,  15],\n",
       "        [ 16,  17,  18,  19],\n",
       "        [ 20,  21,  22,  23],\n",
       "        [123, 133, 143, 153],\n",
       "        [163, 173, 183, 193],\n",
       "        [203, 213, 223, 233]]])"
      ]
     },
     "execution_count": 136,
     "metadata": {},
     "output_type": "execute_result"
    }
   ],
   "source": [
    "my_hay_stack = np.hstack((a,c))\n",
    "my_hay_stack"
   ]
  },
  {
   "cell_type": "code",
   "execution_count": 137,
   "id": "5a146b2b",
   "metadata": {},
   "outputs": [
    {
     "data": {
      "text/plain": [
       "array([[[  0,   1, 999,   3],\n",
       "        [  4,   5,   6,   7],\n",
       "        [  8,   9,  10,  11],\n",
       "        [  3,  13,  23,  33],\n",
       "        [ 43,  53,  63,  73],\n",
       "        [ 83,  93, 103, 113]],\n",
       "\n",
       "       [[ 12,  13,  14,  15],\n",
       "        [ 16,  17,  18,  19],\n",
       "        [ 20,  21,  22,  23],\n",
       "        [123, 133, 143, 153],\n",
       "        [163, 173, 183, 193],\n",
       "        [203, 213, 223, 233]]])"
      ]
     },
     "execution_count": 137,
     "metadata": {},
     "output_type": "execute_result"
    }
   ],
   "source": [
    "my_hay_stack[0,0,2] = 999\n",
    "my_hay_stack"
   ]
  },
  {
   "cell_type": "code",
   "execution_count": 138,
   "id": "e144e564",
   "metadata": {},
   "outputs": [
    {
     "data": {
      "text/plain": [
       "array([[[  3,  13,  23,  33],\n",
       "        [ 43,  53,  63,  73],\n",
       "        [ 83,  93, 103, 113]],\n",
       "\n",
       "       [[123, 133, 143, 153],\n",
       "        [163, 173, 183, 193],\n",
       "        [203, 213, 223, 233]]])"
      ]
     },
     "execution_count": 138,
     "metadata": {},
     "output_type": "execute_result"
    }
   ],
   "source": [
    "c"
   ]
  },
  {
   "cell_type": "code",
   "execution_count": 139,
   "id": "187c4501",
   "metadata": {},
   "outputs": [
    {
     "data": {
      "text/plain": [
       "array([[[  3,  13,  23,  33],\n",
       "        [ 43,  53,  63,  73],\n",
       "        [ 83,  93, 103, 113]],\n",
       "\n",
       "       [[444, 444, 444, 444],\n",
       "        [444, 444, 444, 444],\n",
       "        [444, 444, 444, 444]],\n",
       "\n",
       "       [[123, 133, 143, 153],\n",
       "        [163, 173, 183, 193],\n",
       "        [203, 213, 223, 233]]])"
      ]
     },
     "execution_count": 139,
     "metadata": {},
     "output_type": "execute_result"
    }
   ],
   "source": [
    "after_insert_array = np.insert (c, 1, 444, axis=0)\n",
    "after_insert_array"
   ]
  },
  {
   "cell_type": "code",
   "execution_count": 140,
   "id": "1c0931c8",
   "metadata": {},
   "outputs": [
    {
     "data": {
      "text/plain": [
       "array([[[  3,  13,  23,  33],\n",
       "        [444, 444, 444, 444],\n",
       "        [ 43,  53,  63,  73],\n",
       "        [ 83,  93, 103, 113]],\n",
       "\n",
       "       [[123, 133, 143, 153],\n",
       "        [444, 444, 444, 444],\n",
       "        [163, 173, 183, 193],\n",
       "        [203, 213, 223, 233]]])"
      ]
     },
     "execution_count": 140,
     "metadata": {},
     "output_type": "execute_result"
    }
   ],
   "source": [
    "np.insert (c, 1, 444, axis=1)"
   ]
  },
  {
   "cell_type": "code",
   "execution_count": 141,
   "id": "8cff2aeb",
   "metadata": {},
   "outputs": [
    {
     "data": {
      "text/plain": [
       "array([[[  3, 444,  13,  23,  33],\n",
       "        [ 43, 444,  53,  63,  73],\n",
       "        [ 83, 444,  93, 103, 113]],\n",
       "\n",
       "       [[123, 444, 133, 143, 153],\n",
       "        [163, 444, 173, 183, 193],\n",
       "        [203, 444, 213, 223, 233]]])"
      ]
     },
     "execution_count": 141,
     "metadata": {},
     "output_type": "execute_result"
    }
   ],
   "source": [
    "np.insert (c, 1, 444, axis=2)"
   ]
  },
  {
   "cell_type": "code",
   "execution_count": 142,
   "id": "4f59da17",
   "metadata": {},
   "outputs": [
    {
     "data": {
      "text/plain": [
       "array([[[  3.,  13.,  23.,  33.],\n",
       "        [ 43.,  53.,  63.,  73.],\n",
       "        [ 83.,  93., 103., 113.]],\n",
       "\n",
       "       [[123., 133., 143., 153.],\n",
       "        [163., 173., 183., 193.],\n",
       "        [203., 213., 223., 233.]]])"
      ]
     },
     "execution_count": 142,
     "metadata": {},
     "output_type": "execute_result"
    }
   ],
   "source": [
    "d = np.empty(c.shape)\n",
    "np.copyto(d, c)\n",
    "d"
   ]
  },
  {
   "cell_type": "code",
   "execution_count": 143,
   "id": "05209e8c",
   "metadata": {},
   "outputs": [
    {
     "data": {
      "text/plain": [
       "array([[[  3.,  13.,  23.,  33.],\n",
       "        [ 43.,  53.,  63.,  73.],\n",
       "        [ 83.,  93., 103., 113.]]])"
      ]
     },
     "execution_count": 143,
     "metadata": {},
     "output_type": "execute_result"
    }
   ],
   "source": [
    "np.delete(d, 1, axis=0)"
   ]
  },
  {
   "cell_type": "code",
   "execution_count": 144,
   "id": "bab6c1d0",
   "metadata": {},
   "outputs": [
    {
     "data": {
      "text/plain": [
       "array([[[  3.,  13.,  23.,  33.],\n",
       "        [ 83.,  93., 103., 113.]],\n",
       "\n",
       "       [[123., 133., 143., 153.],\n",
       "        [203., 213., 223., 233.]]])"
      ]
     },
     "execution_count": 144,
     "metadata": {},
     "output_type": "execute_result"
    }
   ],
   "source": [
    "np.delete(d, 1, axis=1)"
   ]
  },
  {
   "cell_type": "code",
   "execution_count": 145,
   "id": "c06ae30e",
   "metadata": {},
   "outputs": [
    {
     "data": {
      "text/plain": [
       "array([[[  3.,  33.],\n",
       "        [ 43.,  73.],\n",
       "        [ 83., 113.]],\n",
       "\n",
       "       [[123., 153.],\n",
       "        [163., 193.],\n",
       "        [203., 233.]]])"
      ]
     },
     "execution_count": 145,
     "metadata": {},
     "output_type": "execute_result"
    }
   ],
   "source": [
    "np.delete(d, [1,2], axis=2)"
   ]
  },
  {
   "cell_type": "markdown",
   "id": "d550be3e",
   "metadata": {},
   "source": [
    "# Joining & Spliting"
   ]
  },
  {
   "cell_type": "code",
   "execution_count": 146,
   "id": "973d2828",
   "metadata": {},
   "outputs": [
    {
     "data": {
      "text/plain": [
       "array([[1, 2],\n",
       "       [3, 4],\n",
       "       [5, 6]])"
      ]
     },
     "execution_count": 146,
     "metadata": {},
     "output_type": "execute_result"
    }
   ],
   "source": [
    "a = np.array([[1, 2], [3, 4]])\n",
    "b = np.array([[5, 6]])\n",
    "together = np.concatenate((a, b), axis=0)\n",
    "together"
   ]
  },
  {
   "cell_type": "code",
   "execution_count": 147,
   "id": "fcf8261d",
   "metadata": {},
   "outputs": [
    {
     "data": {
      "text/plain": [
       "array([[  1,   2],\n",
       "       [  3, 555],\n",
       "       [  5,   6]])"
      ]
     },
     "execution_count": 147,
     "metadata": {},
     "output_type": "execute_result"
    }
   ],
   "source": [
    "together[1,1] = 555\n",
    "together"
   ]
  },
  {
   "cell_type": "code",
   "execution_count": 148,
   "id": "5f28144e",
   "metadata": {},
   "outputs": [
    {
     "data": {
      "text/plain": [
       "array([[ 8, 11],\n",
       "       [14, 17]])"
      ]
     },
     "execution_count": 148,
     "metadata": {},
     "output_type": "execute_result"
    }
   ],
   "source": [
    "c = np.array([[1, 2], [3, 4]]) *3 + 5\n",
    "c\n"
   ]
  },
  {
   "cell_type": "code",
   "execution_count": 149,
   "id": "78c4891d",
   "metadata": {},
   "outputs": [
    {
     "data": {
      "text/plain": [
       "array([[ 1,  2,  8, 11],\n",
       "       [ 3,  4, 14, 17]])"
      ]
     },
     "execution_count": 149,
     "metadata": {},
     "output_type": "execute_result"
    }
   ],
   "source": [
    "np.concatenate((a, c), axis=1)"
   ]
  },
  {
   "cell_type": "markdown",
   "id": "9325ff9f",
   "metadata": {},
   "source": [
    "spliting"
   ]
  },
  {
   "cell_type": "code",
   "execution_count": 150,
   "id": "36a0119f",
   "metadata": {},
   "outputs": [
    {
     "data": {
      "text/plain": [
       "[array([0, 1]), array([2, 3]), array([4, 5])]"
      ]
     },
     "execution_count": 150,
     "metadata": {},
     "output_type": "execute_result"
    }
   ],
   "source": [
    "temp = np.arange(6)\n",
    "temp\n",
    "np.split(temp,3)"
   ]
  },
  {
   "cell_type": "code",
   "execution_count": 151,
   "id": "b1503c13",
   "metadata": {},
   "outputs": [
    {
     "data": {
      "text/plain": [
       "[array([0, 1]), array([2]), array([3, 4, 5]), array([6, 7, 8, 9])]"
      ]
     },
     "execution_count": 151,
     "metadata": {},
     "output_type": "execute_result"
    }
   ],
   "source": [
    "temp = np.arange(10)\n",
    "np.split(temp,[2,3,6]) # [:2] [2:3], [3, 6], [6:]"
   ]
  },
  {
   "cell_type": "markdown",
   "id": "f200272a",
   "metadata": {},
   "source": [
    "Transpose"
   ]
  },
  {
   "cell_type": "code",
   "execution_count": 152,
   "id": "b79c2798",
   "metadata": {},
   "outputs": [],
   "source": [
    "my_start_array = np.array(np.arange(24))\n",
    "my_3_8_array = my_start_array.reshape((3,8))\n",
    "my_2_3_4_array = my_3_8_array.reshape((2,3,4))"
   ]
  },
  {
   "cell_type": "code",
   "execution_count": 153,
   "id": "e59036de",
   "metadata": {},
   "outputs": [
    {
     "name": "stdout",
     "output_type": "stream",
     "text": [
      "Array:\n",
      " [ 0  1  2  3  4  5  6  7  8  9 10 11 12 13 14 15 16 17 18 19 20 21 22 23]\n"
     ]
    },
    {
     "data": {
      "text/plain": [
       "array([ 0,  1,  2,  3,  4,  5,  6,  7,  8,  9, 10, 11, 12, 13, 14, 15, 16,\n",
       "       17, 18, 19, 20, 21, 22, 23])"
      ]
     },
     "execution_count": 153,
     "metadata": {},
     "output_type": "execute_result"
    }
   ],
   "source": [
    "#1D array --> No Change\n",
    "print(\"Array:\\n\", my_start_array)\n",
    "np.transpose(my_start_array)"
   ]
  },
  {
   "cell_type": "code",
   "execution_count": 154,
   "id": "800463bb",
   "metadata": {},
   "outputs": [
    {
     "name": "stdout",
     "output_type": "stream",
     "text": [
      "Array:\n",
      " [[ 0  1  2  3  4  5  6  7]\n",
      " [ 8  9 10 11 12 13 14 15]\n",
      " [16 17 18 19 20 21 22 23]]\n"
     ]
    },
    {
     "data": {
      "text/plain": [
       "array([[ 0,  8, 16],\n",
       "       [ 1,  9, 17],\n",
       "       [ 2, 10, 18],\n",
       "       [ 3, 11, 19],\n",
       "       [ 4, 12, 20],\n",
       "       [ 5, 13, 21],\n",
       "       [ 6, 14, 22],\n",
       "       [ 7, 15, 23]])"
      ]
     },
     "execution_count": 154,
     "metadata": {},
     "output_type": "execute_result"
    }
   ],
   "source": [
    "#2D array\n",
    "print(\"Array:\\n\", my_3_8_array)\n",
    "np.transpose(my_3_8_array)"
   ]
  },
  {
   "cell_type": "code",
   "execution_count": 155,
   "id": "e540fa89",
   "metadata": {},
   "outputs": [
    {
     "name": "stdout",
     "output_type": "stream",
     "text": [
      "Array:\n",
      " [[[ 0  1  2  3]\n",
      "  [ 4  5  6  7]\n",
      "  [ 8  9 10 11]]\n",
      "\n",
      " [[12 13 14 15]\n",
      "  [16 17 18 19]\n",
      "  [20 21 22 23]]]\n"
     ]
    },
    {
     "data": {
      "text/plain": [
       "array([[[ 0, 12],\n",
       "        [ 4, 16],\n",
       "        [ 8, 20]],\n",
       "\n",
       "       [[ 1, 13],\n",
       "        [ 5, 17],\n",
       "        [ 9, 21]],\n",
       "\n",
       "       [[ 2, 14],\n",
       "        [ 6, 18],\n",
       "        [10, 22]],\n",
       "\n",
       "       [[ 3, 15],\n",
       "        [ 7, 19],\n",
       "        [11, 23]]])"
      ]
     },
     "execution_count": 155,
     "metadata": {},
     "output_type": "execute_result"
    }
   ],
   "source": [
    "#3D array\n",
    "print(\"Array:\\n\", my_2_3_4_array)\n",
    "np.transpose(my_2_3_4_array)"
   ]
  },
  {
   "cell_type": "code",
   "execution_count": 156,
   "id": "a4d26417",
   "metadata": {},
   "outputs": [
    {
     "data": {
      "text/plain": [
       "array([[[ 0,  4,  8],\n",
       "        [ 1,  5,  9],\n",
       "        [ 2,  6, 10],\n",
       "        [ 3,  7, 11]],\n",
       "\n",
       "       [[12, 16, 20],\n",
       "        [13, 17, 21],\n",
       "        [14, 18, 22],\n",
       "        [15, 19, 23]]])"
      ]
     },
     "execution_count": 156,
     "metadata": {},
     "output_type": "execute_result"
    }
   ],
   "source": [
    "np.transpose(my_2_3_4_array, axes=(0,2,1))"
   ]
  },
  {
   "cell_type": "code",
   "execution_count": 157,
   "id": "08711383",
   "metadata": {},
   "outputs": [
    {
     "data": {
      "text/plain": [
       "array([[[ 0, 12],\n",
       "        [ 4, 16],\n",
       "        [ 8, 20]],\n",
       "\n",
       "       [[ 1, 13],\n",
       "        [ 5, 17],\n",
       "        [ 9, 21]],\n",
       "\n",
       "       [[ 2, 14],\n",
       "        [ 6, 18],\n",
       "        [10, 22]],\n",
       "\n",
       "       [[ 3, 15],\n",
       "        [ 7, 19],\n",
       "        [11, 23]]])"
      ]
     },
     "execution_count": 157,
     "metadata": {},
     "output_type": "execute_result"
    }
   ],
   "source": [
    "np.transpose(my_2_3_4_array, axes=(2,1,0))"
   ]
  },
  {
   "cell_type": "markdown",
   "id": "0236dd12",
   "metadata": {},
   "source": [
    "Tiling"
   ]
  },
  {
   "cell_type": "code",
   "execution_count": 158,
   "id": "f33c1ab9",
   "metadata": {},
   "outputs": [
    {
     "data": {
      "text/plain": [
       "array([ 0,  1,  2,  3,  4,  5,  6,  7,  8,  9, 10, 11])"
      ]
     },
     "execution_count": 158,
     "metadata": {},
     "output_type": "execute_result"
    }
   ],
   "source": [
    "my_start_array = np.array(np.arange(12))\n",
    "my_start_array"
   ]
  },
  {
   "cell_type": "code",
   "execution_count": 159,
   "id": "8433a6c7",
   "metadata": {},
   "outputs": [
    {
     "data": {
      "text/plain": [
       "array([ 0,  1,  2,  3,  4,  5,  6,  7,  8,  9, 10, 11,  0,  1,  2,  3,  4,\n",
       "        5,  6,  7,  8,  9, 10, 11,  0,  1,  2,  3,  4,  5,  6,  7,  8,  9,\n",
       "       10, 11])"
      ]
     },
     "execution_count": 159,
     "metadata": {},
     "output_type": "execute_result"
    }
   ],
   "source": [
    "np.tile(my_start_array, 3)"
   ]
  },
  {
   "cell_type": "code",
   "execution_count": 160,
   "id": "3f0bfaba",
   "metadata": {},
   "outputs": [],
   "source": [
    "my_second_array = np.array(np.arange(7))"
   ]
  },
  {
   "cell_type": "code",
   "execution_count": 161,
   "id": "4e71287a",
   "metadata": {},
   "outputs": [
    {
     "data": {
      "text/plain": [
       "array([[0, 1, 2, 3, 4, 5, 6],\n",
       "       [0, 1, 2, 3, 4, 5, 6],\n",
       "       [0, 1, 2, 3, 4, 5, 6]])"
      ]
     },
     "execution_count": 161,
     "metadata": {},
     "output_type": "execute_result"
    }
   ],
   "source": [
    "tile_1 = np.tile(my_second_array, (3, 1))\n",
    "tile_1"
   ]
  },
  {
   "cell_type": "code",
   "execution_count": 162,
   "id": "c3de4246",
   "metadata": {},
   "outputs": [
    {
     "data": {
      "text/plain": [
       "array([[0, 1, 2, 3, 4, 5, 6, 0, 1, 2, 3, 4, 5, 6],\n",
       "       [0, 1, 2, 3, 4, 5, 6, 0, 1, 2, 3, 4, 5, 6],\n",
       "       [0, 1, 2, 3, 4, 5, 6, 0, 1, 2, 3, 4, 5, 6],\n",
       "       [0, 1, 2, 3, 4, 5, 6, 0, 1, 2, 3, 4, 5, 6],\n",
       "       [0, 1, 2, 3, 4, 5, 6, 0, 1, 2, 3, 4, 5, 6],\n",
       "       [0, 1, 2, 3, 4, 5, 6, 0, 1, 2, 3, 4, 5, 6]])"
      ]
     },
     "execution_count": 162,
     "metadata": {},
     "output_type": "execute_result"
    }
   ],
   "source": [
    "tile_2 = np.tile(tile_1, (2,2))\n",
    "tile_2"
   ]
  },
  {
   "cell_type": "code",
   "execution_count": 163,
   "id": "cbe8cc14",
   "metadata": {},
   "outputs": [
    {
     "data": {
      "text/plain": [
       "array([[0, 1, 2, 3, 4, 5, 6, 0, 1, 2, 3, 4, 5, 6],\n",
       "       [0, 1, 2, 3, 4, 5, 6, 0, 1, 2, 3, 4, 5, 6],\n",
       "       [0, 1, 2, 3, 4, 5, 6, 0, 1, 2, 3, 4, 5, 6],\n",
       "       [0, 1, 2, 3, 4, 5, 6, 0, 1, 2, 3, 4, 5, 6],\n",
       "       [0, 1, 2, 3, 4, 5, 6, 0, 1, 2, 3, 4, 5, 6],\n",
       "       [0, 1, 2, 3, 4, 5, 6, 0, 1, 2, 3, 4, 5, 6],\n",
       "       [0, 1, 2, 3, 4, 5, 6, 0, 1, 2, 3, 4, 5, 6],\n",
       "       [0, 1, 2, 3, 4, 5, 6, 0, 1, 2, 3, 4, 5, 6],\n",
       "       [0, 1, 2, 3, 4, 5, 6, 0, 1, 2, 3, 4, 5, 6],\n",
       "       [0, 1, 2, 3, 4, 5, 6, 0, 1, 2, 3, 4, 5, 6],\n",
       "       [0, 1, 2, 3, 4, 5, 6, 0, 1, 2, 3, 4, 5, 6],\n",
       "       [0, 1, 2, 3, 4, 5, 6, 0, 1, 2, 3, 4, 5, 6],\n",
       "       [0, 1, 2, 3, 4, 5, 6, 0, 1, 2, 3, 4, 5, 6],\n",
       "       [0, 1, 2, 3, 4, 5, 6, 0, 1, 2, 3, 4, 5, 6],\n",
       "       [0, 1, 2, 3, 4, 5, 6, 0, 1, 2, 3, 4, 5, 6],\n",
       "       [0, 1, 2, 3, 4, 5, 6, 0, 1, 2, 3, 4, 5, 6],\n",
       "       [0, 1, 2, 3, 4, 5, 6, 0, 1, 2, 3, 4, 5, 6],\n",
       "       [0, 1, 2, 3, 4, 5, 6, 0, 1, 2, 3, 4, 5, 6]])"
      ]
     },
     "execution_count": 163,
     "metadata": {},
     "output_type": "execute_result"
    }
   ],
   "source": [
    "tile_3 = np.tile(tile_2, (3,1))\n",
    "tile_3"
   ]
  },
  {
   "cell_type": "code",
   "execution_count": 164,
   "id": "6748c7e5",
   "metadata": {},
   "outputs": [
    {
     "data": {
      "text/plain": [
       "array([0, 0, 0, 1, 1, 1, 2, 2, 2, 3, 3, 3, 4, 4, 4, 5, 5, 5, 6, 6, 6])"
      ]
     },
     "execution_count": 164,
     "metadata": {},
     "output_type": "execute_result"
    }
   ],
   "source": [
    "np.repeat(my_second_array, 3)"
   ]
  },
  {
   "cell_type": "code",
   "execution_count": 165,
   "id": "2c36d2ee",
   "metadata": {},
   "outputs": [
    {
     "data": {
      "text/plain": [
       "array([[[ 0,  1,  2,  3],\n",
       "        [ 4,  5,  6,  7],\n",
       "        [ 8,  9, 10, 11]],\n",
       "\n",
       "       [[12, 13, 14, 15],\n",
       "        [16, 17, 18, 19],\n",
       "        [20, 21, 22, 23]]])"
      ]
     },
     "execution_count": 165,
     "metadata": {},
     "output_type": "execute_result"
    }
   ],
   "source": [
    "my_repeatable_array = np.array(np.arange(24)).reshape(2,3,4)\n",
    "my_repeatable_array"
   ]
  },
  {
   "cell_type": "code",
   "execution_count": 166,
   "id": "5e8aa87c",
   "metadata": {},
   "outputs": [
    {
     "data": {
      "text/plain": [
       "array([[[ 0,  1,  2,  3],\n",
       "        [ 4,  5,  6,  7],\n",
       "        [ 8,  9, 10, 11]],\n",
       "\n",
       "       [[ 0,  1,  2,  3],\n",
       "        [ 4,  5,  6,  7],\n",
       "        [ 8,  9, 10, 11]],\n",
       "\n",
       "       [[12, 13, 14, 15],\n",
       "        [16, 17, 18, 19],\n",
       "        [20, 21, 22, 23]],\n",
       "\n",
       "       [[12, 13, 14, 15],\n",
       "        [16, 17, 18, 19],\n",
       "        [20, 21, 22, 23]]])"
      ]
     },
     "execution_count": 166,
     "metadata": {},
     "output_type": "execute_result"
    }
   ],
   "source": [
    "np.repeat(my_repeatable_array, 2, axis=0)"
   ]
  },
  {
   "cell_type": "code",
   "execution_count": 167,
   "id": "df42d053",
   "metadata": {},
   "outputs": [
    {
     "data": {
      "text/plain": [
       "array([[[ 0,  1,  2,  3],\n",
       "        [ 0,  1,  2,  3],\n",
       "        [ 4,  5,  6,  7],\n",
       "        [ 4,  5,  6,  7],\n",
       "        [ 8,  9, 10, 11],\n",
       "        [ 8,  9, 10, 11]],\n",
       "\n",
       "       [[12, 13, 14, 15],\n",
       "        [12, 13, 14, 15],\n",
       "        [16, 17, 18, 19],\n",
       "        [16, 17, 18, 19],\n",
       "        [20, 21, 22, 23],\n",
       "        [20, 21, 22, 23]]])"
      ]
     },
     "execution_count": 167,
     "metadata": {},
     "output_type": "execute_result"
    }
   ],
   "source": [
    "np.repeat(my_repeatable_array, 2, axis=1)"
   ]
  },
  {
   "cell_type": "code",
   "execution_count": 168,
   "id": "78ccef4e",
   "metadata": {},
   "outputs": [
    {
     "data": {
      "text/plain": [
       "array([[[ 0,  0,  1,  1,  2,  2,  3,  3],\n",
       "        [ 4,  4,  5,  5,  6,  6,  7,  7],\n",
       "        [ 8,  8,  9,  9, 10, 10, 11, 11]],\n",
       "\n",
       "       [[12, 12, 13, 13, 14, 14, 15, 15],\n",
       "        [16, 16, 17, 17, 18, 18, 19, 19],\n",
       "        [20, 20, 21, 21, 22, 22, 23, 23]]])"
      ]
     },
     "execution_count": 168,
     "metadata": {},
     "output_type": "execute_result"
    }
   ],
   "source": [
    "np.repeat(my_repeatable_array, 2, axis=2)"
   ]
  },
  {
   "cell_type": "markdown",
   "id": "5869cc51",
   "metadata": {},
   "source": [
    "# 9. Universal Function"
   ]
  },
  {
   "cell_type": "code",
   "execution_count": 169,
   "id": "6833d13f",
   "metadata": {},
   "outputs": [
    {
     "name": "stdout",
     "output_type": "stream",
     "text": [
      "[1 2 3 4]\n"
     ]
    },
    {
     "data": {
      "text/plain": [
       "24"
      ]
     },
     "execution_count": 169,
     "metadata": {},
     "output_type": "execute_result"
    }
   ],
   "source": [
    "a = np.arange(1,5)\n",
    "print(a)\n",
    "# np.add.reduce(a)\n",
    "np.multiply.reduce(a) # 4! = 4x3x2x1"
   ]
  },
  {
   "cell_type": "code",
   "execution_count": 170,
   "id": "e7ae08c7",
   "metadata": {},
   "outputs": [
    {
     "data": {
      "text/plain": [
       "'abcdef'"
      ]
     },
     "execution_count": 170,
     "metadata": {},
     "output_type": "execute_result"
    }
   ],
   "source": [
    "a = np.array([\"ab\", \"cd\", \"ef\"], dtype=object)\n",
    "np.add.reduce(a)"
   ]
  },
  {
   "cell_type": "code",
   "execution_count": 171,
   "id": "a428654e",
   "metadata": {},
   "outputs": [
    {
     "data": {
      "text/plain": [
       "array([[ 0,  1,  2],\n",
       "       [10, 11, 12],\n",
       "       [20, 21, 22],\n",
       "       [30, 31, 32]])"
      ]
     },
     "execution_count": 171,
     "metadata": {},
     "output_type": "execute_result"
    }
   ],
   "source": [
    "a = np.arange(0,31,10)\n",
    "b = np.arange(3)\n",
    "c = a[:, np.newaxis] + b\n",
    "c"
   ]
  },
  {
   "cell_type": "code",
   "execution_count": 172,
   "id": "d7e696ef",
   "metadata": {},
   "outputs": [
    {
     "data": {
      "text/plain": [
       "array([60, 64, 68])"
      ]
     },
     "execution_count": 172,
     "metadata": {},
     "output_type": "execute_result"
    }
   ],
   "source": [
    "np.add.reduce(c, axis=0)"
   ]
  },
  {
   "cell_type": "code",
   "execution_count": 173,
   "id": "70e65658",
   "metadata": {},
   "outputs": [
    {
     "data": {
      "text/plain": [
       "array([ 3, 33, 63, 93])"
      ]
     },
     "execution_count": 173,
     "metadata": {},
     "output_type": "execute_result"
    }
   ],
   "source": [
    "np.add.reduce(c, axis=1)"
   ]
  },
  {
   "cell_type": "markdown",
   "id": "c22f28ea",
   "metadata": {},
   "source": [
    "op.accumulate(a)"
   ]
  },
  {
   "cell_type": "code",
   "execution_count": 182,
   "id": "54f39fea",
   "metadata": {},
   "outputs": [
    {
     "data": {
      "text/plain": [
       "array([ 1,  3,  6, 10, 15, 21, 28, 36, 45])"
      ]
     },
     "execution_count": 182,
     "metadata": {},
     "output_type": "execute_result"
    }
   ],
   "source": [
    "a = np.arange(1,10)\n",
    "np.add.accumulate(a)"
   ]
  },
  {
   "cell_type": "code",
   "execution_count": 175,
   "id": "a1920caa",
   "metadata": {},
   "outputs": [
    {
     "data": {
      "text/plain": [
       "array(['ab', 'abcd', 'abcdef'], dtype=object)"
      ]
     },
     "execution_count": 175,
     "metadata": {},
     "output_type": "execute_result"
    }
   ],
   "source": [
    "a = np.array([\"ab\", \"cd\", \"ef\"], dtype=object)\n",
    "np.add.accumulate(a)"
   ]
  },
  {
   "cell_type": "markdown",
   "id": "5b4fe6c2",
   "metadata": {},
   "source": [
    "op.reduceat(a,indices)"
   ]
  },
  {
   "cell_type": "code",
   "execution_count": 181,
   "id": "b64c7bf0",
   "metadata": {},
   "outputs": [
    {
     "data": {
      "text/plain": [
       "array(['ab', 'cd', 'ef'], dtype=object)"
      ]
     },
     "execution_count": 181,
     "metadata": {},
     "output_type": "execute_result"
    }
   ],
   "source": [
    "a"
   ]
  },
  {
   "cell_type": "markdown",
   "id": "ea7c0e8b",
   "metadata": {},
   "source": [
    "inner and outer"
   ]
  },
  {
   "cell_type": "code",
   "execution_count": 183,
   "id": "1412342d",
   "metadata": {},
   "outputs": [],
   "source": [
    "import numpy as np"
   ]
  },
  {
   "cell_type": "code",
   "execution_count": 184,
   "id": "60ee7dfa",
   "metadata": {},
   "outputs": [],
   "source": [
    "a = np.arange(12).reshape(3,4)\n",
    "b = np.arange(8).reshape(2,4)"
   ]
  },
  {
   "cell_type": "code",
   "execution_count": 185,
   "id": "e99679a6",
   "metadata": {},
   "outputs": [
    {
     "data": {
      "text/plain": [
       "array([[ 0,  1,  2,  3],\n",
       "       [ 4,  5,  6,  7],\n",
       "       [ 8,  9, 10, 11]])"
      ]
     },
     "execution_count": 185,
     "metadata": {},
     "output_type": "execute_result"
    }
   ],
   "source": [
    "a"
   ]
  },
  {
   "cell_type": "code",
   "execution_count": 186,
   "id": "e3cbbd5a",
   "metadata": {},
   "outputs": [
    {
     "data": {
      "text/plain": [
       "array([[0, 1, 2, 3],\n",
       "       [4, 5, 6, 7]])"
      ]
     },
     "execution_count": 186,
     "metadata": {},
     "output_type": "execute_result"
    }
   ],
   "source": [
    "b"
   ]
  },
  {
   "cell_type": "code",
   "execution_count": 187,
   "id": "f1056e9f",
   "metadata": {},
   "outputs": [
    {
     "data": {
      "text/plain": [
       "array([[ 14,  38],\n",
       "       [ 38, 126],\n",
       "       [ 62, 214]])"
      ]
     },
     "execution_count": 187,
     "metadata": {},
     "output_type": "execute_result"
    }
   ],
   "source": [
    "np.inner(a,b)"
   ]
  },
  {
   "cell_type": "code",
   "execution_count": 188,
   "id": "889ff17e",
   "metadata": {},
   "outputs": [
    {
     "data": {
      "text/plain": [
       "array([[ 28,  34],\n",
       "       [ 76,  98],\n",
       "       [124, 162]])"
      ]
     },
     "execution_count": 188,
     "metadata": {},
     "output_type": "execute_result"
    }
   ],
   "source": [
    "a = np.arange(12).reshape(3,4)\n",
    "b = np.arange(8).reshape(4,2)\n",
    "a.dot(b)"
   ]
  },
  {
   "cell_type": "markdown",
   "id": "7d851372",
   "metadata": {},
   "source": [
    "# Task 4 (Solving 30 exercises from 100)"
   ]
  },
  {
   "cell_type": "code",
   "execution_count": 189,
   "id": "afa89c64",
   "metadata": {},
   "outputs": [],
   "source": [
    "#1. Import the numpy package under the name np\n",
    "import numpy as np"
   ]
  },
  {
   "cell_type": "code",
   "execution_count": 190,
   "id": "5b7cbb41",
   "metadata": {},
   "outputs": [
    {
     "name": "stdout",
     "output_type": "stream",
     "text": [
      "NumPy Version: 1.24.3\n",
      "NumPy Configuration:\n",
      "blas_armpl_info:\n",
      "  NOT AVAILABLE\n",
      "blas_mkl_info:\n",
      "    libraries = ['mkl_rt']\n",
      "    library_dirs = ['C:/ProgramData/anaconda3\\\\Library\\\\lib']\n",
      "    define_macros = [('SCIPY_MKL_H', None), ('HAVE_CBLAS', None)]\n",
      "    include_dirs = ['C:/ProgramData/anaconda3\\\\Library\\\\include']\n",
      "blas_opt_info:\n",
      "    libraries = ['mkl_rt']\n",
      "    library_dirs = ['C:/ProgramData/anaconda3\\\\Library\\\\lib']\n",
      "    define_macros = [('SCIPY_MKL_H', None), ('HAVE_CBLAS', None)]\n",
      "    include_dirs = ['C:/ProgramData/anaconda3\\\\Library\\\\include']\n",
      "lapack_armpl_info:\n",
      "  NOT AVAILABLE\n",
      "lapack_mkl_info:\n",
      "    libraries = ['mkl_rt']\n",
      "    library_dirs = ['C:/ProgramData/anaconda3\\\\Library\\\\lib']\n",
      "    define_macros = [('SCIPY_MKL_H', None), ('HAVE_CBLAS', None)]\n",
      "    include_dirs = ['C:/ProgramData/anaconda3\\\\Library\\\\include']\n",
      "lapack_opt_info:\n",
      "    libraries = ['mkl_rt']\n",
      "    library_dirs = ['C:/ProgramData/anaconda3\\\\Library\\\\lib']\n",
      "    define_macros = [('SCIPY_MKL_H', None), ('HAVE_CBLAS', None)]\n",
      "    include_dirs = ['C:/ProgramData/anaconda3\\\\Library\\\\include']\n",
      "Supported SIMD extensions in this NumPy install:\n",
      "    baseline = SSE,SSE2,SSE3\n",
      "    found = SSSE3,SSE41,POPCNT,SSE42,AVX,F16C,FMA3,AVX2\n",
      "    not found = AVX512F,AVX512CD,AVX512_SKX,AVX512_CLX,AVX512_CNL,AVX512_ICL\n",
      "None\n"
     ]
    }
   ],
   "source": [
    "#2. Print the numpy version and the configuration\n",
    "import numpy as np\n",
    "\n",
    "# Print NumPy version\n",
    "print(\"NumPy Version:\", np.__version__)\n",
    "\n",
    "# Print NumPy configuration\n",
    "print(\"NumPy Configuration:\")\n",
    "print(np.show_config())\n"
   ]
  },
  {
   "cell_type": "code",
   "execution_count": 191,
   "id": "5a1dcf6e",
   "metadata": {},
   "outputs": [
    {
     "name": "stdout",
     "output_type": "stream",
     "text": [
      "[0. 0. 0. 0. 0. 0. 0. 0. 0. 0.]\n"
     ]
    }
   ],
   "source": [
    "#3. Create a null vector of size 10\n",
    "import numpy as np\n",
    "\n",
    "# Create a null vector of size 10\n",
    "null_vector = np.zeros(10)\n",
    "\n",
    "# Print the null vector\n",
    "print(null_vector)\n"
   ]
  },
  {
   "cell_type": "code",
   "execution_count": 192,
   "id": "54bddc7c",
   "metadata": {},
   "outputs": [
    {
     "name": "stdout",
     "output_type": "stream",
     "text": [
      "Memory size of the array: 80 bytes\n"
     ]
    }
   ],
   "source": [
    "#4. How to find the memory size of any array\n",
    "import numpy as np\n",
    "\n",
    "# Create an example array\n",
    "my_array = np.zeros(10)\n",
    "\n",
    "# Find the memory size of the array\n",
    "memory_size_bytes = my_array.nbytes\n",
    "\n",
    "# Print the memory size in bytes\n",
    "print(\"Memory size of the array:\", memory_size_bytes, \"bytes\")\n"
   ]
  },
  {
   "cell_type": "code",
   "execution_count": 193,
   "id": "2f5973dc",
   "metadata": {},
   "outputs": [
    {
     "data": {
      "text/plain": [
       "array([0., 0., 0., 0., 1., 0., 0., 0., 0., 0.])"
      ]
     },
     "execution_count": 193,
     "metadata": {},
     "output_type": "execute_result"
    }
   ],
   "source": [
    "#5. Create a null vector of size 10 but the fifth value which is 1\n",
    "import numpy as np\n",
    "\n",
    "# Create a null vector of size 10\n",
    "null_vector = np.zeros(10)\n",
    "\n",
    "# Set the fifth value to 1\n",
    "null_vector[4] = 1\n",
    "\n",
    "\n",
    "null_vector\n"
   ]
  },
  {
   "cell_type": "code",
   "execution_count": 197,
   "id": "03c7cefc",
   "metadata": {},
   "outputs": [
    {
     "data": {
      "text/plain": [
       "array([10, 11, 12, 13, 14, 15, 16, 17, 18, 19, 20, 21, 22, 23, 24, 25, 26,\n",
       "       27, 28, 29, 30, 31, 32, 33, 34, 35, 36, 37, 38, 39, 40, 41, 42, 43,\n",
       "       44, 45, 46, 47, 48, 49])"
      ]
     },
     "execution_count": 197,
     "metadata": {},
     "output_type": "execute_result"
    }
   ],
   "source": [
    "# 6. Create a vector with values ranging from 10 to 49\n",
    "\n",
    "\n",
    "my_vector = np.arange(10, 50)\n",
    "\n",
    "my_vector\n",
    "\n"
   ]
  },
  {
   "cell_type": "code",
   "execution_count": 198,
   "id": "a904b4c7",
   "metadata": {},
   "outputs": [
    {
     "data": {
      "text/plain": [
       "array([49, 48, 47, 46, 45, 44, 43, 42, 41, 40, 39, 38, 37, 36, 35, 34, 33,\n",
       "       32, 31, 30, 29, 28, 27, 26, 25, 24, 23, 22, 21, 20, 19, 18, 17, 16,\n",
       "       15, 14, 13, 12, 11, 10])"
      ]
     },
     "execution_count": 198,
     "metadata": {},
     "output_type": "execute_result"
    }
   ],
   "source": [
    "#7. Reverse a vector (first element becomes last)\n",
    "\n",
    "my_vector = np.arange(10, 50)\n",
    "\n",
    "reversed_vector = my_vector[::-1]\n",
    "\n",
    "reversed_vector\n"
   ]
  },
  {
   "cell_type": "code",
   "execution_count": 199,
   "id": "54382fc4",
   "metadata": {},
   "outputs": [
    {
     "data": {
      "text/plain": [
       "array([[0, 1, 2],\n",
       "       [3, 4, 5],\n",
       "       [6, 7, 8]])"
      ]
     },
     "execution_count": 199,
     "metadata": {},
     "output_type": "execute_result"
    }
   ],
   "source": [
    "#8. Create a 3x3 matrix with values ranging from 0 to 8\n",
    "my_matrix = np.arange(9).reshape(3, 3)\n",
    "my_matrix\n"
   ]
  },
  {
   "cell_type": "code",
   "execution_count": 200,
   "id": "f793051d",
   "metadata": {},
   "outputs": [
    {
     "data": {
      "text/plain": [
       "(array([0, 1, 4], dtype=int64),)"
      ]
     },
     "execution_count": 200,
     "metadata": {},
     "output_type": "execute_result"
    }
   ],
   "source": [
    "#9. Find indices of non-zero elements from [1,2,0,0,4,0]\n",
    "\n",
    "my_array = np.array([1, 2, 0, 0, 4, 0])\n",
    "\n",
    "# Find indices of non-zero elements\n",
    "nonzero_indices = np.nonzero(my_array)\n",
    "\n",
    "nonzero_indices\n"
   ]
  },
  {
   "cell_type": "code",
   "execution_count": 201,
   "id": "7b57f8f1",
   "metadata": {},
   "outputs": [
    {
     "data": {
      "text/plain": [
       "array([[1., 0., 0.],\n",
       "       [0., 1., 0.],\n",
       "       [0., 0., 1.]])"
      ]
     },
     "execution_count": 201,
     "metadata": {},
     "output_type": "execute_result"
    }
   ],
   "source": [
    "#10. Create a 3x3 identity matrix \n",
    "identity_matrix = np.eye(3)\n",
    "\n",
    "identity_matrix\n"
   ]
  },
  {
   "cell_type": "code",
   "execution_count": 202,
   "id": "8350d947",
   "metadata": {},
   "outputs": [
    {
     "data": {
      "text/plain": [
       "array([[[0.22930608, 0.85214024, 0.00344643],\n",
       "        [0.21744515, 0.04546728, 0.59417402],\n",
       "        [0.91452105, 0.55583829, 0.46765296]],\n",
       "\n",
       "       [[0.03463629, 0.84637789, 0.89611144],\n",
       "        [0.88252183, 0.148976  , 0.07764476],\n",
       "        [0.59488254, 0.19349676, 0.35472672]],\n",
       "\n",
       "       [[0.26018493, 0.98699842, 0.12593832],\n",
       "        [0.99759461, 0.34685566, 0.04268497],\n",
       "        [0.50839804, 0.9994442 , 0.40880805]]])"
      ]
     },
     "execution_count": 202,
     "metadata": {},
     "output_type": "execute_result"
    }
   ],
   "source": [
    "#11. Create a 3x3x3 array with random values\n",
    "\n",
    "random_array = np.random.rand(3, 3, 3)\n",
    "\n",
    "random_array\n"
   ]
  },
  {
   "cell_type": "code",
   "execution_count": 203,
   "id": "58250313",
   "metadata": {},
   "outputs": [
    {
     "data": {
      "text/plain": [
       "0.5379386126379853"
      ]
     },
     "execution_count": 203,
     "metadata": {},
     "output_type": "execute_result"
    }
   ],
   "source": [
    "#13. Create a random vector of size 30 and find the mean value \n",
    "random_vector = np.random.rand(30)\n",
    "\n",
    "# Calculate the mean value\n",
    "mean_value = np.mean(random_vector)\n",
    "\n",
    "random_vector\n",
    "mean_value\n"
   ]
  },
  {
   "cell_type": "code",
   "execution_count": 204,
   "id": "2c462f3f",
   "metadata": {},
   "outputs": [
    {
     "data": {
      "text/plain": [
       "array([[1., 1., 1., 1., 1.],\n",
       "       [1., 0., 0., 0., 1.],\n",
       "       [1., 0., 0., 0., 1.],\n",
       "       [1., 0., 0., 0., 1.],\n",
       "       [1., 1., 1., 1., 1.]])"
      ]
     },
     "execution_count": 204,
     "metadata": {},
     "output_type": "execute_result"
    }
   ],
   "source": [
    "#14. Create a 2d array with 1 on the border and 0 inside\n",
    "\n",
    "array_with_border = np.ones((5, 5))\n",
    "\n",
    "# Set the interior elements to 0\n",
    "array_with_border[1:-1, 1:-1] = 0\n",
    "\n",
    "array_with_border\n"
   ]
  },
  {
   "cell_type": "code",
   "execution_count": 205,
   "id": "68b0c17d",
   "metadata": {},
   "outputs": [
    {
     "data": {
      "text/plain": [
       "array([[0, 0, 0, 0, 0],\n",
       "       [0, 1, 2, 3, 0],\n",
       "       [0, 4, 5, 6, 0],\n",
       "       [0, 7, 8, 9, 0],\n",
       "       [0, 0, 0, 0, 0]])"
      ]
     },
     "execution_count": 205,
     "metadata": {},
     "output_type": "execute_result"
    }
   ],
   "source": [
    "#15. How to add a border (filled with 0's) around an existing array? \n",
    "existing_array = np.array([[1, 2, 3],\n",
    "                           [4, 5, 6],\n",
    "                           [7, 8, 9]])\n",
    "\n",
    "# Determine the shape of the new array with the border\n",
    "new_shape = tuple(np.array(existing_array.shape) + 2)\n",
    "\n",
    "# Create a new array filled with zeros\n",
    "array_with_border = np.zeros(new_shape, dtype=existing_array.dtype)\n",
    "\n",
    "# Place the existing array inside the new array\n",
    "array_with_border[1:-1, 1:-1] = existing_array\n",
    "\n",
    "array_with_border\n"
   ]
  },
  {
   "cell_type": "code",
   "execution_count": 207,
   "id": "e153ce9b",
   "metadata": {},
   "outputs": [
    {
     "data": {
      "text/plain": [
       "False"
      ]
     },
     "execution_count": 207,
     "metadata": {},
     "output_type": "execute_result"
    }
   ],
   "source": [
    "#16. What is the result of the following expression? \n",
    "0 * np.nan\n",
    "np.nan == np.nan\n",
    "np.inf > np.nan\n",
    "np.nan - np.nan\n",
    "np.nan in set([np.nan])\n",
    "0.3 == 3 * 0.1"
   ]
  },
  {
   "cell_type": "code",
   "execution_count": 208,
   "id": "e5c6e489",
   "metadata": {},
   "outputs": [
    {
     "data": {
      "text/plain": [
       "array([[0, 0, 0, 0, 0],\n",
       "       [1, 0, 0, 0, 0],\n",
       "       [0, 2, 0, 0, 0],\n",
       "       [0, 0, 3, 0, 0],\n",
       "       [0, 0, 0, 4, 0]])"
      ]
     },
     "execution_count": 208,
     "metadata": {},
     "output_type": "execute_result"
    }
   ],
   "source": [
    "# 17. Create a 5x5 matrix with values 1,2,3,4 just below the diagonal\n",
    "diagonal_values = [1, 2, 3, 4]\n",
    "matrix_below_diagonal = np.diag(diagonal_values, k=-1)\n",
    "\n",
    "matrix_below_diagonal\n"
   ]
  },
  {
   "cell_type": "code",
   "execution_count": 209,
   "id": "e7ccca6c",
   "metadata": {},
   "outputs": [
    {
     "data": {
      "text/plain": [
       "array([[0, 1, 0, 1, 0, 1, 0, 1],\n",
       "       [1, 0, 1, 0, 1, 0, 1, 0],\n",
       "       [0, 1, 0, 1, 0, 1, 0, 1],\n",
       "       [1, 0, 1, 0, 1, 0, 1, 0],\n",
       "       [0, 1, 0, 1, 0, 1, 0, 1],\n",
       "       [1, 0, 1, 0, 1, 0, 1, 0],\n",
       "       [0, 1, 0, 1, 0, 1, 0, 1],\n",
       "       [1, 0, 1, 0, 1, 0, 1, 0]])"
      ]
     },
     "execution_count": 209,
     "metadata": {},
     "output_type": "execute_result"
    }
   ],
   "source": [
    "# 18. Create a 8x8 matrix and fill it with a checkerboard pattern\n",
    "checkerboard_matrix = np.zeros((8, 8), dtype=int)\n",
    "\n",
    "# Set alternate rows and columns to 1\n",
    "checkerboard_matrix[1::2, ::2] = 1\n",
    "checkerboard_matrix[::2, 1::2] = 1\n",
    "\n",
    "checkerboard_matrix\n"
   ]
  },
  {
   "cell_type": "code",
   "execution_count": 210,
   "id": "924ef45d",
   "metadata": {},
   "outputs": [
    {
     "data": {
      "text/plain": [
       "(1, 5, 3)"
      ]
     },
     "execution_count": 210,
     "metadata": {},
     "output_type": "execute_result"
    }
   ],
   "source": [
    "#19. Consider a (6,7,8) shape array, what is the index (x,y,z) of the 100th element? \n",
    "shape = (6, 7, 8)\n",
    "\n",
    "# Calculate the index (x, y, z) of the 100th element\n",
    "index_100th_element = np.unravel_index(99, shape)\n",
    "\n",
    "index_100th_element\n"
   ]
  },
  {
   "cell_type": "code",
   "execution_count": 211,
   "id": "ae4f0389",
   "metadata": {},
   "outputs": [
    {
     "data": {
      "text/plain": [
       "array([[0, 1, 0, 1, 0, 1, 0, 1],\n",
       "       [1, 0, 1, 0, 1, 0, 1, 0],\n",
       "       [0, 1, 0, 1, 0, 1, 0, 1],\n",
       "       [1, 0, 1, 0, 1, 0, 1, 0],\n",
       "       [0, 1, 0, 1, 0, 1, 0, 1],\n",
       "       [1, 0, 1, 0, 1, 0, 1, 0],\n",
       "       [0, 1, 0, 1, 0, 1, 0, 1],\n",
       "       [1, 0, 1, 0, 1, 0, 1, 0]])"
      ]
     },
     "execution_count": 211,
     "metadata": {},
     "output_type": "execute_result"
    }
   ],
   "source": [
    "#20. Create a checkerboard 8x8 matrix using the tile function\n",
    "base_checkerboard = np.array([[0, 1], [1, 0]])\n",
    "\n",
    "# Use tile to create an 8x8 checkerboard matrix\n",
    "checkerboard_matrix = np.tile(base_checkerboard, (4, 4))\n",
    "\n",
    "checkerboard_matrix\n"
   ]
  },
  {
   "cell_type": "code",
   "execution_count": 212,
   "id": "a2bc0ba4",
   "metadata": {},
   "outputs": [
    {
     "data": {
      "text/plain": [
       "array([[-0.26951019, -1.15419436, -1.29881359,  0.17017668, -0.48022448],\n",
       "       [ 1.27650959,  0.96920078, -1.37893323, -1.06930862,  0.50028599],\n",
       "       [-1.00753949,  0.72350069,  1.61286416, -0.3470089 , -0.13018361],\n",
       "       [-1.27251206, -1.18216223, -0.5549965 , -0.43592572,  0.61449805],\n",
       "       [ 0.62957086,  1.5050502 , -0.3943645 ,  1.05369676,  1.92032373]])"
      ]
     },
     "execution_count": 212,
     "metadata": {},
     "output_type": "execute_result"
    }
   ],
   "source": [
    "#21. Normalize a 5x5 random matrix \n",
    "\n",
    "random_matrix = np.random.rand(5, 5)\n",
    "\n",
    "# Normalize the matrix\n",
    "normalized_matrix = (random_matrix - np.mean(random_matrix)) / np.std(random_matrix)\n",
    "\n",
    "\n",
    "random_matrix\n",
    "normalized_matrix\n"
   ]
  },
  {
   "cell_type": "code",
   "execution_count": 213,
   "id": "8deaab8d",
   "metadata": {},
   "outputs": [
    {
     "data": {
      "text/plain": [
       "array([(255,   0, 0, 255), (  0, 255, 0, 128)],\n",
       "      dtype=[('R', 'u1'), ('G', 'u1'), ('B', 'u1'), ('A', 'u1')])"
      ]
     },
     "execution_count": 213,
     "metadata": {},
     "output_type": "execute_result"
    }
   ],
   "source": [
    "#22. Create a custom dtype that describes a color as four unsigned bytes (RGBA)\n",
    "\n",
    "color_dtype = np.dtype([('R', np.uint8), ('G', np.uint8), ('B', np.uint8), ('A', np.uint8)])\n",
    "\n",
    "# Create an array with the custom dtype\n",
    "color_array = np.array([(255, 0, 0, 255), (0, 255, 0, 128)], dtype=color_dtype)\n",
    "\n",
    "color_array\n"
   ]
  },
  {
   "cell_type": "code",
   "execution_count": 214,
   "id": "b7559448",
   "metadata": {},
   "outputs": [
    {
     "data": {
      "text/plain": [
       "array([[0.62746062, 0.54208454],\n",
       "       [0.95462539, 1.15429574],\n",
       "       [0.36305477, 0.38561089],\n",
       "       [0.9558051 , 0.80406317],\n",
       "       [0.93567883, 1.19989593]])"
      ]
     },
     "execution_count": 214,
     "metadata": {},
     "output_type": "execute_result"
    }
   ],
   "source": [
    "#23. Multiply a 5x3 matrix by a 3x2 matrix (real matrix product)\n",
    "matrix_A = np.random.rand(5, 3)\n",
    "\n",
    "# Create a 3x2 matrix\n",
    "matrix_B = np.random.rand(3, 2)\n",
    "\n",
    "# Perform matrix multiplication\n",
    "result_matrix = np.dot(matrix_A, matrix_B)\n",
    "\n",
    "# Alternatively, you can use the @ operator:\n",
    "# result_matrix = matrix_A @ matrix_B\n",
    "\n",
    "matrix_A\n",
    "matrix_B\n",
    "result_matrix\n"
   ]
  },
  {
   "cell_type": "code",
   "execution_count": 215,
   "id": "4a9478f1",
   "metadata": {},
   "outputs": [
    {
     "data": {
      "text/plain": [
       "array([ 1, -5, -7, -4,  2,  9, -6,  8,  3])"
      ]
     },
     "execution_count": 215,
     "metadata": {},
     "output_type": "execute_result"
    }
   ],
   "source": [
    "#24. Given a 1D array, negate all elements which are between 3 and 8, in place. \n",
    "my_array = np.array([1, 5, 7, 4, 2, 9, 6, 8, 3])\n",
    "\n",
    "# Negate elements between 3 and 8 in-place\n",
    "my_array[(my_array > 3) & (my_array < 8)] *= -1\n",
    "\n",
    "my_array\n"
   ]
  },
  {
   "cell_type": "code",
   "execution_count": 216,
   "id": "e5ace220",
   "metadata": {},
   "outputs": [
    {
     "name": "stdout",
     "output_type": "stream",
     "text": [
      "9\n",
      "10\n"
     ]
    }
   ],
   "source": [
    "#25. What is the output of the following script?\n",
    "print(sum(range(5),-1))\n",
    "from numpy import *\n",
    "print(sum(range(5),-1))\n"
   ]
  },
  {
   "cell_type": "code",
   "execution_count": 218,
   "id": "42c25a5d",
   "metadata": {},
   "outputs": [
    {
     "name": "stderr",
     "output_type": "stream",
     "text": [
      "C:\\Users\\kkhad\\AppData\\Local\\Temp\\ipykernel_23108\\956879298.py:3: RuntimeWarning: invalid value encountered in divide\n",
      "  np.array(0) / np.array(0)\n",
      "C:\\Users\\kkhad\\AppData\\Local\\Temp\\ipykernel_23108\\956879298.py:4: RuntimeWarning: divide by zero encountered in floor_divide\n",
      "  np.array(0) // np.array(0)\n",
      "C:\\Users\\kkhad\\AppData\\Local\\Temp\\ipykernel_23108\\956879298.py:5: RuntimeWarning: invalid value encountered in cast\n",
      "  np.array([np.nan]).astype(int).astype(float)\n"
     ]
    },
    {
     "data": {
      "text/plain": [
       "array([-2.14748365e+09])"
      ]
     },
     "execution_count": 218,
     "metadata": {},
     "output_type": "execute_result"
    }
   ],
   "source": [
    "#26. What are the result of the following expressions? \n",
    "\n",
    "np.array(0) / np.array(0)\n",
    "np.array(0) // np.array(0)\n",
    "np.array([np.nan]).astype(int).astype(float)"
   ]
  },
  {
   "cell_type": "code",
   "execution_count": 219,
   "id": "20c98b58",
   "metadata": {},
   "outputs": [
    {
     "data": {
      "text/plain": [
       "array([-3.,  2.,  4., -5.,  6.])"
      ]
     },
     "execution_count": 219,
     "metadata": {},
     "output_type": "execute_result"
    }
   ],
   "source": [
    "#27. How to round away from zero a float array ?\n",
    "float_array = np.array([-2.3, 1.5, 3.8, -4.2, 5.1])\n",
    "\n",
    "# Round away from zero\n",
    "rounded_array = np.where(float_array >= 0, np.ceil(float_array), np.floor(float_array))\n",
    "\n",
    "float_array\n",
    "rounded_array\n"
   ]
  },
  {
   "cell_type": "code",
   "execution_count": 220,
   "id": "609e33a2",
   "metadata": {},
   "outputs": [
    {
     "data": {
      "text/plain": [
       "array([3, 4, 5])"
      ]
     },
     "execution_count": 220,
     "metadata": {},
     "output_type": "execute_result"
    }
   ],
   "source": [
    "#28. How to find common values between two arrays?\n",
    "\n",
    "array1 = np.array([1, 2, 3, 4, 5])\n",
    "array2 = np.array([3, 4, 5, 6, 7])\n",
    "\n",
    "# Find common values\n",
    "common_values = np.intersect1d(array1, array2)\n",
    "\n",
    "common_values\n"
   ]
  },
  {
   "cell_type": "code",
   "execution_count": 221,
   "id": "adb7440d",
   "metadata": {},
   "outputs": [],
   "source": [
    "#29. How to ignore all numpy warnings (not recommended)?\n",
    "import numpy as np\n",
    "\n",
    "# Temporarily ignore all NumPy warnings\n",
    "with np.errstate(all='ignore'):\n",
    "    # Your code here\n",
    "    pass  # Replace 'pass' with your actual code\n"
   ]
  },
  {
   "cell_type": "code",
   "execution_count": 222,
   "id": "39d21f33",
   "metadata": {},
   "outputs": [
    {
     "name": "stderr",
     "output_type": "stream",
     "text": [
      "C:\\Users\\kkhad\\AppData\\Local\\Temp\\ipykernel_23108\\2576852104.py:2: RuntimeWarning: invalid value encountered in sqrt\n",
      "  np.sqrt(-1) == np.emath.sqrt(-1)\n"
     ]
    },
    {
     "data": {
      "text/plain": [
       "False"
      ]
     },
     "execution_count": 222,
     "metadata": {},
     "output_type": "execute_result"
    }
   ],
   "source": [
    "#30. Is the following expressions true? \n",
    "np.sqrt(-1) == np.emath.sqrt(-1)"
   ]
  }
 ],
 "metadata": {
  "kernelspec": {
   "display_name": "Python 3 (ipykernel)",
   "language": "python",
   "name": "python3"
  },
  "language_info": {
   "codemirror_mode": {
    "name": "ipython",
    "version": 3
   },
   "file_extension": ".py",
   "mimetype": "text/x-python",
   "name": "python",
   "nbconvert_exporter": "python",
   "pygments_lexer": "ipython3",
   "version": "3.11.5"
  }
 },
 "nbformat": 4,
 "nbformat_minor": 5
}
