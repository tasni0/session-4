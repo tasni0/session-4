{
 "cells": [
  {
   "cell_type": "code",
   "execution_count": 1,
   "id": "b39d3fe2",
   "metadata": {},
   "outputs": [],
   "source": [
    "\n",
    "import numpy as np\n",
    "import pandas as pd"
   ]
  },
  {
   "cell_type": "code",
   "execution_count": 2,
   "id": "ba2b3bb1",
   "metadata": {},
   "outputs": [
    {
     "data": {
      "text/plain": [
       "0     5\n",
       "1    23\n",
       "2    89\n",
       "3    45\n",
       "4    61\n",
       "Name: Sales, dtype: int64"
      ]
     },
     "execution_count": 2,
     "metadata": {},
     "output_type": "execute_result"
    }
   ],
   "source": [
    "sales = [5, 23, 89, 45, 61]\n",
    "sales_series = pd.Series(sales, name='Sales')\n",
    "sales_series"
   ]
  },
  {
   "cell_type": "code",
   "execution_count": 3,
   "id": "ef488bc7",
   "metadata": {},
   "outputs": [
    {
     "name": "stdout",
     "output_type": "stream",
     "text": [
      "RangeIndex(start=0, stop=5, step=1)\n",
      "[ 5 23 89 45 61]\n",
      "Sales\n",
      "int64\n"
     ]
    }
   ],
   "source": [
    "print(sales_series.index)\n",
    "print(sales_series.values)\n",
    "print(sales_series.name)\n",
    "print(sales_series.dtype)"
   ]
  },
  {
   "cell_type": "code",
   "execution_count": 4,
   "id": "d4b5b44a",
   "metadata": {},
   "outputs": [
    {
     "data": {
      "text/plain": [
       "0     5.0\n",
       "1    23.0\n",
       "2    89.0\n",
       "3    45.0\n",
       "4    61.0\n",
       "Name: Sales, dtype: float64"
      ]
     },
     "execution_count": 4,
     "metadata": {},
     "output_type": "execute_result"
    }
   ],
   "source": [
    "sales_series.astype('float64')"
   ]
  },
  {
   "cell_type": "code",
   "execution_count": 5,
   "id": "bfaee5e8",
   "metadata": {},
   "outputs": [
    {
     "data": {
      "text/plain": [
       "0    True\n",
       "1    True\n",
       "2    True\n",
       "3    True\n",
       "4    True\n",
       "Name: Sales, dtype: bool"
      ]
     },
     "execution_count": 5,
     "metadata": {},
     "output_type": "execute_result"
    }
   ],
   "source": [
    "sales_series.astype('bool')"
   ]
  },
  {
   "cell_type": "code",
   "execution_count": 7,
   "id": "ab13e6c7",
   "metadata": {},
   "outputs": [
    {
     "data": {
      "text/plain": [
       "0   1970-01-01 00:00:00.000000005\n",
       "1   1970-01-01 00:00:00.000000023\n",
       "2   1970-01-01 00:00:00.000000089\n",
       "3   1970-01-01 00:00:00.000000045\n",
       "4   1970-01-01 00:00:00.000000061\n",
       "Name: Sales, dtype: datetime64[ns]"
      ]
     },
     "execution_count": 7,
     "metadata": {},
     "output_type": "execute_result"
    }
   ],
   "source": [
    "sales_series.astype('datetime64[ns]')"
   ]
  },
  {
   "cell_type": "markdown",
   "id": "04ce012c",
   "metadata": {},
   "source": [
    "Series Indexing"
   ]
  },
  {
   "cell_type": "code",
   "execution_count": 8,
   "id": "308f3eb9",
   "metadata": {},
   "outputs": [
    {
     "data": {
      "text/plain": [
       "89"
      ]
     },
     "execution_count": 8,
     "metadata": {},
     "output_type": "execute_result"
    }
   ],
   "source": [
    "sales_series[2]"
   ]
  },
  {
   "cell_type": "code",
   "execution_count": 9,
   "id": "bbba735f",
   "metadata": {},
   "outputs": [
    {
     "data": {
      "text/plain": [
       "2    89\n",
       "3    45\n",
       "Name: Sales, dtype: int64"
      ]
     },
     "execution_count": 9,
     "metadata": {},
     "output_type": "execute_result"
    }
   ],
   "source": [
    "sales_series[2:4]"
   ]
  },
  {
   "cell_type": "code",
   "execution_count": 10,
   "id": "cbdbda55",
   "metadata": {},
   "outputs": [
    {
     "data": {
      "text/plain": [
       "Mon     5\n",
       "Tue    23\n",
       "Wed    89\n",
       "Thu    45\n",
       "Fri    61\n",
       "Name: Sales, dtype: int64"
      ]
     },
     "execution_count": 10,
     "metadata": {},
     "output_type": "execute_result"
    }
   ],
   "source": [
    "weekday = ['Mon', 'Tue', 'Wed', 'Thu', 'Fri']\n",
    "sales_series = pd.Series(sales, index=weekday, name='Sales')\n",
    "sales_series"
   ]
  },
  {
   "cell_type": "code",
   "execution_count": 11,
   "id": "383f8a24",
   "metadata": {},
   "outputs": [
    {
     "data": {
      "text/plain": [
       "Mon     5\n",
       "Tue    23\n",
       "Wed    89\n",
       "Thu    45\n",
       "Fri    61\n",
       "Name: Sales, dtype: int64"
      ]
     },
     "execution_count": 11,
     "metadata": {},
     "output_type": "execute_result"
    }
   ],
   "source": [
    "sales_series"
   ]
  },
  {
   "cell_type": "code",
   "execution_count": 12,
   "id": "af51dbb9",
   "metadata": {},
   "outputs": [
    {
     "data": {
      "text/plain": [
       "89"
      ]
     },
     "execution_count": 12,
     "metadata": {},
     "output_type": "execute_result"
    }
   ],
   "source": [
    "sales_series['Wed']"
   ]
  },
  {
   "cell_type": "code",
   "execution_count": 13,
   "id": "e1ea8da0",
   "metadata": {},
   "outputs": [
    {
     "data": {
      "text/plain": [
       "Tue    23\n",
       "Wed    89\n",
       "Thu    45\n",
       "Name: Sales, dtype: int64"
      ]
     },
     "execution_count": 13,
     "metadata": {},
     "output_type": "execute_result"
    }
   ],
   "source": [
    "sales_series['Tue':'Thu']"
   ]
  },
  {
   "cell_type": "code",
   "execution_count": 15,
   "id": "07a7ebef",
   "metadata": {},
   "outputs": [
    {
     "data": {
      "text/plain": [
       "89"
      ]
     },
     "execution_count": 15,
     "metadata": {},
     "output_type": "execute_result"
    }
   ],
   "source": [
    "sales_series.iloc[2]"
   ]
  },
  {
   "cell_type": "code",
   "execution_count": 16,
   "id": "48ff509a",
   "metadata": {},
   "outputs": [
    {
     "data": {
      "text/plain": [
       "Tue    23\n",
       "Wed    89\n",
       "Thu    45\n",
       "Name: Sales, dtype: int64"
      ]
     },
     "execution_count": 16,
     "metadata": {},
     "output_type": "execute_result"
    }
   ],
   "source": [
    "sales_series.iloc[1:4]"
   ]
  },
  {
   "cell_type": "code",
   "execution_count": 17,
   "id": "730b066d",
   "metadata": {},
   "outputs": [
    {
     "data": {
      "text/plain": [
       "23"
      ]
     },
     "execution_count": 17,
     "metadata": {},
     "output_type": "execute_result"
    }
   ],
   "source": [
    "sales_series.loc['Tue']"
   ]
  },
  {
   "cell_type": "code",
   "execution_count": 18,
   "id": "c50a3003",
   "metadata": {},
   "outputs": [
    {
     "data": {
      "text/plain": [
       "Wed    89\n",
       "Thu    45\n",
       "Fri    61\n",
       "Name: Sales, dtype: int64"
      ]
     },
     "execution_count": 18,
     "metadata": {},
     "output_type": "execute_result"
    }
   ],
   "source": [
    "sales_series.loc['Wed':'Fri']"
   ]
  },
  {
   "cell_type": "code",
   "execution_count": 19,
   "id": "8e9a1768",
   "metadata": {},
   "outputs": [
    {
     "data": {
      "text/plain": [
       "Pencil       5\n",
       "Pen         23\n",
       "Eraser      89\n",
       "Notebook    45\n",
       "Pen         61\n",
       "Name: Sales, dtype: int64"
      ]
     },
     "execution_count": 19,
     "metadata": {},
     "output_type": "execute_result"
    }
   ],
   "source": [
    "sales = [5, 23, 89, 45, 61]\n",
    "items = ['Pencil', 'Pen', 'Eraser', 'Notebook', 'Pen']\n",
    "\n",
    "sales_series = pd.Series(sales, index=items, name='Sales')\n",
    "sales_series"
   ]
  },
  {
   "cell_type": "code",
   "execution_count": 20,
   "id": "e9f42918",
   "metadata": {},
   "outputs": [
    {
     "data": {
      "text/plain": [
       "Pen    23\n",
       "Pen    61\n",
       "Name: Sales, dtype: int64"
      ]
     },
     "execution_count": 20,
     "metadata": {},
     "output_type": "execute_result"
    }
   ],
   "source": [
    "sales_series.loc['Pen']"
   ]
  },
  {
   "cell_type": "code",
   "execution_count": 21,
   "id": "68ec55ed",
   "metadata": {},
   "outputs": [
    {
     "data": {
      "text/html": [
       "<div>\n",
       "<style scoped>\n",
       "    .dataframe tbody tr th:only-of-type {\n",
       "        vertical-align: middle;\n",
       "    }\n",
       "\n",
       "    .dataframe tbody tr th {\n",
       "        vertical-align: top;\n",
       "    }\n",
       "\n",
       "    .dataframe thead th {\n",
       "        text-align: right;\n",
       "    }\n",
       "</style>\n",
       "<table border=\"1\" class=\"dataframe\">\n",
       "  <thead>\n",
       "    <tr style=\"text-align: right;\">\n",
       "      <th></th>\n",
       "      <th>index</th>\n",
       "      <th>Sales</th>\n",
       "    </tr>\n",
       "  </thead>\n",
       "  <tbody>\n",
       "    <tr>\n",
       "      <th>0</th>\n",
       "      <td>Pencil</td>\n",
       "      <td>5</td>\n",
       "    </tr>\n",
       "    <tr>\n",
       "      <th>1</th>\n",
       "      <td>Pen</td>\n",
       "      <td>23</td>\n",
       "    </tr>\n",
       "    <tr>\n",
       "      <th>2</th>\n",
       "      <td>Eraser</td>\n",
       "      <td>89</td>\n",
       "    </tr>\n",
       "    <tr>\n",
       "      <th>3</th>\n",
       "      <td>Notebook</td>\n",
       "      <td>45</td>\n",
       "    </tr>\n",
       "    <tr>\n",
       "      <th>4</th>\n",
       "      <td>Pen</td>\n",
       "      <td>61</td>\n",
       "    </tr>\n",
       "  </tbody>\n",
       "</table>\n",
       "</div>"
      ],
      "text/plain": [
       "      index  Sales\n",
       "0    Pencil      5\n",
       "1       Pen     23\n",
       "2    Eraser     89\n",
       "3  Notebook     45\n",
       "4       Pen     61"
      ]
     },
     "execution_count": 21,
     "metadata": {},
     "output_type": "execute_result"
    }
   ],
   "source": [
    "sales_series.reset_index()"
   ]
  },
  {
   "cell_type": "code",
   "execution_count": 22,
   "id": "03316323",
   "metadata": {},
   "outputs": [
    {
     "data": {
      "text/plain": [
       "0     5\n",
       "1    23\n",
       "2    89\n",
       "3    45\n",
       "4    61\n",
       "Name: Sales, dtype: int64"
      ]
     },
     "execution_count": 22,
     "metadata": {},
     "output_type": "execute_result"
    }
   ],
   "source": [
    "sales_series.reset_index(drop=True)"
   ]
  },
  {
   "cell_type": "markdown",
   "id": "587862d7",
   "metadata": {},
   "source": [
    "# Task - 1\n",
    "# find out the first and last 5 days average oil consumption\n",
    "# find out only January, 2017 average oil consumption"
   ]
  },
  {
   "cell_type": "code",
   "execution_count": 29,
   "id": "d37ebc0b",
   "metadata": {},
   "outputs": [
    {
     "data": {
      "text/plain": [
       "93.1075"
      ]
     },
     "execution_count": 29,
     "metadata": {},
     "output_type": "execute_result"
    }
   ],
   "source": [
    "oil_consumption = pd.read_csv('oil.csv', index_col='date', parse_dates=True)\n",
    "\n",
    "# First 5 days' average oil price\n",
    "first_5_days_avg = oil_consumption.head(5)['dcoilwtico'].mean()\n",
    "\n",
    "\n",
    "first_5_days_avg\n",
    "\n"
   ]
  },
  {
   "cell_type": "code",
   "execution_count": 28,
   "id": "1eb39f2d",
   "metadata": {},
   "outputs": [
    {
     "data": {
      "text/plain": [
       "46.745999999999995"
      ]
     },
     "execution_count": 28,
     "metadata": {},
     "output_type": "execute_result"
    }
   ],
   "source": [
    "# last 5 days' average oil price\n",
    "last_5_days_avg = oil_consumption.tail(5)['dcoilwtico'].mean()\n",
    "\n",
    "\n",
    "last_5_days_avg\n"
   ]
  },
  {
   "cell_type": "code",
   "execution_count": 30,
   "id": "33f97e30",
   "metadata": {},
   "outputs": [
    {
     "data": {
      "text/plain": [
       "67.71436595744682"
      ]
     },
     "execution_count": 30,
     "metadata": {},
     "output_type": "execute_result"
    }
   ],
   "source": [
    "# Average oil price for January 2017\n",
    "january_2017_avg = oil_consumption['dcoilwtico'].mean()\n",
    "\n",
    "january_2017_avg"
   ]
  },
  {
   "cell_type": "code",
   "execution_count": 31,
   "id": "5e139754",
   "metadata": {},
   "outputs": [
    {
     "data": {
      "text/html": [
       "<div>\n",
       "<style scoped>\n",
       "    .dataframe tbody tr th:only-of-type {\n",
       "        vertical-align: middle;\n",
       "    }\n",
       "\n",
       "    .dataframe tbody tr th {\n",
       "        vertical-align: top;\n",
       "    }\n",
       "\n",
       "    .dataframe thead th {\n",
       "        text-align: right;\n",
       "    }\n",
       "</style>\n",
       "<table border=\"1\" class=\"dataframe\">\n",
       "  <thead>\n",
       "    <tr style=\"text-align: right;\">\n",
       "      <th></th>\n",
       "      <th>dcoilwtico</th>\n",
       "    </tr>\n",
       "    <tr>\n",
       "      <th>date</th>\n",
       "      <th></th>\n",
       "    </tr>\n",
       "  </thead>\n",
       "  <tbody>\n",
       "    <tr>\n",
       "      <th>2013-01-01</th>\n",
       "      <td>NaN</td>\n",
       "    </tr>\n",
       "    <tr>\n",
       "      <th>2013-01-02</th>\n",
       "      <td>93.14</td>\n",
       "    </tr>\n",
       "    <tr>\n",
       "      <th>2013-01-03</th>\n",
       "      <td>92.97</td>\n",
       "    </tr>\n",
       "    <tr>\n",
       "      <th>2013-01-04</th>\n",
       "      <td>93.12</td>\n",
       "    </tr>\n",
       "    <tr>\n",
       "      <th>2013-01-07</th>\n",
       "      <td>93.20</td>\n",
       "    </tr>\n",
       "  </tbody>\n",
       "</table>\n",
       "</div>"
      ],
      "text/plain": [
       "            dcoilwtico\n",
       "date                  \n",
       "2013-01-01         NaN\n",
       "2013-01-02       93.14\n",
       "2013-01-03       92.97\n",
       "2013-01-04       93.12\n",
       "2013-01-07       93.20"
      ]
     },
     "execution_count": 31,
     "metadata": {},
     "output_type": "execute_result"
    }
   ],
   "source": [
    "oil_consumption = pd.read_csv('oil.csv', index_col='date', parse_dates=True)\n",
    "oil_consumption.head()"
   ]
  },
  {
   "cell_type": "code",
   "execution_count": 32,
   "id": "5dd0a979",
   "metadata": {},
   "outputs": [
    {
     "data": {
      "text/plain": [
       "dcoilwtico    93.1075\n",
       "dtype: float64"
      ]
     },
     "execution_count": 32,
     "metadata": {},
     "output_type": "execute_result"
    }
   ],
   "source": [
    "oil_consumption.iloc[:5].mean()"
   ]
  },
  {
   "cell_type": "code",
   "execution_count": 33,
   "id": "259abb41",
   "metadata": {},
   "outputs": [
    {
     "data": {
      "text/plain": [
       "dcoilwtico    46.746\n",
       "dtype: float64"
      ]
     },
     "execution_count": 33,
     "metadata": {},
     "output_type": "execute_result"
    }
   ],
   "source": [
    "oil_consumption.iloc[-5:].mean()"
   ]
  },
  {
   "cell_type": "code",
   "execution_count": 34,
   "id": "a61ffaa7",
   "metadata": {},
   "outputs": [
    {
     "data": {
      "text/html": [
       "<div>\n",
       "<style scoped>\n",
       "    .dataframe tbody tr th:only-of-type {\n",
       "        vertical-align: middle;\n",
       "    }\n",
       "\n",
       "    .dataframe tbody tr th {\n",
       "        vertical-align: top;\n",
       "    }\n",
       "\n",
       "    .dataframe thead th {\n",
       "        text-align: right;\n",
       "    }\n",
       "</style>\n",
       "<table border=\"1\" class=\"dataframe\">\n",
       "  <thead>\n",
       "    <tr style=\"text-align: right;\">\n",
       "      <th></th>\n",
       "      <th>dcoilwtico</th>\n",
       "    </tr>\n",
       "    <tr>\n",
       "      <th>date</th>\n",
       "      <th></th>\n",
       "    </tr>\n",
       "  </thead>\n",
       "  <tbody>\n",
       "    <tr>\n",
       "      <th>2017-01-02</th>\n",
       "      <td>NaN</td>\n",
       "    </tr>\n",
       "    <tr>\n",
       "      <th>2017-01-03</th>\n",
       "      <td>52.36</td>\n",
       "    </tr>\n",
       "    <tr>\n",
       "      <th>2017-01-04</th>\n",
       "      <td>53.26</td>\n",
       "    </tr>\n",
       "    <tr>\n",
       "      <th>2017-01-05</th>\n",
       "      <td>53.77</td>\n",
       "    </tr>\n",
       "    <tr>\n",
       "      <th>2017-01-06</th>\n",
       "      <td>53.98</td>\n",
       "    </tr>\n",
       "    <tr>\n",
       "      <th>2017-01-09</th>\n",
       "      <td>51.95</td>\n",
       "    </tr>\n",
       "    <tr>\n",
       "      <th>2017-01-10</th>\n",
       "      <td>50.82</td>\n",
       "    </tr>\n",
       "    <tr>\n",
       "      <th>2017-01-11</th>\n",
       "      <td>52.19</td>\n",
       "    </tr>\n",
       "    <tr>\n",
       "      <th>2017-01-12</th>\n",
       "      <td>53.01</td>\n",
       "    </tr>\n",
       "    <tr>\n",
       "      <th>2017-01-13</th>\n",
       "      <td>52.36</td>\n",
       "    </tr>\n",
       "    <tr>\n",
       "      <th>2017-01-16</th>\n",
       "      <td>NaN</td>\n",
       "    </tr>\n",
       "    <tr>\n",
       "      <th>2017-01-17</th>\n",
       "      <td>52.45</td>\n",
       "    </tr>\n",
       "    <tr>\n",
       "      <th>2017-01-18</th>\n",
       "      <td>51.12</td>\n",
       "    </tr>\n",
       "    <tr>\n",
       "      <th>2017-01-19</th>\n",
       "      <td>51.39</td>\n",
       "    </tr>\n",
       "    <tr>\n",
       "      <th>2017-01-20</th>\n",
       "      <td>52.33</td>\n",
       "    </tr>\n",
       "    <tr>\n",
       "      <th>2017-01-23</th>\n",
       "      <td>52.77</td>\n",
       "    </tr>\n",
       "    <tr>\n",
       "      <th>2017-01-24</th>\n",
       "      <td>52.38</td>\n",
       "    </tr>\n",
       "    <tr>\n",
       "      <th>2017-01-25</th>\n",
       "      <td>52.14</td>\n",
       "    </tr>\n",
       "    <tr>\n",
       "      <th>2017-01-26</th>\n",
       "      <td>53.24</td>\n",
       "    </tr>\n",
       "    <tr>\n",
       "      <th>2017-01-27</th>\n",
       "      <td>53.18</td>\n",
       "    </tr>\n",
       "    <tr>\n",
       "      <th>2017-01-30</th>\n",
       "      <td>52.63</td>\n",
       "    </tr>\n",
       "    <tr>\n",
       "      <th>2017-01-31</th>\n",
       "      <td>52.75</td>\n",
       "    </tr>\n",
       "  </tbody>\n",
       "</table>\n",
       "</div>"
      ],
      "text/plain": [
       "            dcoilwtico\n",
       "date                  \n",
       "2017-01-02         NaN\n",
       "2017-01-03       52.36\n",
       "2017-01-04       53.26\n",
       "2017-01-05       53.77\n",
       "2017-01-06       53.98\n",
       "2017-01-09       51.95\n",
       "2017-01-10       50.82\n",
       "2017-01-11       52.19\n",
       "2017-01-12       53.01\n",
       "2017-01-13       52.36\n",
       "2017-01-16         NaN\n",
       "2017-01-17       52.45\n",
       "2017-01-18       51.12\n",
       "2017-01-19       51.39\n",
       "2017-01-20       52.33\n",
       "2017-01-23       52.77\n",
       "2017-01-24       52.38\n",
       "2017-01-25       52.14\n",
       "2017-01-26       53.24\n",
       "2017-01-27       53.18\n",
       "2017-01-30       52.63\n",
       "2017-01-31       52.75"
      ]
     },
     "execution_count": 34,
     "metadata": {},
     "output_type": "execute_result"
    }
   ],
   "source": [
    "oil_consumption.loc['2017-01']"
   ]
  },
  {
   "cell_type": "code",
   "execution_count": 35,
   "id": "c1eb031d",
   "metadata": {},
   "outputs": [
    {
     "data": {
      "text/plain": [
       "dcoilwtico    52.504\n",
       "dtype: float64"
      ]
     },
     "execution_count": 35,
     "metadata": {},
     "output_type": "execute_result"
    }
   ],
   "source": [
    "oil_consumption.loc['2017-01-01': '2017-01-31'].mean()"
   ]
  },
  {
   "cell_type": "markdown",
   "id": "e9f11cd9",
   "metadata": {},
   "source": [
    "Series Filtering"
   ]
  },
  {
   "cell_type": "code",
   "execution_count": 36,
   "id": "75d9d7bc",
   "metadata": {},
   "outputs": [
    {
     "data": {
      "text/plain": [
       "Pencil       5\n",
       "Pen         23\n",
       "Eraser      89\n",
       "Notebook    45\n",
       "Pen         61\n",
       "Name: Sales, dtype: int64"
      ]
     },
     "execution_count": 36,
     "metadata": {},
     "output_type": "execute_result"
    }
   ],
   "source": [
    "sales_series"
   ]
  },
  {
   "cell_type": "code",
   "execution_count": 37,
   "id": "50d95d7c",
   "metadata": {},
   "outputs": [
    {
     "data": {
      "text/plain": [
       "Eraser      89\n",
       "Notebook    45\n",
       "Pen         61\n",
       "Name: Sales, dtype: int64"
      ]
     },
     "execution_count": 37,
     "metadata": {},
     "output_type": "execute_result"
    }
   ],
   "source": [
    "sales_series.loc[sales_series > 30 ]"
   ]
  },
  {
   "cell_type": "code",
   "execution_count": 38,
   "id": "a392285c",
   "metadata": {},
   "outputs": [
    {
     "data": {
      "text/plain": [
       "Pen    61\n",
       "Name: Sales, dtype: int64"
      ]
     },
     "execution_count": 38,
     "metadata": {},
     "output_type": "execute_result"
    }
   ],
   "source": [
    "mask = (sales_series > 30) & (sales_series.index == 'Pen')\n",
    "sales_series[mask]"
   ]
  },
  {
   "cell_type": "code",
   "execution_count": 39,
   "id": "9d93a450",
   "metadata": {},
   "outputs": [
    {
     "data": {
      "text/plain": [
       "Pencil       True\n",
       "Pen         False\n",
       "Eraser      False\n",
       "Notebook    False\n",
       "Pen         False\n",
       "Name: Sales, dtype: bool"
      ]
     },
     "execution_count": 39,
     "metadata": {},
     "output_type": "execute_result"
    }
   ],
   "source": [
    "# python operator\n",
    "sales_series == 5\n",
    "\n",
    "# pandas method\n",
    "sales_series.eq(5)"
   ]
  },
  {
   "cell_type": "code",
   "execution_count": 40,
   "id": "5aee79cf",
   "metadata": {},
   "outputs": [
    {
     "data": {
      "text/plain": [
       "array([False,  True,  True, False,  True])"
      ]
     },
     "execution_count": 40,
     "metadata": {},
     "output_type": "execute_result"
    }
   ],
   "source": [
    "sales_series.index.isin(['Pen', 'Eraser'])"
   ]
  },
  {
   "cell_type": "code",
   "execution_count": 41,
   "id": "9b001ab2",
   "metadata": {},
   "outputs": [
    {
     "data": {
      "text/plain": [
       "array([ True, False, False,  True, False])"
      ]
     },
     "execution_count": 41,
     "metadata": {},
     "output_type": "execute_result"
    }
   ],
   "source": [
    "~sales_series.index.isin(['Pen', 'Eraser'])"
   ]
  },
  {
   "cell_type": "markdown",
   "id": "69fd5f3b",
   "metadata": {},
   "source": [
    "Sorting series"
   ]
  },
  {
   "cell_type": "code",
   "execution_count": 42,
   "id": "546a0177",
   "metadata": {},
   "outputs": [
    {
     "data": {
      "text/plain": [
       "Pencil       5\n",
       "Pen         23\n",
       "Notebook    45\n",
       "Pen         61\n",
       "Eraser      89\n",
       "Name: Sales, dtype: int64"
      ]
     },
     "execution_count": 42,
     "metadata": {},
     "output_type": "execute_result"
    }
   ],
   "source": [
    "sales_series.sort_values()"
   ]
  },
  {
   "cell_type": "code",
   "execution_count": 43,
   "id": "a61eeb11",
   "metadata": {},
   "outputs": [
    {
     "data": {
      "text/plain": [
       "Eraser      89\n",
       "Pen         61\n",
       "Notebook    45\n",
       "Pen         23\n",
       "Pencil       5\n",
       "Name: Sales, dtype: int64"
      ]
     },
     "execution_count": 43,
     "metadata": {},
     "output_type": "execute_result"
    }
   ],
   "source": [
    "sales_series.sort_values(ascending=False)"
   ]
  },
  {
   "cell_type": "code",
   "execution_count": 44,
   "id": "ece79882",
   "metadata": {},
   "outputs": [
    {
     "data": {
      "text/plain": [
       "Eraser      89\n",
       "Notebook    45\n",
       "Pen         23\n",
       "Pen         61\n",
       "Pencil       5\n",
       "Name: Sales, dtype: int64"
      ]
     },
     "execution_count": 44,
     "metadata": {},
     "output_type": "execute_result"
    }
   ],
   "source": [
    "sales_series.sort_index()"
   ]
  },
  {
   "cell_type": "code",
   "execution_count": 45,
   "id": "09ea81b0",
   "metadata": {},
   "outputs": [
    {
     "data": {
      "text/plain": [
       "Pencil       5\n",
       "Pen         23\n",
       "Pen         61\n",
       "Notebook    45\n",
       "Eraser      89\n",
       "Name: Sales, dtype: int64"
      ]
     },
     "execution_count": 45,
     "metadata": {},
     "output_type": "execute_result"
    }
   ],
   "source": [
    "sales_series.sort_index(ascending=False)"
   ]
  },
  {
   "cell_type": "markdown",
   "id": "b5d455eb",
   "metadata": {},
   "source": [
    "# Task\n",
    "First, can you get me the 10 lowest prices from the data, sorted by date, starting with the most recent and ending with the oldest?\n",
    "After that, return to the original data. I’ve provided a list of dates I want to narrow down to, and I also want to look only at prices less than or equal to 50 dollars per barrel."
   ]
  },
  {
   "cell_type": "code",
   "execution_count": 47,
   "id": "8d0180c4",
   "metadata": {},
   "outputs": [
    {
     "name": "stdout",
     "output_type": "stream",
     "text": [
      "10 Lowest Prices (sorted by date):\n",
      "            dcoilwtico\n",
      "date                  \n",
      "2017-08-31       47.26\n",
      "2017-08-30       45.96\n",
      "2017-08-29       46.46\n",
      "2017-08-28       46.40\n",
      "2017-08-25       47.65\n",
      "2017-08-24       47.24\n",
      "2017-08-23       48.45\n",
      "2017-08-22       47.65\n",
      "2017-08-21       47.39\n",
      "2017-08-18       48.59\n"
     ]
    }
   ],
   "source": [
    "# Assuming 'oil_consumption' is your DataFrame with a 'price' column\n",
    "# oil_consumption = pd.read_csv('oil.csv', index_col='date', parse_dates=True)\n",
    "\n",
    "# Sort the DataFrame by date and get the 10 lowest prices\n",
    "lowest_prices = oil_consumption.sort_values(by='date', ascending=False).head(10)\n",
    "\n",
    "# Print the result\n",
    "print(\"10 Lowest Prices (sorted by date):\")\n",
    "print(lowest_prices)"
   ]
  },
  {
   "cell_type": "code",
   "execution_count": 48,
   "id": "3c60f7b8",
   "metadata": {},
   "outputs": [
    {
     "name": "stdout",
     "output_type": "stream",
     "text": [
      "\n",
      "Filtered Data:\n",
      "Empty DataFrame\n",
      "Columns: [dcoilwtico]\n",
      "Index: []\n"
     ]
    }
   ],
   "source": [
    "# List of dates to narrow down to\n",
    "selected_dates = ['2023-01-01', '2023-02-01', '2023-03-01']\n",
    "\n",
    "# Filter the original data based on dates and prices\n",
    "filtered_data = oil_consumption[(oil_consumption.index.isin(selected_dates)) & (oil_consumption['dcoilwtico'] <= 50)]\n",
    "\n",
    "# Print the filtered data\n",
    "print(\"\\nFiltered Data:\")\n",
    "print(filtered_data)\n",
    "\n"
   ]
  },
  {
   "cell_type": "code",
   "execution_count": 49,
   "id": "01ad394a",
   "metadata": {},
   "outputs": [
    {
     "data": {
      "text/html": [
       "<div>\n",
       "<style scoped>\n",
       "    .dataframe tbody tr th:only-of-type {\n",
       "        vertical-align: middle;\n",
       "    }\n",
       "\n",
       "    .dataframe tbody tr th {\n",
       "        vertical-align: top;\n",
       "    }\n",
       "\n",
       "    .dataframe thead th {\n",
       "        text-align: right;\n",
       "    }\n",
       "</style>\n",
       "<table border=\"1\" class=\"dataframe\">\n",
       "  <thead>\n",
       "    <tr style=\"text-align: right;\">\n",
       "      <th></th>\n",
       "      <th>dcoilwtico</th>\n",
       "    </tr>\n",
       "    <tr>\n",
       "      <th>date</th>\n",
       "      <th></th>\n",
       "    </tr>\n",
       "  </thead>\n",
       "  <tbody>\n",
       "    <tr>\n",
       "      <th>2016-02-16</th>\n",
       "      <td>29.05</td>\n",
       "    </tr>\n",
       "    <tr>\n",
       "      <th>2016-02-12</th>\n",
       "      <td>29.32</td>\n",
       "    </tr>\n",
       "    <tr>\n",
       "      <th>2016-02-11</th>\n",
       "      <td>26.19</td>\n",
       "    </tr>\n",
       "    <tr>\n",
       "      <th>2016-02-10</th>\n",
       "      <td>27.54</td>\n",
       "    </tr>\n",
       "    <tr>\n",
       "      <th>2016-02-09</th>\n",
       "      <td>27.96</td>\n",
       "    </tr>\n",
       "    <tr>\n",
       "      <th>2016-01-26</th>\n",
       "      <td>29.54</td>\n",
       "    </tr>\n",
       "    <tr>\n",
       "      <th>2016-01-21</th>\n",
       "      <td>29.55</td>\n",
       "    </tr>\n",
       "    <tr>\n",
       "      <th>2016-01-20</th>\n",
       "      <td>26.68</td>\n",
       "    </tr>\n",
       "    <tr>\n",
       "      <th>2016-01-19</th>\n",
       "      <td>28.47</td>\n",
       "    </tr>\n",
       "    <tr>\n",
       "      <th>2016-01-15</th>\n",
       "      <td>29.45</td>\n",
       "    </tr>\n",
       "  </tbody>\n",
       "</table>\n",
       "</div>"
      ],
      "text/plain": [
       "            dcoilwtico\n",
       "date                  \n",
       "2016-02-16       29.05\n",
       "2016-02-12       29.32\n",
       "2016-02-11       26.19\n",
       "2016-02-10       27.54\n",
       "2016-02-09       27.96\n",
       "2016-01-26       29.54\n",
       "2016-01-21       29.55\n",
       "2016-01-20       26.68\n",
       "2016-01-19       28.47\n",
       "2016-01-15       29.45"
      ]
     },
     "execution_count": 49,
     "metadata": {},
     "output_type": "execute_result"
    }
   ],
   "source": [
    "oil_consumption.sort_values(by='dcoilwtico')[:10].sort_index(ascending=False)"
   ]
  },
  {
   "cell_type": "code",
   "execution_count": 50,
   "id": "4dd92538",
   "metadata": {},
   "outputs": [
    {
     "data": {
      "text/plain": [
       "Pencil       5\n",
       "Pen         23\n",
       "Eraser      89\n",
       "Notebook    45\n",
       "Pen         61\n",
       "Name: Sales, dtype: int64"
      ]
     },
     "execution_count": 50,
     "metadata": {},
     "output_type": "execute_result"
    }
   ],
   "source": [
    "sales_series"
   ]
  },
  {
   "cell_type": "code",
   "execution_count": 51,
   "id": "e7b6af12",
   "metadata": {},
   "outputs": [
    {
     "data": {
      "text/plain": [
       "Pencil       7\n",
       "Pen         25\n",
       "Eraser      91\n",
       "Notebook    47\n",
       "Pen         63\n",
       "Name: Sales, dtype: int64"
      ]
     },
     "execution_count": 51,
     "metadata": {},
     "output_type": "execute_result"
    }
   ],
   "source": [
    "sales_series + 2"
   ]
  },
  {
   "cell_type": "code",
   "execution_count": 52,
   "id": "3064fc73",
   "metadata": {},
   "outputs": [
    {
     "data": {
      "text/plain": [
       "Pencil       7\n",
       "Pen         25\n",
       "Eraser      91\n",
       "Notebook    47\n",
       "Pen         63\n",
       "Name: Sales, dtype: int64"
      ]
     },
     "execution_count": 52,
     "metadata": {},
     "output_type": "execute_result"
    }
   ],
   "source": [
    "sales_series.add(2)"
   ]
  },
  {
   "cell_type": "code",
   "execution_count": 53,
   "id": "a593e6ff",
   "metadata": {},
   "outputs": [
    {
     "data": {
      "text/plain": [
       "Pencil       $5.0\n",
       "Pen         $23.0\n",
       "Eraser      $89.0\n",
       "Notebook    $45.0\n",
       "Pen         $61.0\n",
       "Name: Sales, dtype: object"
      ]
     },
     "execution_count": 53,
     "metadata": {},
     "output_type": "execute_result"
    }
   ],
   "source": [
    "\"$\" + sales_series.astype('float64').astype('str')"
   ]
  },
  {
   "cell_type": "code",
   "execution_count": 54,
   "id": "654c4213",
   "metadata": {},
   "outputs": [
    {
     "data": {
      "text/plain": [
       "Pencil       $5.0\n",
       "Pen         $23.0\n",
       "Eraser      $89.0\n",
       "Notebook    $45.0\n",
       "Pen         $61.0\n",
       "Name: Sales, dtype: object"
      ]
     },
     "execution_count": 54,
     "metadata": {},
     "output_type": "execute_result"
    }
   ],
   "source": [
    "sales_series_update = \"$\" + sales_series.astype('float64').astype('str')\n",
    "sales_series_update"
   ]
  },
  {
   "cell_type": "code",
   "execution_count": 55,
   "id": "e63c8173",
   "metadata": {},
   "outputs": [
    {
     "data": {
      "text/plain": [
       "Pencil      False\n",
       "Pen         False\n",
       "Eraser       True\n",
       "Notebook    False\n",
       "Pen         False\n",
       "Name: Sales, dtype: bool"
      ]
     },
     "execution_count": 55,
     "metadata": {},
     "output_type": "execute_result"
    }
   ],
   "source": [
    "sales_series_update.str.contains('8')"
   ]
  },
  {
   "cell_type": "code",
   "execution_count": 56,
   "id": "2bf10375",
   "metadata": {},
   "outputs": [
    {
     "data": {
      "text/plain": [
       "Pencil       5\n",
       "Pen         23\n",
       "Eraser      89\n",
       "Notebook    45\n",
       "Pen         61\n",
       "Name: Sales, dtype: int64"
      ]
     },
     "execution_count": 56,
     "metadata": {},
     "output_type": "execute_result"
    }
   ],
   "source": [
    "sales_series_update.str.replace('$', '', ).astype('float64').astype('int64')"
   ]
  },
  {
   "cell_type": "code",
   "execution_count": 57,
   "id": "d53eea40",
   "metadata": {},
   "outputs": [
    {
     "data": {
      "text/plain": [
       "Pencil       5\n",
       "Pen         23\n",
       "Eraser      89\n",
       "Notebook    45\n",
       "Pen         61\n",
       "Name: Sales, dtype: int64"
      ]
     },
     "execution_count": 57,
     "metadata": {},
     "output_type": "execute_result"
    }
   ],
   "source": [
    "sales_series"
   ]
  },
  {
   "cell_type": "code",
   "execution_count": 58,
   "id": "b298d464",
   "metadata": {},
   "outputs": [
    {
     "data": {
      "text/plain": [
       "223"
      ]
     },
     "execution_count": 58,
     "metadata": {},
     "output_type": "execute_result"
    }
   ],
   "source": [
    "sales_series.sum()"
   ]
  },
  {
   "cell_type": "code",
   "execution_count": 59,
   "id": "b43cf7dd",
   "metadata": {},
   "outputs": [
    {
     "data": {
      "text/plain": [
       "84"
      ]
     },
     "execution_count": 59,
     "metadata": {},
     "output_type": "execute_result"
    }
   ],
   "source": [
    "sales_series.loc[\"Pen\"].sum()"
   ]
  },
  {
   "cell_type": "code",
   "execution_count": 60,
   "id": "ad216a54",
   "metadata": {},
   "outputs": [
    {
     "data": {
      "text/plain": [
       "Pencil       5\n",
       "Pen         23\n",
       "Eraser      89\n",
       "Notebook    45\n",
       "Pen         61\n",
       "Name: Sales, dtype: int64"
      ]
     },
     "execution_count": 60,
     "metadata": {},
     "output_type": "execute_result"
    }
   ],
   "source": [
    "sales_series"
   ]
  },
  {
   "cell_type": "code",
   "execution_count": 61,
   "id": "82500467",
   "metadata": {},
   "outputs": [
    {
     "data": {
      "text/html": [
       "<div>\n",
       "<style scoped>\n",
       "    .dataframe tbody tr th:only-of-type {\n",
       "        vertical-align: middle;\n",
       "    }\n",
       "\n",
       "    .dataframe tbody tr th {\n",
       "        vertical-align: top;\n",
       "    }\n",
       "\n",
       "    .dataframe thead th {\n",
       "        text-align: right;\n",
       "    }\n",
       "</style>\n",
       "<table border=\"1\" class=\"dataframe\">\n",
       "  <thead>\n",
       "    <tr style=\"text-align: right;\">\n",
       "      <th></th>\n",
       "      <th>index</th>\n",
       "      <th>Sales</th>\n",
       "    </tr>\n",
       "  </thead>\n",
       "  <tbody>\n",
       "    <tr>\n",
       "      <th>0</th>\n",
       "      <td>Pencil</td>\n",
       "      <td>5</td>\n",
       "    </tr>\n",
       "    <tr>\n",
       "      <th>1</th>\n",
       "      <td>Pen</td>\n",
       "      <td>23</td>\n",
       "    </tr>\n",
       "    <tr>\n",
       "      <th>2</th>\n",
       "      <td>Eraser</td>\n",
       "      <td>89</td>\n",
       "    </tr>\n",
       "    <tr>\n",
       "      <th>3</th>\n",
       "      <td>Notebook</td>\n",
       "      <td>45</td>\n",
       "    </tr>\n",
       "    <tr>\n",
       "      <th>4</th>\n",
       "      <td>Pen</td>\n",
       "      <td>61</td>\n",
       "    </tr>\n",
       "  </tbody>\n",
       "</table>\n",
       "</div>"
      ],
      "text/plain": [
       "      index  Sales\n",
       "0    Pencil      5\n",
       "1       Pen     23\n",
       "2    Eraser     89\n",
       "3  Notebook     45\n",
       "4       Pen     61"
      ]
     },
     "execution_count": 61,
     "metadata": {},
     "output_type": "execute_result"
    }
   ],
   "source": [
    "sales_series_update = sales_series.reset_index()\n",
    "sales_series_update"
   ]
  },
  {
   "cell_type": "code",
   "execution_count": 62,
   "id": "7032d08e",
   "metadata": {},
   "outputs": [
    {
     "data": {
      "text/plain": [
       "index\n",
       "Pen         2\n",
       "Pencil      1\n",
       "Eraser      1\n",
       "Notebook    1\n",
       "Name: count, dtype: int64"
      ]
     },
     "execution_count": 62,
     "metadata": {},
     "output_type": "execute_result"
    }
   ],
   "source": [
    "sales_series_update['index'].value_counts()"
   ]
  },
  {
   "cell_type": "code",
   "execution_count": 63,
   "id": "68db0326",
   "metadata": {},
   "outputs": [
    {
     "data": {
      "text/plain": [
       "array(['Pencil', 'Pen', 'Eraser', 'Notebook'], dtype=object)"
      ]
     },
     "execution_count": 63,
     "metadata": {},
     "output_type": "execute_result"
    }
   ],
   "source": [
    "sales_series_update['index'].unique()"
   ]
  },
  {
   "cell_type": "code",
   "execution_count": 64,
   "id": "1225fb4b",
   "metadata": {},
   "outputs": [
    {
     "data": {
      "text/plain": [
       "index     Sales\n",
       "Eraser    89       0.2\n",
       "Notebook  45       0.2\n",
       "Pen       23       0.2\n",
       "          61       0.2\n",
       "Pencil    5        0.2\n",
       "Name: proportion, dtype: float64"
      ]
     },
     "execution_count": 64,
     "metadata": {},
     "output_type": "execute_result"
    }
   ],
   "source": [
    "sales_series_update.value_counts(normalize=True)"
   ]
  },
  {
   "cell_type": "code",
   "execution_count": 65,
   "id": "0394bc3c",
   "metadata": {},
   "outputs": [
    {
     "data": {
      "text/plain": [
       "index\n",
       "Pen         0.4\n",
       "Pencil      0.2\n",
       "Eraser      0.2\n",
       "Notebook    0.2\n",
       "Name: proportion, dtype: float64"
      ]
     },
     "execution_count": 65,
     "metadata": {},
     "output_type": "execute_result"
    }
   ],
   "source": [
    "sales_series_update['index'].value_counts(normalize=True)"
   ]
  },
  {
   "cell_type": "markdown",
   "id": "dc41b286",
   "metadata": {},
   "source": [
    "# Missing Data"
   ]
  },
  {
   "cell_type": "markdown",
   "id": "d4f80632",
   "metadata": {},
   "source": [
    "# Task # oil prices series\n"
   ]
  },
  {
   "cell_type": "code",
   "execution_count": 66,
   "id": "b7041e3d",
   "metadata": {},
   "outputs": [
    {
     "name": "stdout",
     "output_type": "stream",
     "text": [
      "Number of missing values in the 'price' column: 2\n",
      "DataFrame after filling missing values:\n",
      "         date  price\n",
      "0  2022-01-01  50.00\n",
      "1  2022-01-02  51.44\n",
      "2  2022-01-03  47.83\n",
      "3  2022-01-04  50.00\n",
      "4  2022-01-05  50.00\n"
     ]
    }
   ],
   "source": [
    "import pandas as pd\n",
    "\n",
    "# Assuming df is your DataFrame with a column named \"price\"\n",
    "# Fill in missing values with NaN for demonstration purposes\n",
    "data = {'date': ['2022-01-01', '2022-01-02', '2022-01-03', '2022-01-04', '2022-01-05'],\n",
    "        'price': [50.0, 51.44, 47.83, np.nan, np.nan]}\n",
    "df = pd.DataFrame(data)\n",
    "\n",
    "# Count the number of missing values in the \"price\" column\n",
    "missing_values_count = df['price'].isnull().sum()\n",
    "print(f\"Number of missing values in the 'price' column: {missing_values_count}\")\n",
    "\n",
    "# Fill missing values with the median of the \"price\" column\n",
    "median_price = df['price'].median()\n",
    "df['price'].fillna(median_price, inplace=True)\n",
    "\n",
    "# Display the DataFrame after filling missing values\n",
    "print(\"DataFrame after filling missing values:\")\n",
    "print(df)\n"
   ]
  },
  {
   "cell_type": "code",
   "execution_count": 68,
   "id": "ff30f8c9",
   "metadata": {},
   "outputs": [
    {
     "data": {
      "text/plain": [
       "date\n",
       "2013-01-01      NaN\n",
       "2013-01-02    93.14\n",
       "2013-01-03    92.97\n",
       "2013-01-04    93.12\n",
       "2013-01-07    93.20\n",
       "              ...  \n",
       "2017-08-25    47.65\n",
       "2017-08-28    46.40\n",
       "2017-08-29    46.46\n",
       "2017-08-30    45.96\n",
       "2017-08-31    47.26\n",
       "Name: dcoilwtico, Length: 1218, dtype: float64"
      ]
     },
     "execution_count": 68,
     "metadata": {},
     "output_type": "execute_result"
    }
   ],
   "source": [
    "import pandas as pd\n",
    "oil_series = pd.read_csv('oil.csv', index_col='date', parse_dates=True)\n",
    "oil_series = oil_series['dcoilwtico']\n",
    "oil_series"
   ]
  },
  {
   "cell_type": "code",
   "execution_count": 69,
   "id": "29d7e491",
   "metadata": {},
   "outputs": [
    {
     "data": {
      "text/plain": [
       "45"
      ]
     },
     "execution_count": 69,
     "metadata": {},
     "output_type": "execute_result"
    }
   ],
   "source": [
    "oil_series = oil_series.where(~oil_series.isin([51.44, 47.83]), pd.NA)\n",
    "oil_series.isna().sum()"
   ]
  },
  {
   "cell_type": "code",
   "execution_count": 70,
   "id": "e9b3bce7",
   "metadata": {},
   "outputs": [
    {
     "data": {
      "text/plain": [
       "0"
      ]
     },
     "execution_count": 70,
     "metadata": {},
     "output_type": "execute_result"
    }
   ],
   "source": [
    "oil_series = oil_series.fillna(oil_series.median())\n",
    "oil_series.isna().sum()"
   ]
  },
  {
   "cell_type": "markdown",
   "id": "f29a1b62",
   "metadata": {},
   "source": [
    "# Task"
   ]
  },
  {
   "cell_type": "code",
   "execution_count": 71,
   "id": "87e317e0",
   "metadata": {},
   "outputs": [
    {
     "name": "stdout",
     "output_type": "stream",
     "text": [
      "DataFrame after applying 'buy_or_wait' function:\n",
      "         date  price buy_or_wait\n",
      "0  2022-01-01  50.00         buy\n",
      "1  2022-01-02  51.44        wait\n",
      "2  2022-01-03  47.83         buy\n",
      "3  2022-01-04    NaN        wait\n",
      "4  2022-01-05    NaN        wait\n",
      "DataFrame after fixing final prices:\n",
      "         date  price buy_or_wait  fixed_price\n",
      "0  2022-01-01  50.00         buy       55.000\n",
      "1  2022-01-02  51.44        wait       56.584\n",
      "2  2022-01-03  47.83         buy       52.613\n",
      "3  2022-01-04    NaN        wait          NaN\n",
      "4  2022-01-05    NaN        wait          NaN\n"
     ]
    }
   ],
   "source": [
    "import pandas as pd\n",
    "import numpy as np\n",
    "\n",
    "# Assuming df is your DataFrame with a column named \"price\"\n",
    "# Fill in missing values with NaN for demonstration purposes\n",
    "data = {'date': ['2022-01-01', '2022-01-02', '2022-01-03', '2022-01-04', '2022-01-05'],\n",
    "        'price': [50.0, 51.44, 47.83, np.nan, np.nan]}\n",
    "df = pd.DataFrame(data)\n",
    "\n",
    "def buy_or_wait(price):\n",
    "    percentile_90 = np.percentile(df['price'].dropna(), 90)\n",
    "    \n",
    "    if price < percentile_90:\n",
    "        return 'buy'\n",
    "    else:\n",
    "        return 'wait'\n",
    "\n",
    "# Apply the function to the oil price series\n",
    "df['buy_or_wait'] = df['price'].apply(buy_or_wait)\n",
    "\n",
    "# Display the DataFrame after applying the 'buy_or_wait' function\n",
    "print(\"DataFrame after applying 'buy_or_wait' function:\")\n",
    "print(df)\n",
    "\n",
    "# Fix final prices based on the given conditions\n",
    "df['fixed_price'] = np.where((df['date'] == '2016-12-23') | (df['date'] == '2017-05-10'), df['price'] * 0.55, df['price'] * 1.1)\n",
    "\n",
    "# Display the DataFrame after fixing final prices\n",
    "print(\"DataFrame after fixing final prices:\")\n",
    "print(df)\n"
   ]
  },
  {
   "cell_type": "code",
   "execution_count": 72,
   "id": "4ff73ec8",
   "metadata": {},
   "outputs": [
    {
     "data": {
      "text/plain": [
       "date\n",
       "2013-01-01     Buy\n",
       "2013-01-02     Buy\n",
       "2013-01-03     Buy\n",
       "2013-01-04     Buy\n",
       "2013-01-07     Buy\n",
       "2013-01-08     Buy\n",
       "2013-01-09     Buy\n",
       "2013-01-10     Buy\n",
       "2013-01-11     Buy\n",
       "2013-01-14     Buy\n",
       "2013-01-15     Buy\n",
       "2013-01-16     Buy\n",
       "2013-01-17    Wait\n",
       "2013-01-18    Wait\n",
       "2013-01-21     Buy\n",
       "2013-01-22    Wait\n",
       "2013-01-23     Buy\n",
       "2013-01-24    Wait\n",
       "2013-01-25     Buy\n",
       "2013-01-28    Wait\n",
       "Name: dcoilwtico, dtype: object"
      ]
     },
     "execution_count": 72,
     "metadata": {},
     "output_type": "execute_result"
    }
   ],
   "source": [
    "oil_series.apply(lambda x: 'Buy' if x < oil_series.quantile(0.75) else 'Wait').head(20)"
   ]
  },
  {
   "cell_type": "code",
   "execution_count": 73,
   "id": "235a324c",
   "metadata": {},
   "outputs": [],
   "source": [
    "import numpy as np"
   ]
  },
  {
   "cell_type": "code",
   "execution_count": 74,
   "id": "ba3b6420",
   "metadata": {},
   "outputs": [
    {
     "data": {
      "text/plain": [
       "0        58.509\n",
       "1       102.454\n",
       "2       102.267\n",
       "3       102.432\n",
       "4       102.520\n",
       "         ...   \n",
       "1213     52.415\n",
       "1214     51.040\n",
       "1215     51.106\n",
       "1216     50.556\n",
       "1217     51.986\n",
       "Length: 1218, dtype: float64"
      ]
     },
     "execution_count": 74,
     "metadata": {},
     "output_type": "execute_result"
    }
   ],
   "source": [
    "pd.Series(\n",
    "    np.where(\n",
    "        oil_series.index.isin(['2016-12-23', '2017-05-10']),\n",
    "        oil_series * 0.9,\n",
    "        oil_series * 1.1\n",
    "    )\n",
    ")"
   ]
  },
  {
   "cell_type": "code",
   "execution_count": 75,
   "id": "43908fbf",
   "metadata": {},
   "outputs": [
    {
     "data": {
      "text/plain": [
       "date\n",
       "2013-01-01    53.19\n",
       "2013-01-02    93.14\n",
       "2013-01-03    92.97\n",
       "2013-01-04    93.12\n",
       "2013-01-07    93.20\n",
       "              ...  \n",
       "2017-08-25    47.65\n",
       "2017-08-28    46.40\n",
       "2017-08-29    46.46\n",
       "2017-08-30    45.96\n",
       "2017-08-31    47.26\n",
       "Name: dcoilwtico, Length: 1218, dtype: float64"
      ]
     },
     "execution_count": 75,
     "metadata": {},
     "output_type": "execute_result"
    }
   ],
   "source": [
    "oil_series"
   ]
  },
  {
   "cell_type": "markdown",
   "id": "811b4964",
   "metadata": {},
   "source": [
    "# DataFrame"
   ]
  },
  {
   "cell_type": "code",
   "execution_count": 76,
   "id": "c010716e",
   "metadata": {},
   "outputs": [],
   "source": [
    "import numpy as np\n",
    "import pandas as pd"
   ]
  },
  {
   "cell_type": "code",
   "execution_count": 77,
   "id": "cb7ffd0c",
   "metadata": {},
   "outputs": [
    {
     "data": {
      "text/html": [
       "<div>\n",
       "<style scoped>\n",
       "    .dataframe tbody tr th:only-of-type {\n",
       "        vertical-align: middle;\n",
       "    }\n",
       "\n",
       "    .dataframe tbody tr th {\n",
       "        vertical-align: top;\n",
       "    }\n",
       "\n",
       "    .dataframe thead th {\n",
       "        text-align: right;\n",
       "    }\n",
       "</style>\n",
       "<table border=\"1\" class=\"dataframe\">\n",
       "  <thead>\n",
       "    <tr style=\"text-align: right;\">\n",
       "      <th></th>\n",
       "      <th>id</th>\n",
       "      <th>date</th>\n",
       "      <th>store_nbr</th>\n",
       "      <th>family</th>\n",
       "      <th>sales</th>\n",
       "      <th>onpromotion</th>\n",
       "    </tr>\n",
       "  </thead>\n",
       "  <tbody>\n",
       "    <tr>\n",
       "      <th>0</th>\n",
       "      <td>1945944</td>\n",
       "      <td>2016-01-01</td>\n",
       "      <td>1</td>\n",
       "      <td>AUTOMOTIVE</td>\n",
       "      <td>0.000</td>\n",
       "      <td>0</td>\n",
       "    </tr>\n",
       "    <tr>\n",
       "      <th>1</th>\n",
       "      <td>1945945</td>\n",
       "      <td>2016-01-01</td>\n",
       "      <td>1</td>\n",
       "      <td>BABY CARE</td>\n",
       "      <td>0.000</td>\n",
       "      <td>0</td>\n",
       "    </tr>\n",
       "    <tr>\n",
       "      <th>2</th>\n",
       "      <td>1945946</td>\n",
       "      <td>2016-01-01</td>\n",
       "      <td>1</td>\n",
       "      <td>BEAUTY</td>\n",
       "      <td>0.000</td>\n",
       "      <td>0</td>\n",
       "    </tr>\n",
       "    <tr>\n",
       "      <th>3</th>\n",
       "      <td>1945947</td>\n",
       "      <td>2016-01-01</td>\n",
       "      <td>1</td>\n",
       "      <td>BEVERAGES</td>\n",
       "      <td>0.000</td>\n",
       "      <td>0</td>\n",
       "    </tr>\n",
       "    <tr>\n",
       "      <th>4</th>\n",
       "      <td>1945948</td>\n",
       "      <td>2016-01-01</td>\n",
       "      <td>1</td>\n",
       "      <td>BOOKS</td>\n",
       "      <td>0.000</td>\n",
       "      <td>0</td>\n",
       "    </tr>\n",
       "    <tr>\n",
       "      <th>...</th>\n",
       "      <td>...</td>\n",
       "      <td>...</td>\n",
       "      <td>...</td>\n",
       "      <td>...</td>\n",
       "      <td>...</td>\n",
       "      <td>...</td>\n",
       "    </tr>\n",
       "    <tr>\n",
       "      <th>1054939</th>\n",
       "      <td>3000883</td>\n",
       "      <td>2017-08-15</td>\n",
       "      <td>9</td>\n",
       "      <td>POULTRY</td>\n",
       "      <td>438.133</td>\n",
       "      <td>0</td>\n",
       "    </tr>\n",
       "    <tr>\n",
       "      <th>1054940</th>\n",
       "      <td>3000884</td>\n",
       "      <td>2017-08-15</td>\n",
       "      <td>9</td>\n",
       "      <td>PREPARED FOODS</td>\n",
       "      <td>154.553</td>\n",
       "      <td>1</td>\n",
       "    </tr>\n",
       "    <tr>\n",
       "      <th>1054941</th>\n",
       "      <td>3000885</td>\n",
       "      <td>2017-08-15</td>\n",
       "      <td>9</td>\n",
       "      <td>PRODUCE</td>\n",
       "      <td>2419.729</td>\n",
       "      <td>148</td>\n",
       "    </tr>\n",
       "    <tr>\n",
       "      <th>1054942</th>\n",
       "      <td>3000886</td>\n",
       "      <td>2017-08-15</td>\n",
       "      <td>9</td>\n",
       "      <td>SCHOOL AND OFFICE SUPPLIES</td>\n",
       "      <td>121.000</td>\n",
       "      <td>8</td>\n",
       "    </tr>\n",
       "    <tr>\n",
       "      <th>1054943</th>\n",
       "      <td>3000887</td>\n",
       "      <td>2017-08-15</td>\n",
       "      <td>9</td>\n",
       "      <td>SEAFOOD</td>\n",
       "      <td>16.000</td>\n",
       "      <td>0</td>\n",
       "    </tr>\n",
       "  </tbody>\n",
       "</table>\n",
       "<p>1054944 rows × 6 columns</p>\n",
       "</div>"
      ],
      "text/plain": [
       "              id        date  store_nbr                      family     sales  \\\n",
       "0        1945944  2016-01-01          1                  AUTOMOTIVE     0.000   \n",
       "1        1945945  2016-01-01          1                   BABY CARE     0.000   \n",
       "2        1945946  2016-01-01          1                      BEAUTY     0.000   \n",
       "3        1945947  2016-01-01          1                   BEVERAGES     0.000   \n",
       "4        1945948  2016-01-01          1                       BOOKS     0.000   \n",
       "...          ...         ...        ...                         ...       ...   \n",
       "1054939  3000883  2017-08-15          9                     POULTRY   438.133   \n",
       "1054940  3000884  2017-08-15          9              PREPARED FOODS   154.553   \n",
       "1054941  3000885  2017-08-15          9                     PRODUCE  2419.729   \n",
       "1054942  3000886  2017-08-15          9  SCHOOL AND OFFICE SUPPLIES   121.000   \n",
       "1054943  3000887  2017-08-15          9                     SEAFOOD    16.000   \n",
       "\n",
       "         onpromotion  \n",
       "0                  0  \n",
       "1                  0  \n",
       "2                  0  \n",
       "3                  0  \n",
       "4                  0  \n",
       "...              ...  \n",
       "1054939            0  \n",
       "1054940            1  \n",
       "1054941          148  \n",
       "1054942            8  \n",
       "1054943            0  \n",
       "\n",
       "[1054944 rows x 6 columns]"
      ]
     },
     "execution_count": 77,
     "metadata": {},
     "output_type": "execute_result"
    }
   ],
   "source": [
    "retail_df = pd.read_csv('retail_2016_2017.csv')\n",
    "retail_df"
   ]
  },
  {
   "cell_type": "markdown",
   "id": "96ccfc48",
   "metadata": {},
   "source": [
    "# Task"
   ]
  },
  {
   "cell_type": "code",
   "execution_count": 78,
   "id": "3e0a3d0d",
   "metadata": {},
   "outputs": [
    {
     "name": "stdout",
     "output_type": "stream",
     "text": [
      "Number of rows in the data: 83488\n",
      "\n",
      "Columns and their datatypes:\n",
      "date            object\n",
      "store_nbr        int64\n",
      "transactions     int64\n",
      "dtype: object\n"
     ]
    }
   ],
   "source": [
    "import pandas as pd\n",
    "\n",
    "# Read the transactions data from the CSV file\n",
    "file_path = 'transactions.csv'\n",
    "df = pd.read_csv(file_path)\n",
    "\n",
    "# Display the number of rows in the data\n",
    "num_rows = len(df)\n",
    "print(f\"Number of rows in the data: {num_rows}\")\n",
    "\n",
    "# Display the columns and their datatypes\n",
    "print(\"\\nColumns and their datatypes:\")\n",
    "print(df.dtypes)\n"
   ]
  },
  {
   "cell_type": "code",
   "execution_count": null,
   "id": "7fa95984",
   "metadata": {},
   "outputs": [],
   "source": [
    "transaction_df = pd.read_csv('transactions.csv')\n",
    "transaction_df"
   ]
  },
  {
   "cell_type": "code",
   "execution_count": 80,
   "id": "4ba4e206",
   "metadata": {},
   "outputs": [
    {
     "data": {
      "text/plain": [
       "date            object\n",
       "store_nbr        int64\n",
       "transactions     int64\n",
       "dtype: object"
      ]
     },
     "execution_count": 80,
     "metadata": {},
     "output_type": "execute_result"
    }
   ],
   "source": [
    "transaction_df.dtypes"
   ]
  },
  {
   "cell_type": "markdown",
   "id": "ff688d40",
   "metadata": {},
   "source": [
    "# Exploring a DataFrame"
   ]
  },
  {
   "cell_type": "markdown",
   "id": "ede0bc32",
   "metadata": {},
   "source": [
    "# Task"
   ]
  },
  {
   "cell_type": "code",
   "execution_count": 81,
   "id": "e5c62af7",
   "metadata": {},
   "outputs": [
    {
     "name": "stdout",
     "output_type": "stream",
     "text": [
      "No missing values found in any column.\n"
     ]
    }
   ],
   "source": [
    "import pandas as pd\n",
    "\n",
    "# Read the transactions data from the CSV file\n",
    "file_path = 'transactions.csv'\n",
    "df = pd.read_csv(file_path)\n",
    "\n",
    "# Check for missing values in each column\n",
    "missing_values = df.isnull().sum()\n",
    "\n",
    "# Display the columns with missing values and their counts\n",
    "columns_with_missing_values = missing_values[missing_values > 0]\n",
    "if not columns_with_missing_values.empty:\n",
    "    print(\"Columns with missing values:\")\n",
    "    print(columns_with_missing_values)\n",
    "else:\n",
    "    print(\"No missing values found in any column.\")\n"
   ]
  },
  {
   "cell_type": "code",
   "execution_count": 82,
   "id": "220ea6b6",
   "metadata": {},
   "outputs": [
    {
     "name": "stdout",
     "output_type": "stream",
     "text": [
      "Number of unique dates: 1682\n",
      "Missing dates:\n",
      "DatetimeIndex(['2013-12-25', '2014-12-25', '2015-12-25', '2016-01-01',\n",
      "               '2016-01-03', '2016-12-25'],\n",
      "              dtype='datetime64[ns]', freq=None)\n"
     ]
    }
   ],
   "source": [
    "import pandas as pd\n",
    "\n",
    "# Read the transactions data from the CSV file\n",
    "file_path = 'transactions.csv'\n",
    "df = pd.read_csv(file_path)\n",
    "\n",
    "# Convert the 'date' column to datetime format\n",
    "df['date'] = pd.to_datetime(df['date'], errors='coerce')\n",
    "\n",
    "# Check the number of unique dates and identify any missing dates\n",
    "unique_dates = df['date'].unique()\n",
    "missing_dates = pd.date_range(start=df['date'].min(), end=df['date'].max()).difference(unique_dates)\n",
    "\n",
    "# Display the number of unique dates and any missing dates\n",
    "print(f\"Number of unique dates: {len(unique_dates)}\")\n",
    "if not missing_dates.empty:\n",
    "    print(\"Missing dates:\")\n",
    "    print(missing_dates)\n",
    "else:\n",
    "    print(\"No missing dates found.\")\n"
   ]
  },
  {
   "cell_type": "code",
   "execution_count": 83,
   "id": "9491ccac",
   "metadata": {},
   "outputs": [
    {
     "name": "stdout",
     "output_type": "stream",
     "text": [
      "Mean transactions: 1694.6021583940208\n",
      "Median transactions: 1393.0\n",
      "Minimum transactions: 5.0\n",
      "Maximum transactions: 8359.0\n"
     ]
    }
   ],
   "source": [
    "import pandas as pd\n",
    "\n",
    "# Read the transactions data from the CSV file\n",
    "file_path = 'transactions.csv'\n",
    "df = pd.read_csv(file_path)\n",
    "\n",
    "# Check statistics for the \"transactions\" column\n",
    "transactions_stats = df['transactions'].describe()\n",
    "\n",
    "# Extract specific statistics\n",
    "mean_transactions = transactions_stats['mean']\n",
    "median_transactions = df['transactions'].median()\n",
    "min_transactions = transactions_stats['min']\n",
    "max_transactions = transactions_stats['max']\n",
    "\n",
    "# Display the statistics\n",
    "print(f\"Mean transactions: {mean_transactions}\")\n",
    "print(f\"Median transactions: {median_transactions}\")\n",
    "print(f\"Minimum transactions: {min_transactions}\")\n",
    "print(f\"Maximum transactions: {max_transactions}\")\n"
   ]
  },
  {
   "cell_type": "code",
   "execution_count": 84,
   "id": "5d870a98",
   "metadata": {},
   "outputs": [
    {
     "data": {
      "text/html": [
       "<div>\n",
       "<style scoped>\n",
       "    .dataframe tbody tr th:only-of-type {\n",
       "        vertical-align: middle;\n",
       "    }\n",
       "\n",
       "    .dataframe tbody tr th {\n",
       "        vertical-align: top;\n",
       "    }\n",
       "\n",
       "    .dataframe thead th {\n",
       "        text-align: right;\n",
       "    }\n",
       "</style>\n",
       "<table border=\"1\" class=\"dataframe\">\n",
       "  <thead>\n",
       "    <tr style=\"text-align: right;\">\n",
       "      <th></th>\n",
       "      <th>date</th>\n",
       "      <th>store_nbr</th>\n",
       "      <th>transactions</th>\n",
       "    </tr>\n",
       "  </thead>\n",
       "  <tbody>\n",
       "    <tr>\n",
       "      <th>count</th>\n",
       "      <td>83488</td>\n",
       "      <td>83488.00</td>\n",
       "      <td>83488.00</td>\n",
       "    </tr>\n",
       "    <tr>\n",
       "      <th>unique</th>\n",
       "      <td>1682</td>\n",
       "      <td>NaN</td>\n",
       "      <td>NaN</td>\n",
       "    </tr>\n",
       "    <tr>\n",
       "      <th>top</th>\n",
       "      <td>2017-08-15</td>\n",
       "      <td>NaN</td>\n",
       "      <td>NaN</td>\n",
       "    </tr>\n",
       "    <tr>\n",
       "      <th>freq</th>\n",
       "      <td>54</td>\n",
       "      <td>NaN</td>\n",
       "      <td>NaN</td>\n",
       "    </tr>\n",
       "    <tr>\n",
       "      <th>mean</th>\n",
       "      <td>NaN</td>\n",
       "      <td>26.94</td>\n",
       "      <td>1694.60</td>\n",
       "    </tr>\n",
       "    <tr>\n",
       "      <th>std</th>\n",
       "      <td>NaN</td>\n",
       "      <td>15.61</td>\n",
       "      <td>963.29</td>\n",
       "    </tr>\n",
       "    <tr>\n",
       "      <th>min</th>\n",
       "      <td>NaN</td>\n",
       "      <td>1.00</td>\n",
       "      <td>5.00</td>\n",
       "    </tr>\n",
       "    <tr>\n",
       "      <th>25%</th>\n",
       "      <td>NaN</td>\n",
       "      <td>13.00</td>\n",
       "      <td>1046.00</td>\n",
       "    </tr>\n",
       "    <tr>\n",
       "      <th>50%</th>\n",
       "      <td>NaN</td>\n",
       "      <td>27.00</td>\n",
       "      <td>1393.00</td>\n",
       "    </tr>\n",
       "    <tr>\n",
       "      <th>75%</th>\n",
       "      <td>NaN</td>\n",
       "      <td>40.00</td>\n",
       "      <td>2079.00</td>\n",
       "    </tr>\n",
       "    <tr>\n",
       "      <th>max</th>\n",
       "      <td>NaN</td>\n",
       "      <td>54.00</td>\n",
       "      <td>8359.00</td>\n",
       "    </tr>\n",
       "  </tbody>\n",
       "</table>\n",
       "</div>"
      ],
      "text/plain": [
       "              date  store_nbr  transactions\n",
       "count        83488   83488.00      83488.00\n",
       "unique        1682        NaN           NaN\n",
       "top     2017-08-15        NaN           NaN\n",
       "freq            54        NaN           NaN\n",
       "mean           NaN      26.94       1694.60\n",
       "std            NaN      15.61        963.29\n",
       "min            NaN       1.00          5.00\n",
       "25%            NaN      13.00       1046.00\n",
       "50%            NaN      27.00       1393.00\n",
       "75%            NaN      40.00       2079.00\n",
       "max            NaN      54.00       8359.00"
      ]
     },
     "execution_count": 84,
     "metadata": {},
     "output_type": "execute_result"
    }
   ],
   "source": [
    "transaction_df.describe(include='all').round(2)"
   ]
  },
  {
   "cell_type": "code",
   "execution_count": 85,
   "id": "7da02157",
   "metadata": {},
   "outputs": [
    {
     "data": {
      "text/html": [
       "<div>\n",
       "<style scoped>\n",
       "    .dataframe tbody tr th:only-of-type {\n",
       "        vertical-align: middle;\n",
       "    }\n",
       "\n",
       "    .dataframe tbody tr th {\n",
       "        vertical-align: top;\n",
       "    }\n",
       "\n",
       "    .dataframe thead th {\n",
       "        text-align: right;\n",
       "    }\n",
       "</style>\n",
       "<table border=\"1\" class=\"dataframe\">\n",
       "  <thead>\n",
       "    <tr style=\"text-align: right;\">\n",
       "      <th></th>\n",
       "      <th>date</th>\n",
       "      <th>store number</th>\n",
       "      <th>transactions</th>\n",
       "    </tr>\n",
       "  </thead>\n",
       "  <tbody>\n",
       "    <tr>\n",
       "      <th>0</th>\n",
       "      <td>2013-01-01</td>\n",
       "      <td>25</td>\n",
       "      <td>770</td>\n",
       "    </tr>\n",
       "    <tr>\n",
       "      <th>1</th>\n",
       "      <td>2013-01-02</td>\n",
       "      <td>1</td>\n",
       "      <td>2111</td>\n",
       "    </tr>\n",
       "    <tr>\n",
       "      <th>2</th>\n",
       "      <td>2013-01-02</td>\n",
       "      <td>2</td>\n",
       "      <td>2358</td>\n",
       "    </tr>\n",
       "    <tr>\n",
       "      <th>3</th>\n",
       "      <td>2013-01-02</td>\n",
       "      <td>3</td>\n",
       "      <td>3487</td>\n",
       "    </tr>\n",
       "    <tr>\n",
       "      <th>4</th>\n",
       "      <td>2013-01-02</td>\n",
       "      <td>4</td>\n",
       "      <td>1922</td>\n",
       "    </tr>\n",
       "  </tbody>\n",
       "</table>\n",
       "</div>"
      ],
      "text/plain": [
       "         date  store number  transactions\n",
       "0  2013-01-01            25           770\n",
       "1  2013-01-02             1          2111\n",
       "2  2013-01-02             2          2358\n",
       "3  2013-01-02             3          3487\n",
       "4  2013-01-02             4          1922"
      ]
     },
     "execution_count": 85,
     "metadata": {},
     "output_type": "execute_result"
    }
   ],
   "source": [
    "transaction_df.columns = [\"date\", \"store number\", \"transactions\"]\n",
    "transaction_df.head()"
   ]
  },
  {
   "cell_type": "code",
   "execution_count": 86,
   "id": "79774f7d",
   "metadata": {},
   "outputs": [
    {
     "data": {
      "text/plain": [
       "0        25\n",
       "1         1\n",
       "2         2\n",
       "3         3\n",
       "4         4\n",
       "         ..\n",
       "83483    50\n",
       "83484    51\n",
       "83485    52\n",
       "83486    53\n",
       "83487    54\n",
       "Name: store number, Length: 83488, dtype: int64"
      ]
     },
     "execution_count": 86,
     "metadata": {},
     "output_type": "execute_result"
    }
   ],
   "source": [
    "# transaction_df.store_number\n",
    "transaction_df[\"store number\"]"
   ]
  },
  {
   "cell_type": "markdown",
   "id": "67fb03ce",
   "metadata": {},
   "source": [
    "Accessing DataFrame"
   ]
  },
  {
   "cell_type": "code",
   "execution_count": 87,
   "id": "7e68140f",
   "metadata": {},
   "outputs": [
    {
     "data": {
      "text/html": [
       "<div>\n",
       "<style scoped>\n",
       "    .dataframe tbody tr th:only-of-type {\n",
       "        vertical-align: middle;\n",
       "    }\n",
       "\n",
       "    .dataframe tbody tr th {\n",
       "        vertical-align: top;\n",
       "    }\n",
       "\n",
       "    .dataframe thead th {\n",
       "        text-align: right;\n",
       "    }\n",
       "</style>\n",
       "<table border=\"1\" class=\"dataframe\">\n",
       "  <thead>\n",
       "    <tr style=\"text-align: right;\">\n",
       "      <th></th>\n",
       "      <th>date</th>\n",
       "      <th>store_nbr</th>\n",
       "      <th>transactions</th>\n",
       "    </tr>\n",
       "  </thead>\n",
       "  <tbody>\n",
       "    <tr>\n",
       "      <th>0</th>\n",
       "      <td>2013-01-01</td>\n",
       "      <td>25</td>\n",
       "      <td>770</td>\n",
       "    </tr>\n",
       "    <tr>\n",
       "      <th>1</th>\n",
       "      <td>2013-01-02</td>\n",
       "      <td>1</td>\n",
       "      <td>2111</td>\n",
       "    </tr>\n",
       "    <tr>\n",
       "      <th>2</th>\n",
       "      <td>2013-01-02</td>\n",
       "      <td>2</td>\n",
       "      <td>2358</td>\n",
       "    </tr>\n",
       "    <tr>\n",
       "      <th>3</th>\n",
       "      <td>2013-01-02</td>\n",
       "      <td>3</td>\n",
       "      <td>3487</td>\n",
       "    </tr>\n",
       "    <tr>\n",
       "      <th>4</th>\n",
       "      <td>2013-01-02</td>\n",
       "      <td>4</td>\n",
       "      <td>1922</td>\n",
       "    </tr>\n",
       "    <tr>\n",
       "      <th>...</th>\n",
       "      <td>...</td>\n",
       "      <td>...</td>\n",
       "      <td>...</td>\n",
       "    </tr>\n",
       "    <tr>\n",
       "      <th>83483</th>\n",
       "      <td>2017-08-15</td>\n",
       "      <td>50</td>\n",
       "      <td>2804</td>\n",
       "    </tr>\n",
       "    <tr>\n",
       "      <th>83484</th>\n",
       "      <td>2017-08-15</td>\n",
       "      <td>51</td>\n",
       "      <td>1573</td>\n",
       "    </tr>\n",
       "    <tr>\n",
       "      <th>83485</th>\n",
       "      <td>2017-08-15</td>\n",
       "      <td>52</td>\n",
       "      <td>2255</td>\n",
       "    </tr>\n",
       "    <tr>\n",
       "      <th>83486</th>\n",
       "      <td>2017-08-15</td>\n",
       "      <td>53</td>\n",
       "      <td>932</td>\n",
       "    </tr>\n",
       "    <tr>\n",
       "      <th>83487</th>\n",
       "      <td>2017-08-15</td>\n",
       "      <td>54</td>\n",
       "      <td>802</td>\n",
       "    </tr>\n",
       "  </tbody>\n",
       "</table>\n",
       "<p>83488 rows × 3 columns</p>\n",
       "</div>"
      ],
      "text/plain": [
       "             date  store_nbr  transactions\n",
       "0      2013-01-01         25           770\n",
       "1      2013-01-02          1          2111\n",
       "2      2013-01-02          2          2358\n",
       "3      2013-01-02          3          3487\n",
       "4      2013-01-02          4          1922\n",
       "...           ...        ...           ...\n",
       "83483  2017-08-15         50          2804\n",
       "83484  2017-08-15         51          1573\n",
       "83485  2017-08-15         52          2255\n",
       "83486  2017-08-15         53           932\n",
       "83487  2017-08-15         54           802\n",
       "\n",
       "[83488 rows x 3 columns]"
      ]
     },
     "execution_count": 87,
     "metadata": {},
     "output_type": "execute_result"
    }
   ],
   "source": [
    "transaction_df = pd.read_csv('transactions.csv')\n",
    "transaction_df"
   ]
  },
  {
   "cell_type": "markdown",
   "id": "dd4b6934",
   "metadata": {},
   "source": [
    "# Task"
   ]
  },
  {
   "cell_type": "code",
   "execution_count": 88,
   "id": "2d60cfdd",
   "metadata": {},
   "outputs": [
    {
     "name": "stdout",
     "output_type": "stream",
     "text": [
      "DataFrame excluding the first row and including 'store_nbr' and 'transactions':\n",
      "       store_nbr  transactions\n",
      "1              1          2111\n",
      "2              2          2358\n",
      "3              3          3487\n",
      "4              4          1922\n",
      "5              5          1903\n",
      "...          ...           ...\n",
      "83483         50          2804\n",
      "83484         51          1573\n",
      "83485         52          2255\n",
      "83486         53           932\n",
      "83487         54           802\n",
      "\n",
      "[83487 rows x 2 columns]\n",
      "\n",
      "Number of unique store numbers: 54\n",
      "Total number of transactions in millions: 141.48 million\n"
     ]
    }
   ],
   "source": [
    "import pandas as pd\n",
    "\n",
    "# Read the transactions data from the CSV file\n",
    "file_path = 'transactions.csv'\n",
    "df = pd.read_csv(file_path)\n",
    "\n",
    "# Exclude the first row and select only 'store_nbr' and 'transactions' columns\n",
    "new_df = df.iloc[1:, :][['store_nbr', 'transactions']].copy()\n",
    "\n",
    "# Report the number of unique store numbers\n",
    "unique_store_numbers = new_df['store_nbr'].nunique()\n",
    "\n",
    "# Report the total number of transactions in millions\n",
    "total_transactions_millions = new_df['transactions'].sum() / 1e6\n",
    "\n",
    "# Display the new DataFrame, number of unique store numbers, and total transactions in millions\n",
    "print(\"DataFrame excluding the first row and including 'store_nbr' and 'transactions':\")\n",
    "print(new_df)\n",
    "\n",
    "print(f\"\\nNumber of unique store numbers: {unique_store_numbers}\")\n",
    "\n",
    "print(f\"Total number of transactions in millions: {total_transactions_millions:.2f} million\")\n"
   ]
  },
  {
   "cell_type": "code",
   "execution_count": 89,
   "id": "74866c1f",
   "metadata": {},
   "outputs": [
    {
     "data": {
      "text/html": [
       "<div>\n",
       "<style scoped>\n",
       "    .dataframe tbody tr th:only-of-type {\n",
       "        vertical-align: middle;\n",
       "    }\n",
       "\n",
       "    .dataframe tbody tr th {\n",
       "        vertical-align: top;\n",
       "    }\n",
       "\n",
       "    .dataframe thead th {\n",
       "        text-align: right;\n",
       "    }\n",
       "</style>\n",
       "<table border=\"1\" class=\"dataframe\">\n",
       "  <thead>\n",
       "    <tr style=\"text-align: right;\">\n",
       "      <th></th>\n",
       "      <th>store_nbr</th>\n",
       "      <th>transactions</th>\n",
       "    </tr>\n",
       "  </thead>\n",
       "  <tbody>\n",
       "    <tr>\n",
       "      <th>1</th>\n",
       "      <td>1</td>\n",
       "      <td>2111</td>\n",
       "    </tr>\n",
       "    <tr>\n",
       "      <th>2</th>\n",
       "      <td>2</td>\n",
       "      <td>2358</td>\n",
       "    </tr>\n",
       "    <tr>\n",
       "      <th>3</th>\n",
       "      <td>3</td>\n",
       "      <td>3487</td>\n",
       "    </tr>\n",
       "    <tr>\n",
       "      <th>4</th>\n",
       "      <td>4</td>\n",
       "      <td>1922</td>\n",
       "    </tr>\n",
       "    <tr>\n",
       "      <th>5</th>\n",
       "      <td>5</td>\n",
       "      <td>1903</td>\n",
       "    </tr>\n",
       "    <tr>\n",
       "      <th>...</th>\n",
       "      <td>...</td>\n",
       "      <td>...</td>\n",
       "    </tr>\n",
       "    <tr>\n",
       "      <th>83483</th>\n",
       "      <td>50</td>\n",
       "      <td>2804</td>\n",
       "    </tr>\n",
       "    <tr>\n",
       "      <th>83484</th>\n",
       "      <td>51</td>\n",
       "      <td>1573</td>\n",
       "    </tr>\n",
       "    <tr>\n",
       "      <th>83485</th>\n",
       "      <td>52</td>\n",
       "      <td>2255</td>\n",
       "    </tr>\n",
       "    <tr>\n",
       "      <th>83486</th>\n",
       "      <td>53</td>\n",
       "      <td>932</td>\n",
       "    </tr>\n",
       "    <tr>\n",
       "      <th>83487</th>\n",
       "      <td>54</td>\n",
       "      <td>802</td>\n",
       "    </tr>\n",
       "  </tbody>\n",
       "</table>\n",
       "<p>83487 rows × 2 columns</p>\n",
       "</div>"
      ],
      "text/plain": [
       "       store_nbr  transactions\n",
       "1              1          2111\n",
       "2              2          2358\n",
       "3              3          3487\n",
       "4              4          1922\n",
       "5              5          1903\n",
       "...          ...           ...\n",
       "83483         50          2804\n",
       "83484         51          1573\n",
       "83485         52          2255\n",
       "83486         53           932\n",
       "83487         54           802\n",
       "\n",
       "[83487 rows x 2 columns]"
      ]
     },
     "execution_count": 89,
     "metadata": {},
     "output_type": "execute_result"
    }
   ],
   "source": [
    "transaction_df.loc[1:, [\"store_nbr\", \"transactions\"]]"
   ]
  },
  {
   "cell_type": "code",
   "execution_count": 90,
   "id": "94eb9d10",
   "metadata": {},
   "outputs": [
    {
     "data": {
      "text/plain": [
       "54"
      ]
     },
     "execution_count": 90,
     "metadata": {},
     "output_type": "execute_result"
    }
   ],
   "source": [
    "transaction_df[\"store_nbr\"].nunique()"
   ]
  },
  {
   "cell_type": "code",
   "execution_count": 91,
   "id": "946575af",
   "metadata": {},
   "outputs": [
    {
     "data": {
      "text/plain": [
       "141478945"
      ]
     },
     "execution_count": 91,
     "metadata": {},
     "output_type": "execute_result"
    }
   ],
   "source": [
    "transaction_df[\"transactions\"].sum()"
   ]
  },
  {
   "cell_type": "markdown",
   "id": "690fb8d1",
   "metadata": {},
   "source": [
    "# Dropping Data"
   ]
  },
  {
   "cell_type": "markdown",
   "id": "28b63e1f",
   "metadata": {},
   "source": [
    "# Task"
   ]
  },
  {
   "cell_type": "code",
   "execution_count": 98,
   "id": "25c1dc39",
   "metadata": {},
   "outputs": [
    {
     "name": "stdout",
     "output_type": "stream",
     "text": [
      "DataFrame without the first row and without the 'date' column:\n",
      "       store_nbr  transactions\n",
      "1              1          2111\n",
      "2              2          2358\n",
      "3              3          3487\n",
      "4              4          1922\n",
      "5              5          1903\n",
      "...          ...           ...\n",
      "83483         50          2804\n",
      "83484         51          1573\n",
      "83485         52          2255\n",
      "83486         53           932\n",
      "83487         54           802\n",
      "\n",
      "[83487 rows x 2 columns]\n",
      "\n",
      "DataFrame with only the last row for each store:\n",
      "    store_nbr        date  transactions\n",
      "0           1  2017-08-15          1693\n",
      "1           2  2017-08-15          1737\n",
      "2           3  2017-08-15          2956\n",
      "3           4  2017-08-15          1283\n",
      "4           5  2017-08-15          1310\n",
      "5           6  2017-08-15          1589\n",
      "6           7  2017-08-15          1780\n",
      "7           8  2017-08-15          2621\n",
      "8           9  2017-08-15          2155\n",
      "9          10  2017-08-15          1010\n",
      "10         11  2017-08-15          2360\n",
      "11         12  2017-08-15          1096\n",
      "12         13  2017-08-15           842\n",
      "13         14  2017-08-15          1241\n",
      "14         15  2017-08-15          1320\n",
      "15         16  2017-08-15           742\n",
      "16         17  2017-08-15          1504\n",
      "17         18  2017-08-15          1343\n",
      "18         19  2017-08-15          1158\n",
      "19         20  2017-08-15          1516\n",
      "20         21  2017-08-15          1059\n",
      "21         22  2017-08-15           766\n",
      "22         23  2017-08-15           946\n",
      "23         24  2017-08-15          2138\n",
      "24         25  2017-08-15           849\n",
      "25         26  2017-08-15           534\n",
      "26         27  2017-08-15          1543\n",
      "27         28  2017-08-15          1343\n",
      "28         29  2017-08-15          1302\n",
      "29         30  2017-08-15           825\n",
      "30         31  2017-08-15          1360\n",
      "31         32  2017-08-15           615\n",
      "32         33  2017-08-15           919\n",
      "33         34  2017-08-15          2007\n",
      "34         35  2017-08-15           612\n",
      "35         36  2017-08-15          1192\n",
      "36         37  2017-08-15          1373\n",
      "37         38  2017-08-15          1445\n",
      "38         39  2017-08-15          1425\n",
      "39         40  2017-08-15          1392\n",
      "40         41  2017-08-15          1003\n",
      "41         42  2017-08-15           995\n",
      "42         43  2017-08-15          1482\n",
      "43         44  2017-08-15          3815\n",
      "44         45  2017-08-15          3685\n",
      "45         46  2017-08-15          3197\n",
      "46         47  2017-08-15          3581\n",
      "47         48  2017-08-15          2722\n",
      "48         49  2017-08-15          2814\n",
      "49         50  2017-08-15          2804\n",
      "50         51  2017-08-15          1573\n",
      "51         52  2017-08-15          2255\n",
      "52         53  2017-08-15           932\n",
      "53         54  2017-08-15           802\n"
     ]
    }
   ],
   "source": [
    "# import pandas as pd\n",
    "\n",
    "# Read the transactions data from the CSV file\n",
    "file_path = 'transactions.csv'\n",
    "df = pd.read_csv(file_path)\n",
    "\n",
    "# Drop the first row permanently\n",
    "df.drop(index=0, inplace=True)\n",
    "\n",
    "# Drop the \"date\" column without modifying the original DataFrame\n",
    "df_without_date = df.drop(columns=['date'])\n",
    "\n",
    "# Get a DataFrame with only the last row for each store\n",
    "last_row_per_store = df.groupby('store_nbr').last().reset_index()\n",
    "\n",
    "# Display the modified DataFrame without the first row and without the \"date\" column\n",
    "print(\"DataFrame without the first row and without the 'date' column:\")\n",
    "print(df_without_date)\n",
    "\n",
    "# Display the DataFrame with only the last row for each store\n",
    "print(\"\\nDataFrame with only the last row for each store:\")\n",
    "print(last_row_per_store)\n"
   ]
  },
  {
   "cell_type": "markdown",
   "id": "925af9eb",
   "metadata": {},
   "source": [
    "# Handling Missing Data"
   ]
  },
  {
   "cell_type": "markdown",
   "id": "cab21f62",
   "metadata": {},
   "source": [
    "# Task # oil data - 'data/retail/oil.csv'"
   ]
  },
  {
   "cell_type": "code",
   "execution_count": 99,
   "id": "b8681518",
   "metadata": {},
   "outputs": [
    {
     "name": "stdout",
     "output_type": "stream",
     "text": [
      "Missing dates: [Timestamp('2022-01-04 00:00:00')]\n",
      "Missing prices: True\n",
      "\n",
      "Mean oil price with missing values filled with 0: 37.32\n",
      "Mean oil price with missing values filled with the mean: 49.76\n"
     ]
    }
   ],
   "source": [
    "import pandas as pd\n",
    "import numpy as np\n",
    "\n",
    "# Assuming oil_prices_df is your DataFrame with columns 'date' and 'price'\n",
    "# Replace this with your actual DataFrame\n",
    "oil_prices_df = pd.DataFrame({'date': ['2022-01-01', '2022-01-02', '2022-01-03', '2022-01-05'],\n",
    "                              'price': [50.0, 51.44, 47.83, np.nan]})\n",
    "\n",
    "# Check for missing values in the 'date' and 'price' columns\n",
    "missing_dates = pd.date_range(start=oil_prices_df['date'].min(), end=oil_prices_df['date'].max()).difference(pd.to_datetime(oil_prices_df['date']))\n",
    "missing_prices = oil_prices_df['price'].isnull().any()\n",
    "\n",
    "# Display missing dates and prices\n",
    "print(f\"Missing dates: {missing_dates.to_list()}\")\n",
    "print(f\"Missing prices: {missing_prices}\")\n",
    "\n",
    "# Fill missing prices with 0 and calculate mean\n",
    "mean_with_zero = oil_prices_df['price'].fillna(0).mean()\n",
    "\n",
    "# Fill missing prices with the mean and calculate mean\n",
    "mean_with_mean = oil_prices_df['price'].fillna(oil_prices_df['price'].mean()).mean()\n",
    "\n",
    "# Display the mean oil prices for both scenarios\n",
    "print(f\"\\nMean oil price with missing values filled with 0: {mean_with_zero:.2f}\")\n",
    "print(f\"Mean oil price with missing values filled with the mean: {mean_with_mean:.2f}\")\n"
   ]
  },
  {
   "cell_type": "code",
   "execution_count": 100,
   "id": "40b81e6c",
   "metadata": {},
   "outputs": [
    {
     "data": {
      "text/html": [
       "<div>\n",
       "<style scoped>\n",
       "    .dataframe tbody tr th:only-of-type {\n",
       "        vertical-align: middle;\n",
       "    }\n",
       "\n",
       "    .dataframe tbody tr th {\n",
       "        vertical-align: top;\n",
       "    }\n",
       "\n",
       "    .dataframe thead th {\n",
       "        text-align: right;\n",
       "    }\n",
       "</style>\n",
       "<table border=\"1\" class=\"dataframe\">\n",
       "  <thead>\n",
       "    <tr style=\"text-align: right;\">\n",
       "      <th></th>\n",
       "      <th>date</th>\n",
       "      <th>dcoilwtico</th>\n",
       "    </tr>\n",
       "  </thead>\n",
       "  <tbody>\n",
       "    <tr>\n",
       "      <th>0</th>\n",
       "      <td>2013-01-01</td>\n",
       "      <td>NaN</td>\n",
       "    </tr>\n",
       "    <tr>\n",
       "      <th>1</th>\n",
       "      <td>2013-01-02</td>\n",
       "      <td>93.14</td>\n",
       "    </tr>\n",
       "    <tr>\n",
       "      <th>2</th>\n",
       "      <td>2013-01-03</td>\n",
       "      <td>92.97</td>\n",
       "    </tr>\n",
       "    <tr>\n",
       "      <th>3</th>\n",
       "      <td>2013-01-04</td>\n",
       "      <td>93.12</td>\n",
       "    </tr>\n",
       "    <tr>\n",
       "      <th>4</th>\n",
       "      <td>2013-01-07</td>\n",
       "      <td>93.20</td>\n",
       "    </tr>\n",
       "    <tr>\n",
       "      <th>...</th>\n",
       "      <td>...</td>\n",
       "      <td>...</td>\n",
       "    </tr>\n",
       "    <tr>\n",
       "      <th>1213</th>\n",
       "      <td>2017-08-25</td>\n",
       "      <td>47.65</td>\n",
       "    </tr>\n",
       "    <tr>\n",
       "      <th>1214</th>\n",
       "      <td>2017-08-28</td>\n",
       "      <td>46.40</td>\n",
       "    </tr>\n",
       "    <tr>\n",
       "      <th>1215</th>\n",
       "      <td>2017-08-29</td>\n",
       "      <td>46.46</td>\n",
       "    </tr>\n",
       "    <tr>\n",
       "      <th>1216</th>\n",
       "      <td>2017-08-30</td>\n",
       "      <td>45.96</td>\n",
       "    </tr>\n",
       "    <tr>\n",
       "      <th>1217</th>\n",
       "      <td>2017-08-31</td>\n",
       "      <td>47.26</td>\n",
       "    </tr>\n",
       "  </tbody>\n",
       "</table>\n",
       "<p>1218 rows × 2 columns</p>\n",
       "</div>"
      ],
      "text/plain": [
       "            date  dcoilwtico\n",
       "0     2013-01-01         NaN\n",
       "1     2013-01-02       93.14\n",
       "2     2013-01-03       92.97\n",
       "3     2013-01-04       93.12\n",
       "4     2013-01-07       93.20\n",
       "...          ...         ...\n",
       "1213  2017-08-25       47.65\n",
       "1214  2017-08-28       46.40\n",
       "1215  2017-08-29       46.46\n",
       "1216  2017-08-30       45.96\n",
       "1217  2017-08-31       47.26\n",
       "\n",
       "[1218 rows x 2 columns]"
      ]
     },
     "execution_count": 100,
     "metadata": {},
     "output_type": "execute_result"
    }
   ],
   "source": [
    "oil_df = pd.read_csv('oil.csv')\n",
    "oil_df"
   ]
  },
  {
   "cell_type": "code",
   "execution_count": 101,
   "id": "9cae94de",
   "metadata": {},
   "outputs": [
    {
     "data": {
      "text/plain": [
       "date           0\n",
       "dcoilwtico    43\n",
       "dtype: int64"
      ]
     },
     "execution_count": 101,
     "metadata": {},
     "output_type": "execute_result"
    }
   ],
   "source": [
    "oil_df.isna().sum()"
   ]
  },
  {
   "cell_type": "code",
   "execution_count": 102,
   "id": "e066d740",
   "metadata": {},
   "outputs": [
    {
     "data": {
      "text/plain": [
       "65.32379310344828"
      ]
     },
     "execution_count": 102,
     "metadata": {},
     "output_type": "execute_result"
    }
   ],
   "source": [
    "oil_df[\"dcoilwtico\"].fillna(0).mean()"
   ]
  },
  {
   "cell_type": "code",
   "execution_count": 103,
   "id": "67e00398",
   "metadata": {},
   "outputs": [
    {
     "data": {
      "text/plain": [
       "67.71436595744682"
      ]
     },
     "execution_count": 103,
     "metadata": {},
     "output_type": "execute_result"
    }
   ],
   "source": [
    "oil_df[\"dcoilwtico\"].fillna(oil_df[\"dcoilwtico\"].mean()).mean()"
   ]
  },
  {
   "cell_type": "markdown",
   "id": "9703a6a0",
   "metadata": {},
   "source": [
    "# Sorting & Filtering"
   ]
  },
  {
   "cell_type": "markdown",
   "id": "781a6909",
   "metadata": {},
   "source": [
    "# Task - Dataset: Transactions 'data/retail/transactions.csv'"
   ]
  },
  {
   "cell_type": "code",
   "execution_count": 105,
   "id": "46656535",
   "metadata": {},
   "outputs": [
    {
     "name": "stdout",
     "output_type": "stream",
     "text": [
      "Task 1: Percentage of times ALL stores had more than 2000 transactions: 40.00%\n",
      "Task 2: Percentage of times store 25 had more than 2000 transactions: 100.00%\n",
      "        Sum of transactions on these days for store 25: 2200\n",
      "Task 3: Sum transactions for stores 25 and 3 in May or June with less than 2000 transactions: 0\n"
     ]
    }
   ],
   "source": [
    "import pandas as pd\n",
    "\n",
    "# Assuming df is your DataFrame with columns 'store_nbr' and 'transactions'\n",
    "# Replace this with your actual DataFrame\n",
    "data = {'date': ['2022-01-01', '2022-01-02', '2022-01-03', '2022-01-04', '2022-01-05'],\n",
    "        'store_nbr': [1, 1, 2, 25, 3],\n",
    "        'transactions': [1500, 2100, 1800, 2200, 1900]}\n",
    "df = pd.DataFrame(data)\n",
    "\n",
    "# Convert 'date' to datetime format\n",
    "df['date'] = pd.to_datetime(df['date'])\n",
    "\n",
    "# Task 1: Percentage of times ALL stores had more than 2000 transactions\n",
    "all_stores_more_than_2000 = df.groupby('date')['transactions'].apply(lambda x: all(x > 2000)).mean() * 100\n",
    "\n",
    "# Task 2: Percentage of times store 25 had more than 2000 transactions and sum of transactions on these days\n",
    "store_25_more_than_2000 = df[df['store_nbr'] == 25]\n",
    "percentage_store_25_more_than_2000 = (store_25_more_than_2000['transactions'] > 2000).mean() * 100\n",
    "sum_transactions_store_25_more_than_2000 = store_25_more_than_2000['transactions'].sum()\n",
    "\n",
    "# Task 3: Sum transactions for stores 25 and 3 in May or June with less than 2000 transactions\n",
    "filtered_data = df[(df['store_nbr'].isin([25, 3])) & (df['date'].dt.month.isin([5, 6])) & (df['transactions'] < 2000)]\n",
    "sum_transactions_stores_25_3_may_june = filtered_data['transactions'].sum()\n",
    "\n",
    "# Display results\n",
    "print(f\"Task 1: Percentage of times ALL stores had more than 2000 transactions: {all_stores_more_than_2000:.2f}%\")\n",
    "print(f\"Task 2: Percentage of times store 25 had more than 2000 transactions: {percentage_store_25_more_than_2000:.2f}%\")\n",
    "print(f\"        Sum of transactions on these days for store 25: {sum_transactions_store_25_more_than_2000}\")\n",
    "print(f\"Task 3: Sum transactions for stores 25 and 3 in May or June with less than 2000 transactions: {sum_transactions_stores_25_3_may_june}\")\n"
   ]
  },
  {
   "cell_type": "markdown",
   "id": "f25ecbd8",
   "metadata": {},
   "source": [
    "# Task - Dataset: Transactions 'data/retail/transactions.csv'"
   ]
  },
  {
   "cell_type": "code",
   "execution_count": 106,
   "id": "0b49d9b8",
   "metadata": {},
   "outputs": [
    {
     "name": "stdout",
     "output_type": "stream",
     "text": [
      "Task 1: Dataset with the 5 days with the highest transactions counts:\n",
      "        date  transactions\n",
      "3 2022-01-04          2200\n",
      "1 2022-01-02          2100\n",
      "4 2022-01-05          1900\n",
      "2 2022-01-03          1800\n",
      "0 2022-01-01          1500\n",
      "\n",
      "Task 2: Dataset sorted by date with the highest transactions first and lowest transactions last for each day:\n",
      "        date  transactions\n",
      "0 2022-01-01          1500\n",
      "1 2022-01-02          2100\n",
      "2 2022-01-03          1800\n",
      "3 2022-01-04          2200\n",
      "4 2022-01-05          1900\n",
      "\n",
      "Task 3: Dataset with columns sorted in reverse alphabetical order:\n",
      "   transactions       date\n",
      "0          1500 2022-01-01\n",
      "1          2100 2022-01-02\n",
      "2          1800 2022-01-03\n",
      "3          2200 2022-01-04\n",
      "4          1900 2022-01-05\n"
     ]
    }
   ],
   "source": [
    "import pandas as pd\n",
    "\n",
    "# Assuming df is your DataFrame with columns 'date' and 'transactions'\n",
    "# Replace this with your actual DataFrame\n",
    "data = {'date': ['2022-01-01', '2022-01-02', '2022-01-03', '2022-01-04', '2022-01-05'],\n",
    "        'transactions': [1500, 2100, 1800, 2200, 1900]}\n",
    "df = pd.DataFrame(data)\n",
    "\n",
    "# Convert 'date' to datetime format\n",
    "df['date'] = pd.to_datetime(df['date'])\n",
    "\n",
    "# Task 1: Get a dataset that includes the 5 days with the highest transactions counts\n",
    "top_5_days = df.nlargest(5, 'transactions')\n",
    "\n",
    "# Task 2: Get a dataset sorted by date from earliest to most recent, \n",
    "# with the highest transactions first and the lowest transactions last for each day\n",
    "sorted_by_date = df.sort_values(by=['date', 'transactions'], ascending=[True, False])\n",
    "\n",
    "# Task 3: Sort the columns in reverse alphabetical order\n",
    "reverse_alphabetical_order = df[sorted(df.columns, reverse=True)]\n",
    "\n",
    "# Display results\n",
    "print(\"Task 1: Dataset with the 5 days with the highest transactions counts:\")\n",
    "print(top_5_days)\n",
    "\n",
    "print(\"\\nTask 2: Dataset sorted by date with the highest transactions first and lowest transactions last for each day:\")\n",
    "print(sorted_by_date)\n",
    "\n",
    "print(\"\\nTask 3: Dataset with columns sorted in reverse alphabetical order:\")\n",
    "print(reverse_alphabetical_order)\n"
   ]
  },
  {
   "cell_type": "markdown",
   "id": "42151b58",
   "metadata": {},
   "source": [
    "# Modifying Columns"
   ]
  },
  {
   "cell_type": "markdown",
   "id": "cd948eb3",
   "metadata": {},
   "source": [
    "# Task - Dataset: Transactions 'data/retail/transactions.csv'"
   ]
  },
  {
   "cell_type": "code",
   "execution_count": 107,
   "id": "c9b6e86d",
   "metadata": {},
   "outputs": [
    {
     "name": "stdout",
     "output_type": "stream",
     "text": [
      "         date  transaction_count  store_number\n",
      "0  2022-01-01               1500             1\n",
      "1  2022-01-02               2100             2\n",
      "2  2022-01-03               1800             3\n"
     ]
    }
   ],
   "source": [
    "import pandas as pd\n",
    "\n",
    "# Assuming df is your DataFrame with columns 'date', 'transactions', and 'store_nbr'\n",
    "# Replace this with your actual DataFrame\n",
    "data = {'date': ['2022-01-01', '2022-01-02', '2022-01-03'],\n",
    "        'transactions': [1500, 2100, 1800],\n",
    "        'store_nbr': [1, 2, 3]}\n",
    "df = pd.DataFrame(data)\n",
    "\n",
    "# Rename columns\n",
    "df = df.rename(columns={'transactions': 'transaction_count', 'store_nbr': 'store_number'})\n",
    "\n",
    "# Reorder columns\n",
    "df = df[['date', 'transaction_count', 'store_number']]\n",
    "\n",
    "# Display the DataFrame with renamed and reordered columns\n",
    "print(df)\n"
   ]
  },
  {
   "cell_type": "markdown",
   "id": "fa4af2c1",
   "metadata": {},
   "source": [
    "# Task - Dataset: Transactions 'data/retail/transactions.csv'"
   ]
  },
  {
   "cell_type": "code",
   "execution_count": 108,
   "id": "2a940644",
   "metadata": {},
   "outputs": [
    {
     "name": "stdout",
     "output_type": "stream",
     "text": [
      "        date  transactions  pct_to_target  met_target  bonus_payable  month  \\\n",
      "0 2022-01-01          1500           0.60       False              0      1   \n",
      "1 2022-01-02          2100           0.84       False              0      1   \n",
      "2 2022-01-03          1800           0.72       False              0      1   \n",
      "\n",
      "   day_of_week  \n",
      "0            5  \n",
      "1            6  \n",
      "2            0  \n",
      "\n",
      "Total bonus payable: 0\n"
     ]
    }
   ],
   "source": [
    "import pandas as pd\n",
    "\n",
    "# Assuming df is your DataFrame with columns 'date' and 'transactions'\n",
    "# Replace this with your actual DataFrame\n",
    "data = {'date': ['2022-01-01', '2022-01-02', '2022-01-03'],\n",
    "        'transactions': [1500, 2100, 1800]}\n",
    "df = pd.DataFrame(data)\n",
    "\n",
    "# Convert 'date' to datetime format\n",
    "df['date'] = pd.to_datetime(df['date'])\n",
    "\n",
    "# Create 'pct_to_target' column\n",
    "df['pct_to_target'] = df['transactions'] / 2500\n",
    "\n",
    "# Create 'met_target' column\n",
    "df['met_target'] = df['pct_to_target'] >= 1\n",
    "\n",
    "# Create 'bonus_payable' column\n",
    "df['bonus_payable'] = df['met_target'].apply(lambda x: 100 if x else 0)\n",
    "\n",
    "# Sum the total 'bonus_payable' amount\n",
    "total_bonus_payable = df['bonus_payable'].sum()\n",
    "\n",
    "# Create columns for month and day of week as integers\n",
    "df['month'] = df['date'].dt.month\n",
    "df['day_of_week'] = df['date'].dt.dayofweek\n",
    "\n",
    "# Display the DataFrame with the new columns\n",
    "print(df)\n",
    "\n",
    "# Display the total 'bonus_payable' amount\n",
    "print(f\"\\nTotal bonus payable: {total_bonus_payable}\")\n"
   ]
  },
  {
   "cell_type": "markdown",
   "id": "bfda97ef",
   "metadata": {},
   "source": [
    "# Mapping values to columns"
   ]
  },
  {
   "cell_type": "markdown",
   "id": "6002e948",
   "metadata": {},
   "source": [
    "# Task - Dataset: Transactions 'data/retail/transactions.csv'"
   ]
  },
  {
   "cell_type": "code",
   "execution_count": 109,
   "id": "2ce54d3f",
   "metadata": {},
   "outputs": [
    {
     "name": "stdout",
     "output_type": "stream",
     "text": [
      "        date  store_number  transaction_count  pct_to_target  met_target  \\\n",
      "0 2022-01-01             1               1500           0.60       False   \n",
      "1 2022-01-02             2               2100           0.84       False   \n",
      "2 2022-01-03             3               1800           0.72       False   \n",
      "\n",
      "   bonus_payable  month  day_of_week  \n",
      "0              0      1            5  \n",
      "1              0      1            6  \n",
      "2              0      1            0  \n",
      "\n",
      "Total bonus payable: 0\n"
     ]
    }
   ],
   "source": [
    "import pandas as pd\n",
    "\n",
    "# Assuming df is your DataFrame with columns 'date', 'transaction_count', and 'store_number'\n",
    "# Replace this with your actual DataFrame\n",
    "data = {'date': ['2022-01-01', '2022-01-02', '2022-01-03'],\n",
    "        'transaction_count': [1500, 2100, 1800],\n",
    "        'store_number': [1, 2, 3]}\n",
    "df = pd.DataFrame(data)\n",
    "\n",
    "# Convert 'date' to datetime format\n",
    "df['date'] = pd.to_datetime(df['date'])\n",
    "\n",
    "# Drop the columns created so far\n",
    "df = df[['date', 'store_number', 'transaction_count']]\n",
    "\n",
    "# Recreate the columns using the assign method\n",
    "df = df.assign(\n",
    "    pct_to_target=df['transaction_count'] / 2500,\n",
    "    met_target=(df['transaction_count'] / 2500 >= 1),\n",
    "    bonus_payable=df['transaction_count'].apply(lambda x: 100 if x / 2500 >= 1 else 0),\n",
    "    month=df['date'].dt.month,\n",
    "    day_of_week=df['date'].dt.dayofweek\n",
    ")\n",
    "\n",
    "# Sum the total 'bonus_payable' amount\n",
    "total_bonus_payable = df['bonus_payable'].sum()\n",
    "\n",
    "# Display the DataFrame with the recreated columns\n",
    "print(df)\n",
    "\n",
    "# Display the total 'bonus_payable' amount\n",
    "print(f\"\\nTotal bonus payable: {total_bonus_payable}\")\n"
   ]
  },
  {
   "cell_type": "markdown",
   "id": "38dcb848",
   "metadata": {},
   "source": [
    "# Memory Optimization"
   ]
  },
  {
   "cell_type": "markdown",
   "id": "2a890ecd",
   "metadata": {},
   "source": [
    "# Task Dataset: 'data/retail/transactions.csv'"
   ]
  },
  {
   "cell_type": "code",
   "execution_count": 111,
   "id": "6f812c23",
   "metadata": {},
   "outputs": [
    {
     "name": "stdout",
     "output_type": "stream",
     "text": [
      "<class 'pandas.core.frame.DataFrame'>\n",
      "RangeIndex: 3 entries, 0 to 2\n",
      "Data columns (total 3 columns):\n",
      " #   Column             Non-Null Count  Dtype   \n",
      "---  ------             --------------  -----   \n",
      " 0   date               3 non-null      category\n",
      " 1   transaction_count  3 non-null      int16   \n",
      " 2   store_number       3 non-null      int8    \n",
      "dtypes: category(1), int16(1), int8(1)\n",
      "memory usage: 276.0 bytes\n",
      "None\n"
     ]
    }
   ],
   "source": [
    "import pandas as pd\n",
    "\n",
    "# Assuming df is your DataFrame\n",
    "# Replace this with your actual DataFrame\n",
    "data = {'date': ['2022-01-01', '2022-01-02', '2022-01-03'],\n",
    "        'transaction_count': [1500, 2100, 1800],\n",
    "        'store_number': [1, 2, 3]}\n",
    "df = pd.DataFrame(data)\n",
    "\n",
    "# Convert 'date' to datetime format and downcast to categorical type\n",
    "df['date'] = pd.to_datetime(df['date']).astype('category')\n",
    "\n",
    "# Convert other numeric columns to appropriate types\n",
    "df['transaction_count'] = pd.to_numeric(df['transaction_count'], downcast='integer')\n",
    "df['store_number'] = pd.to_numeric(df['store_number'], downcast='integer')\n",
    "\n",
    "# Display the DataFrame info to check memory usage\n",
    "print(df.info(memory_usage='deep'))\n"
   ]
  },
  {
   "cell_type": "code",
   "execution_count": 112,
   "id": "e04f5821",
   "metadata": {},
   "outputs": [],
   "source": [
    "import numpy as np\n",
    "import pandas as pd"
   ]
  },
  {
   "cell_type": "markdown",
   "id": "d875408d",
   "metadata": {},
   "source": [
    "# Grouping"
   ]
  },
  {
   "cell_type": "markdown",
   "id": "1492e2b6",
   "metadata": {},
   "source": [
    "# Task"
   ]
  },
  {
   "cell_type": "code",
   "execution_count": 113,
   "id": "10f07665",
   "metadata": {},
   "outputs": [
    {
     "data": {
      "text/html": [
       "<div>\n",
       "<style scoped>\n",
       "    .dataframe tbody tr th:only-of-type {\n",
       "        vertical-align: middle;\n",
       "    }\n",
       "\n",
       "    .dataframe tbody tr th {\n",
       "        vertical-align: top;\n",
       "    }\n",
       "\n",
       "    .dataframe thead th {\n",
       "        text-align: right;\n",
       "    }\n",
       "</style>\n",
       "<table border=\"1\" class=\"dataframe\">\n",
       "  <thead>\n",
       "    <tr style=\"text-align: right;\">\n",
       "      <th></th>\n",
       "      <th>store_number</th>\n",
       "      <th>transaction_count</th>\n",
       "    </tr>\n",
       "  </thead>\n",
       "  <tbody>\n",
       "    <tr>\n",
       "      <th>0</th>\n",
       "      <td>8</td>\n",
       "      <td>2500</td>\n",
       "    </tr>\n",
       "    <tr>\n",
       "      <th>1</th>\n",
       "      <td>9</td>\n",
       "      <td>2400</td>\n",
       "    </tr>\n",
       "    <tr>\n",
       "      <th>2</th>\n",
       "      <td>7</td>\n",
       "      <td>2300</td>\n",
       "    </tr>\n",
       "    <tr>\n",
       "      <th>3</th>\n",
       "      <td>4</td>\n",
       "      <td>2200</td>\n",
       "    </tr>\n",
       "    <tr>\n",
       "      <th>4</th>\n",
       "      <td>2</td>\n",
       "      <td>2100</td>\n",
       "    </tr>\n",
       "    <tr>\n",
       "      <th>5</th>\n",
       "      <td>11</td>\n",
       "      <td>2100</td>\n",
       "    </tr>\n",
       "    <tr>\n",
       "      <th>6</th>\n",
       "      <td>6</td>\n",
       "      <td>2000</td>\n",
       "    </tr>\n",
       "    <tr>\n",
       "      <th>7</th>\n",
       "      <td>10</td>\n",
       "      <td>2000</td>\n",
       "    </tr>\n",
       "    <tr>\n",
       "      <th>8</th>\n",
       "      <td>5</td>\n",
       "      <td>1900</td>\n",
       "    </tr>\n",
       "    <tr>\n",
       "      <th>9</th>\n",
       "      <td>3</td>\n",
       "      <td>1800</td>\n",
       "    </tr>\n",
       "  </tbody>\n",
       "</table>\n",
       "</div>"
      ],
      "text/plain": [
       "   store_number  transaction_count\n",
       "0             8               2500\n",
       "1             9               2400\n",
       "2             7               2300\n",
       "3             4               2200\n",
       "4             2               2100\n",
       "5            11               2100\n",
       "6             6               2000\n",
       "7            10               2000\n",
       "8             5               1900\n",
       "9             3               1800"
      ]
     },
     "execution_count": 113,
     "metadata": {},
     "output_type": "execute_result"
    }
   ],
   "source": [
    "import pandas as pd\n",
    "\n",
    "# Assuming df is your DataFrame with columns 'store_number' and 'transaction_count'\n",
    "# Replace this with your actual DataFrame\n",
    "data = {'store_number': [1, 2, 3, 4, 5, 6, 7, 8, 9, 10, 11],\n",
    "        'transaction_count': [1500, 2100, 1800, 2200, 1900, 2000, 2300, 2500, 2400, 2000, 2100]}\n",
    "df = pd.DataFrame(data)\n",
    "\n",
    "# Group by 'store_number' and calculate total transactions for each store\n",
    "total_transactions_by_store = df.groupby('store_number')['transaction_count'].sum()\n",
    "\n",
    "# Get the top 10 stores by total transactions, sorted from highest to lowest\n",
    "top_10_stores = total_transactions_by_store.nlargest(10).reset_index()\n",
    "\n",
    "top_10_stores\n"
   ]
  },
  {
   "cell_type": "code",
   "execution_count": 114,
   "id": "9d5ffa6f",
   "metadata": {},
   "outputs": [
    {
     "data": {
      "text/html": [
       "<div>\n",
       "<style scoped>\n",
       "    .dataframe tbody tr th:only-of-type {\n",
       "        vertical-align: middle;\n",
       "    }\n",
       "\n",
       "    .dataframe tbody tr th {\n",
       "        vertical-align: top;\n",
       "    }\n",
       "\n",
       "    .dataframe thead th {\n",
       "        text-align: right;\n",
       "    }\n",
       "</style>\n",
       "<table border=\"1\" class=\"dataframe\">\n",
       "  <thead>\n",
       "    <tr style=\"text-align: right;\">\n",
       "      <th></th>\n",
       "      <th>date</th>\n",
       "      <th>store_nbr</th>\n",
       "      <th>transactions</th>\n",
       "    </tr>\n",
       "  </thead>\n",
       "  <tbody>\n",
       "    <tr>\n",
       "      <th>0</th>\n",
       "      <td>2013-01-01</td>\n",
       "      <td>25</td>\n",
       "      <td>770</td>\n",
       "    </tr>\n",
       "    <tr>\n",
       "      <th>1</th>\n",
       "      <td>2013-01-02</td>\n",
       "      <td>1</td>\n",
       "      <td>2111</td>\n",
       "    </tr>\n",
       "    <tr>\n",
       "      <th>2</th>\n",
       "      <td>2013-01-02</td>\n",
       "      <td>2</td>\n",
       "      <td>2358</td>\n",
       "    </tr>\n",
       "    <tr>\n",
       "      <th>3</th>\n",
       "      <td>2013-01-02</td>\n",
       "      <td>3</td>\n",
       "      <td>3487</td>\n",
       "    </tr>\n",
       "    <tr>\n",
       "      <th>4</th>\n",
       "      <td>2013-01-02</td>\n",
       "      <td>4</td>\n",
       "      <td>1922</td>\n",
       "    </tr>\n",
       "    <tr>\n",
       "      <th>...</th>\n",
       "      <td>...</td>\n",
       "      <td>...</td>\n",
       "      <td>...</td>\n",
       "    </tr>\n",
       "    <tr>\n",
       "      <th>83483</th>\n",
       "      <td>2017-08-15</td>\n",
       "      <td>50</td>\n",
       "      <td>2804</td>\n",
       "    </tr>\n",
       "    <tr>\n",
       "      <th>83484</th>\n",
       "      <td>2017-08-15</td>\n",
       "      <td>51</td>\n",
       "      <td>1573</td>\n",
       "    </tr>\n",
       "    <tr>\n",
       "      <th>83485</th>\n",
       "      <td>2017-08-15</td>\n",
       "      <td>52</td>\n",
       "      <td>2255</td>\n",
       "    </tr>\n",
       "    <tr>\n",
       "      <th>83486</th>\n",
       "      <td>2017-08-15</td>\n",
       "      <td>53</td>\n",
       "      <td>932</td>\n",
       "    </tr>\n",
       "    <tr>\n",
       "      <th>83487</th>\n",
       "      <td>2017-08-15</td>\n",
       "      <td>54</td>\n",
       "      <td>802</td>\n",
       "    </tr>\n",
       "  </tbody>\n",
       "</table>\n",
       "<p>83488 rows × 3 columns</p>\n",
       "</div>"
      ],
      "text/plain": [
       "             date  store_nbr  transactions\n",
       "0      2013-01-01         25           770\n",
       "1      2013-01-02          1          2111\n",
       "2      2013-01-02          2          2358\n",
       "3      2013-01-02          3          3487\n",
       "4      2013-01-02          4          1922\n",
       "...           ...        ...           ...\n",
       "83483  2017-08-15         50          2804\n",
       "83484  2017-08-15         51          1573\n",
       "83485  2017-08-15         52          2255\n",
       "83486  2017-08-15         53           932\n",
       "83487  2017-08-15         54           802\n",
       "\n",
       "[83488 rows x 3 columns]"
      ]
     },
     "execution_count": 114,
     "metadata": {},
     "output_type": "execute_result"
    }
   ],
   "source": [
    "transaction_df = pd.read_csv(\"transactions.csv\")\n",
    "transaction_df"
   ]
  },
  {
   "cell_type": "code",
   "execution_count": 115,
   "id": "36a579b9",
   "metadata": {},
   "outputs": [
    {
     "data": {
      "text/html": [
       "<div>\n",
       "<style scoped>\n",
       "    .dataframe tbody tr th:only-of-type {\n",
       "        vertical-align: middle;\n",
       "    }\n",
       "\n",
       "    .dataframe tbody tr th {\n",
       "        vertical-align: top;\n",
       "    }\n",
       "\n",
       "    .dataframe thead th {\n",
       "        text-align: right;\n",
       "    }\n",
       "</style>\n",
       "<table border=\"1\" class=\"dataframe\">\n",
       "  <thead>\n",
       "    <tr style=\"text-align: right;\">\n",
       "      <th></th>\n",
       "      <th>transactions</th>\n",
       "    </tr>\n",
       "    <tr>\n",
       "      <th>store_nbr</th>\n",
       "      <th></th>\n",
       "    </tr>\n",
       "  </thead>\n",
       "  <tbody>\n",
       "    <tr>\n",
       "      <th>44</th>\n",
       "      <td>7273093</td>\n",
       "    </tr>\n",
       "    <tr>\n",
       "      <th>47</th>\n",
       "      <td>6535810</td>\n",
       "    </tr>\n",
       "    <tr>\n",
       "      <th>45</th>\n",
       "      <td>6201115</td>\n",
       "    </tr>\n",
       "    <tr>\n",
       "      <th>46</th>\n",
       "      <td>5990113</td>\n",
       "    </tr>\n",
       "    <tr>\n",
       "      <th>3</th>\n",
       "      <td>5366350</td>\n",
       "    </tr>\n",
       "    <tr>\n",
       "      <th>48</th>\n",
       "      <td>5107785</td>\n",
       "    </tr>\n",
       "    <tr>\n",
       "      <th>8</th>\n",
       "      <td>4637971</td>\n",
       "    </tr>\n",
       "    <tr>\n",
       "      <th>49</th>\n",
       "      <td>4574103</td>\n",
       "    </tr>\n",
       "    <tr>\n",
       "      <th>50</th>\n",
       "      <td>4384444</td>\n",
       "    </tr>\n",
       "    <tr>\n",
       "      <th>11</th>\n",
       "      <td>3972488</td>\n",
       "    </tr>\n",
       "  </tbody>\n",
       "</table>\n",
       "</div>"
      ],
      "text/plain": [
       "           transactions\n",
       "store_nbr              \n",
       "44              7273093\n",
       "47              6535810\n",
       "45              6201115\n",
       "46              5990113\n",
       "3               5366350\n",
       "48              5107785\n",
       "8               4637971\n",
       "49              4574103\n",
       "50              4384444\n",
       "11              3972488"
      ]
     },
     "execution_count": 115,
     "metadata": {},
     "output_type": "execute_result"
    }
   ],
   "source": [
    "transaction_df.groupby('store_nbr')[['transactions']].sum().sort_values(by='transactions', ascending=False).iloc[:10]"
   ]
  },
  {
   "cell_type": "markdown",
   "id": "2507f4cb",
   "metadata": {},
   "source": [
    "# Task"
   ]
  },
  {
   "cell_type": "code",
   "execution_count": 116,
   "id": "e99ff183",
   "metadata": {},
   "outputs": [
    {
     "name": "stdout",
     "output_type": "stream",
     "text": [
      "   year  month  store_number  transaction_count\n",
      "1  2022      1             2               2100\n",
      "2  2022      1             3               1800\n",
      "0  2022      1             1               1500\n",
      "3  2022      2             1               2200\n",
      "5  2022      2             3               2000\n",
      "4  2022      2             2               1900\n"
     ]
    }
   ],
   "source": [
    "import pandas as pd\n",
    "\n",
    "# Assuming df is your DataFrame with columns 'date', 'store_number', and 'transaction_count'\n",
    "# Replace this with your actual DataFrame\n",
    "data = {'date': ['2022-01-01', '2022-01-02', '2022-01-03', '2022-02-01', '2022-02-02', '2022-02-03'],\n",
    "        'store_number': [1, 2, 3, 1, 2, 3],\n",
    "        'transaction_count': [1500, 2100, 1800, 2200, 1900, 2000]}\n",
    "df = pd.DataFrame(data)\n",
    "\n",
    "# Convert 'date' to datetime format\n",
    "df['date'] = pd.to_datetime(df['date'])\n",
    "\n",
    "# Extract month and year from 'date'\n",
    "df['month'] = df['date'].dt.month\n",
    "df['year'] = df['date'].dt.year\n",
    "\n",
    "# Group by 'year', 'month', and 'store_number' and calculate total transactions for each store and month\n",
    "total_transactions_by_store_month = df.groupby(['year', 'month', 'store_number'])['transaction_count'].sum()\n",
    "\n",
    "# Sort the table by first month to last, then by highest transactions to lowest within each month\n",
    "sorted_table = total_transactions_by_store_month.reset_index().sort_values(by=['year', 'month', 'transaction_count'], ascending=[True, True, False])\n",
    "\n",
    "# Display the sorted table\n",
    "print(sorted_table)\n"
   ]
  },
  {
   "cell_type": "markdown",
   "id": "74673a36",
   "metadata": {},
   "source": [
    "# Multi-Index"
   ]
  },
  {
   "cell_type": "markdown",
   "id": "2095b7d3",
   "metadata": {},
   "source": [
    "# Task"
   ]
  },
  {
   "cell_type": "code",
   "execution_count": 119,
   "id": "719c21dd",
   "metadata": {},
   "outputs": [
    {
     "name": "stdout",
     "output_type": "stream",
     "text": [
      "Original DataFrame:\n",
      "                    transactions  bonus_payable\n",
      "store_number month                             \n",
      "1            1              1500              0\n",
      "2            1              2100            100\n",
      "3            1              1800              0\n",
      "1            2              2200            100\n",
      "2            2              1900              0\n",
      "3            2              2000            100\n",
      "\n",
      "Access Store 3, Month 1 and select the column storing the mean of transactions:\n",
      "1800\n",
      "\n",
      "DataFrame after fixing the structure:\n",
      "   store_number  month  transactions  bonus_payable\n",
      "0             1      1          1500              0\n",
      "1             2      1          2100            100\n",
      "2             3      1          1800              0\n",
      "3             1      2          2200            100\n",
      "4             2      2          1900              0\n",
      "5             3      2          2000            100\n"
     ]
    }
   ],
   "source": [
    "import pandas as pd\n",
    "\n",
    "# Sample DataFrame with MultiIndex\n",
    "data = {'transactions': [1500, 2100, 1800, 2200, 1900, 2000],\n",
    "        'bonus_payable': [0, 100, 0, 100, 0, 100]}\n",
    "index = pd.MultiIndex.from_tuples([(1, 1), (2, 1), (3, 1), (1, 2), (2, 2), (3, 2)], names=['store_number', 'month'])\n",
    "df = pd.DataFrame(data, index=index)\n",
    "\n",
    "# Display the sample DataFrame\n",
    "print(\"Original DataFrame:\")\n",
    "print(df)\n",
    "print()\n",
    "\n",
    "# Access Store 3, Month 1 and select the column storing the mean of transactions\n",
    "store_3_month_1 = df.loc[(3, 1), 'transactions']\n",
    "\n",
    "# Display the result\n",
    "print(\"Access Store 3, Month 1 and select the column storing the mean of transactions:\")\n",
    "print(store_3_month_1)\n",
    "print()\n",
    "\n",
    "# Reset the row index to default integer index and reset column names\n",
    "df.reset_index(inplace=True)\n",
    "df.columns.name = None\n",
    "\n",
    "# Display the DataFrame after fixing the structure\n",
    "print(\"DataFrame after fixing the structure:\")\n",
    "print(df)\n"
   ]
  },
  {
   "cell_type": "code",
   "execution_count": 120,
   "id": "93e11f59",
   "metadata": {},
   "outputs": [
    {
     "data": {
      "text/html": [
       "<div>\n",
       "<style scoped>\n",
       "    .dataframe tbody tr th:only-of-type {\n",
       "        vertical-align: middle;\n",
       "    }\n",
       "\n",
       "    .dataframe tbody tr th {\n",
       "        vertical-align: top;\n",
       "    }\n",
       "\n",
       "    .dataframe thead th {\n",
       "        text-align: right;\n",
       "    }\n",
       "</style>\n",
       "<table border=\"1\" class=\"dataframe\">\n",
       "  <thead>\n",
       "    <tr style=\"text-align: right;\">\n",
       "      <th></th>\n",
       "      <th>date</th>\n",
       "      <th>store_nbr</th>\n",
       "      <th>transactions</th>\n",
       "    </tr>\n",
       "  </thead>\n",
       "  <tbody>\n",
       "    <tr>\n",
       "      <th>0</th>\n",
       "      <td>2013-01-01</td>\n",
       "      <td>25</td>\n",
       "      <td>770</td>\n",
       "    </tr>\n",
       "    <tr>\n",
       "      <th>1</th>\n",
       "      <td>2013-01-02</td>\n",
       "      <td>1</td>\n",
       "      <td>2111</td>\n",
       "    </tr>\n",
       "    <tr>\n",
       "      <th>2</th>\n",
       "      <td>2013-01-02</td>\n",
       "      <td>2</td>\n",
       "      <td>2358</td>\n",
       "    </tr>\n",
       "    <tr>\n",
       "      <th>3</th>\n",
       "      <td>2013-01-02</td>\n",
       "      <td>3</td>\n",
       "      <td>3487</td>\n",
       "    </tr>\n",
       "    <tr>\n",
       "      <th>4</th>\n",
       "      <td>2013-01-02</td>\n",
       "      <td>4</td>\n",
       "      <td>1922</td>\n",
       "    </tr>\n",
       "  </tbody>\n",
       "</table>\n",
       "</div>"
      ],
      "text/plain": [
       "        date  store_nbr  transactions\n",
       "0 2013-01-01         25           770\n",
       "1 2013-01-02          1          2111\n",
       "2 2013-01-02          2          2358\n",
       "3 2013-01-02          3          3487\n",
       "4 2013-01-02          4          1922"
      ]
     },
     "execution_count": 120,
     "metadata": {},
     "output_type": "execute_result"
    }
   ],
   "source": [
    "# Read in transactions data -- parse dates specified here for help with later problem\n",
    "\n",
    "transactions = pd.read_csv(\"transactions.csv\", parse_dates=[\"date\"])\n",
    "\n",
    "transactions.head()"
   ]
  },
  {
   "cell_type": "code",
   "execution_count": 121,
   "id": "a9ec10a6",
   "metadata": {},
   "outputs": [
    {
     "name": "stdout",
     "output_type": "stream",
     "text": [
      "<class 'pandas.core.frame.DataFrame'>\n",
      "RangeIndex: 83488 entries, 0 to 83487\n",
      "Data columns (total 3 columns):\n",
      " #   Column        Non-Null Count  Dtype         \n",
      "---  ------        --------------  -----         \n",
      " 0   date          83488 non-null  datetime64[ns]\n",
      " 1   store_nbr     83488 non-null  int64         \n",
      " 2   transactions  83488 non-null  int64         \n",
      "dtypes: datetime64[ns](1), int64(2)\n",
      "memory usage: 1.9 MB\n"
     ]
    }
   ],
   "source": [
    "transactions.info()"
   ]
  },
  {
   "cell_type": "code",
   "execution_count": 122,
   "id": "fa9a71b7",
   "metadata": {},
   "outputs": [
    {
     "data": {
      "text/html": [
       "<div>\n",
       "<style scoped>\n",
       "    .dataframe tbody tr th:only-of-type {\n",
       "        vertical-align: middle;\n",
       "    }\n",
       "\n",
       "    .dataframe tbody tr th {\n",
       "        vertical-align: top;\n",
       "    }\n",
       "\n",
       "    .dataframe thead th {\n",
       "        text-align: right;\n",
       "    }\n",
       "</style>\n",
       "<table border=\"1\" class=\"dataframe\">\n",
       "  <thead>\n",
       "    <tr style=\"text-align: right;\">\n",
       "      <th></th>\n",
       "      <th>date</th>\n",
       "      <th>store_nbr</th>\n",
       "      <th>transactions</th>\n",
       "      <th>month</th>\n",
       "    </tr>\n",
       "  </thead>\n",
       "  <tbody>\n",
       "    <tr>\n",
       "      <th>0</th>\n",
       "      <td>2013-01-01</td>\n",
       "      <td>25</td>\n",
       "      <td>770</td>\n",
       "      <td>1</td>\n",
       "    </tr>\n",
       "    <tr>\n",
       "      <th>1</th>\n",
       "      <td>2013-01-02</td>\n",
       "      <td>1</td>\n",
       "      <td>2111</td>\n",
       "      <td>1</td>\n",
       "    </tr>\n",
       "    <tr>\n",
       "      <th>2</th>\n",
       "      <td>2013-01-02</td>\n",
       "      <td>2</td>\n",
       "      <td>2358</td>\n",
       "      <td>1</td>\n",
       "    </tr>\n",
       "    <tr>\n",
       "      <th>3</th>\n",
       "      <td>2013-01-02</td>\n",
       "      <td>3</td>\n",
       "      <td>3487</td>\n",
       "      <td>1</td>\n",
       "    </tr>\n",
       "    <tr>\n",
       "      <th>4</th>\n",
       "      <td>2013-01-02</td>\n",
       "      <td>4</td>\n",
       "      <td>1922</td>\n",
       "      <td>1</td>\n",
       "    </tr>\n",
       "    <tr>\n",
       "      <th>...</th>\n",
       "      <td>...</td>\n",
       "      <td>...</td>\n",
       "      <td>...</td>\n",
       "      <td>...</td>\n",
       "    </tr>\n",
       "    <tr>\n",
       "      <th>83483</th>\n",
       "      <td>2017-08-15</td>\n",
       "      <td>50</td>\n",
       "      <td>2804</td>\n",
       "      <td>8</td>\n",
       "    </tr>\n",
       "    <tr>\n",
       "      <th>83484</th>\n",
       "      <td>2017-08-15</td>\n",
       "      <td>51</td>\n",
       "      <td>1573</td>\n",
       "      <td>8</td>\n",
       "    </tr>\n",
       "    <tr>\n",
       "      <th>83485</th>\n",
       "      <td>2017-08-15</td>\n",
       "      <td>52</td>\n",
       "      <td>2255</td>\n",
       "      <td>8</td>\n",
       "    </tr>\n",
       "    <tr>\n",
       "      <th>83486</th>\n",
       "      <td>2017-08-15</td>\n",
       "      <td>53</td>\n",
       "      <td>932</td>\n",
       "      <td>8</td>\n",
       "    </tr>\n",
       "    <tr>\n",
       "      <th>83487</th>\n",
       "      <td>2017-08-15</td>\n",
       "      <td>54</td>\n",
       "      <td>802</td>\n",
       "      <td>8</td>\n",
       "    </tr>\n",
       "  </tbody>\n",
       "</table>\n",
       "<p>83488 rows × 4 columns</p>\n",
       "</div>"
      ],
      "text/plain": [
       "            date  store_nbr  transactions  month\n",
       "0     2013-01-01         25           770      1\n",
       "1     2013-01-02          1          2111      1\n",
       "2     2013-01-02          2          2358      1\n",
       "3     2013-01-02          3          3487      1\n",
       "4     2013-01-02          4          1922      1\n",
       "...          ...        ...           ...    ...\n",
       "83483 2017-08-15         50          2804      8\n",
       "83484 2017-08-15         51          1573      8\n",
       "83485 2017-08-15         52          2255      8\n",
       "83486 2017-08-15         53           932      8\n",
       "83487 2017-08-15         54           802      8\n",
       "\n",
       "[83488 rows x 4 columns]"
      ]
     },
     "execution_count": 122,
     "metadata": {},
     "output_type": "execute_result"
    }
   ],
   "source": [
    "transactions[\"month\"] = transactions[\"date\"].dt.month\n",
    "transactions"
   ]
  },
  {
   "cell_type": "code",
   "execution_count": 123,
   "id": "46420b5d",
   "metadata": {},
   "outputs": [
    {
     "data": {
      "text/html": [
       "<div>\n",
       "<style scoped>\n",
       "    .dataframe tbody tr th:only-of-type {\n",
       "        vertical-align: middle;\n",
       "    }\n",
       "\n",
       "    .dataframe tbody tr th {\n",
       "        vertical-align: top;\n",
       "    }\n",
       "\n",
       "    .dataframe thead tr th {\n",
       "        text-align: left;\n",
       "    }\n",
       "\n",
       "    .dataframe thead tr:last-of-type th {\n",
       "        text-align: right;\n",
       "    }\n",
       "</style>\n",
       "<table border=\"1\" class=\"dataframe\">\n",
       "  <thead>\n",
       "    <tr>\n",
       "      <th></th>\n",
       "      <th></th>\n",
       "      <th colspan=\"2\" halign=\"left\">transactions</th>\n",
       "    </tr>\n",
       "    <tr>\n",
       "      <th></th>\n",
       "      <th></th>\n",
       "      <th>sum</th>\n",
       "      <th>mean</th>\n",
       "    </tr>\n",
       "    <tr>\n",
       "      <th>store_nbr</th>\n",
       "      <th>month</th>\n",
       "      <th></th>\n",
       "      <th></th>\n",
       "    </tr>\n",
       "  </thead>\n",
       "  <tbody>\n",
       "    <tr>\n",
       "      <th>44</th>\n",
       "      <th>1</th>\n",
       "      <td>628438</td>\n",
       "      <td>4246.202703</td>\n",
       "    </tr>\n",
       "    <tr>\n",
       "      <th>47</th>\n",
       "      <th>1</th>\n",
       "      <td>568824</td>\n",
       "      <td>3843.405405</td>\n",
       "    </tr>\n",
       "    <tr>\n",
       "      <th>45</th>\n",
       "      <th>1</th>\n",
       "      <td>538370</td>\n",
       "      <td>3637.635135</td>\n",
       "    </tr>\n",
       "    <tr>\n",
       "      <th>46</th>\n",
       "      <th>1</th>\n",
       "      <td>522763</td>\n",
       "      <td>3532.182432</td>\n",
       "    </tr>\n",
       "    <tr>\n",
       "      <th>3</th>\n",
       "      <th>1</th>\n",
       "      <td>463260</td>\n",
       "      <td>3151.428571</td>\n",
       "    </tr>\n",
       "    <tr>\n",
       "      <th>...</th>\n",
       "      <th>...</th>\n",
       "      <td>...</td>\n",
       "      <td>...</td>\n",
       "    </tr>\n",
       "    <tr>\n",
       "      <th>32</th>\n",
       "      <th>12</th>\n",
       "      <td>86167</td>\n",
       "      <td>718.058333</td>\n",
       "    </tr>\n",
       "    <tr>\n",
       "      <th>21</th>\n",
       "      <th>12</th>\n",
       "      <td>84128</td>\n",
       "      <td>1402.133333</td>\n",
       "    </tr>\n",
       "    <tr>\n",
       "      <th>42</th>\n",
       "      <th>12</th>\n",
       "      <td>76741</td>\n",
       "      <td>1279.016667</td>\n",
       "    </tr>\n",
       "    <tr>\n",
       "      <th>29</th>\n",
       "      <th>12</th>\n",
       "      <td>76627</td>\n",
       "      <td>1277.116667</td>\n",
       "    </tr>\n",
       "    <tr>\n",
       "      <th>22</th>\n",
       "      <th>12</th>\n",
       "      <td>50650</td>\n",
       "      <td>844.166667</td>\n",
       "    </tr>\n",
       "  </tbody>\n",
       "</table>\n",
       "<p>641 rows × 2 columns</p>\n",
       "</div>"
      ],
      "text/plain": [
       "                transactions             \n",
       "                         sum         mean\n",
       "store_nbr month                          \n",
       "44        1           628438  4246.202703\n",
       "47        1           568824  3843.405405\n",
       "45        1           538370  3637.635135\n",
       "46        1           522763  3532.182432\n",
       "3         1           463260  3151.428571\n",
       "...                      ...          ...\n",
       "32        12           86167   718.058333\n",
       "21        12           84128  1402.133333\n",
       "42        12           76741  1279.016667\n",
       "29        12           76627  1277.116667\n",
       "22        12           50650   844.166667\n",
       "\n",
       "[641 rows x 2 columns]"
      ]
     },
     "execution_count": 123,
     "metadata": {},
     "output_type": "execute_result"
    }
   ],
   "source": [
    "grouped = (\n",
    "    transactions.groupby([\"store_nbr\", \"month\"])\n",
    "    .agg({\"transactions\": [\"sum\", \"mean\"]})\n",
    "    .sort_values(by=[\"month\", (\"transactions\", \"sum\")], ascending=[True, False])\n",
    ")\n",
    "grouped"
   ]
  },
  {
   "cell_type": "code",
   "execution_count": 124,
   "id": "c4068272",
   "metadata": {},
   "outputs": [
    {
     "data": {
      "text/plain": [
       "transactions  sum     463260.000000\n",
       "              mean      3151.428571\n",
       "Name: (3, 1), dtype: float64"
      ]
     },
     "execution_count": 124,
     "metadata": {},
     "output_type": "execute_result"
    }
   ],
   "source": [
    "# Grab store 3, month 1 from multi-index (both values are integers)\n",
    "grouped.loc[(3,1), :]"
   ]
  },
  {
   "cell_type": "code",
   "execution_count": 125,
   "id": "5f81312f",
   "metadata": {},
   "outputs": [
    {
     "data": {
      "text/html": [
       "<div>\n",
       "<style scoped>\n",
       "    .dataframe tbody tr th:only-of-type {\n",
       "        vertical-align: middle;\n",
       "    }\n",
       "\n",
       "    .dataframe tbody tr th {\n",
       "        vertical-align: top;\n",
       "    }\n",
       "\n",
       "    .dataframe thead tr th {\n",
       "        text-align: left;\n",
       "    }\n",
       "\n",
       "    .dataframe thead tr:last-of-type th {\n",
       "        text-align: right;\n",
       "    }\n",
       "</style>\n",
       "<table border=\"1\" class=\"dataframe\">\n",
       "  <thead>\n",
       "    <tr>\n",
       "      <th></th>\n",
       "      <th></th>\n",
       "      <th>transactions</th>\n",
       "    </tr>\n",
       "    <tr>\n",
       "      <th></th>\n",
       "      <th></th>\n",
       "      <th>mean</th>\n",
       "    </tr>\n",
       "    <tr>\n",
       "      <th>store_nbr</th>\n",
       "      <th>month</th>\n",
       "      <th></th>\n",
       "    </tr>\n",
       "  </thead>\n",
       "  <tbody>\n",
       "    <tr>\n",
       "      <th>44</th>\n",
       "      <th>1</th>\n",
       "      <td>4246.202703</td>\n",
       "    </tr>\n",
       "    <tr>\n",
       "      <th>47</th>\n",
       "      <th>1</th>\n",
       "      <td>3843.405405</td>\n",
       "    </tr>\n",
       "    <tr>\n",
       "      <th>45</th>\n",
       "      <th>1</th>\n",
       "      <td>3637.635135</td>\n",
       "    </tr>\n",
       "    <tr>\n",
       "      <th>46</th>\n",
       "      <th>1</th>\n",
       "      <td>3532.182432</td>\n",
       "    </tr>\n",
       "    <tr>\n",
       "      <th>3</th>\n",
       "      <th>1</th>\n",
       "      <td>3151.428571</td>\n",
       "    </tr>\n",
       "    <tr>\n",
       "      <th>...</th>\n",
       "      <th>...</th>\n",
       "      <td>...</td>\n",
       "    </tr>\n",
       "    <tr>\n",
       "      <th>32</th>\n",
       "      <th>12</th>\n",
       "      <td>718.058333</td>\n",
       "    </tr>\n",
       "    <tr>\n",
       "      <th>21</th>\n",
       "      <th>12</th>\n",
       "      <td>1402.133333</td>\n",
       "    </tr>\n",
       "    <tr>\n",
       "      <th>42</th>\n",
       "      <th>12</th>\n",
       "      <td>1279.016667</td>\n",
       "    </tr>\n",
       "    <tr>\n",
       "      <th>29</th>\n",
       "      <th>12</th>\n",
       "      <td>1277.116667</td>\n",
       "    </tr>\n",
       "    <tr>\n",
       "      <th>22</th>\n",
       "      <th>12</th>\n",
       "      <td>844.166667</td>\n",
       "    </tr>\n",
       "  </tbody>\n",
       "</table>\n",
       "<p>641 rows × 1 columns</p>\n",
       "</div>"
      ],
      "text/plain": [
       "                transactions\n",
       "                        mean\n",
       "store_nbr month             \n",
       "44        1      4246.202703\n",
       "47        1      3843.405405\n",
       "45        1      3637.635135\n",
       "46        1      3532.182432\n",
       "3         1      3151.428571\n",
       "...                      ...\n",
       "32        12      718.058333\n",
       "21        12     1402.133333\n",
       "42        12     1279.016667\n",
       "29        12     1277.116667\n",
       "22        12      844.166667\n",
       "\n",
       "[641 rows x 1 columns]"
      ]
     },
     "execution_count": 125,
     "metadata": {},
     "output_type": "execute_result"
    }
   ],
   "source": [
    "# Grab mean column in column multi-index\n",
    "grouped.loc[: , [('transactions', 'mean')]]"
   ]
  },
  {
   "cell_type": "code",
   "execution_count": 126,
   "id": "f3be1a1d",
   "metadata": {},
   "outputs": [
    {
     "data": {
      "text/html": [
       "<div>\n",
       "<style scoped>\n",
       "    .dataframe tbody tr th:only-of-type {\n",
       "        vertical-align: middle;\n",
       "    }\n",
       "\n",
       "    .dataframe tbody tr th {\n",
       "        vertical-align: top;\n",
       "    }\n",
       "\n",
       "    .dataframe thead th {\n",
       "        text-align: right;\n",
       "    }\n",
       "</style>\n",
       "<table border=\"1\" class=\"dataframe\">\n",
       "  <thead>\n",
       "    <tr style=\"text-align: right;\">\n",
       "      <th></th>\n",
       "      <th></th>\n",
       "      <th></th>\n",
       "      <th>sum</th>\n",
       "      <th>mean</th>\n",
       "    </tr>\n",
       "  </thead>\n",
       "  <tbody>\n",
       "    <tr>\n",
       "      <th>0</th>\n",
       "      <td>44</td>\n",
       "      <td>1</td>\n",
       "      <td>628438</td>\n",
       "      <td>4246.202703</td>\n",
       "    </tr>\n",
       "    <tr>\n",
       "      <th>1</th>\n",
       "      <td>47</td>\n",
       "      <td>1</td>\n",
       "      <td>568824</td>\n",
       "      <td>3843.405405</td>\n",
       "    </tr>\n",
       "    <tr>\n",
       "      <th>2</th>\n",
       "      <td>45</td>\n",
       "      <td>1</td>\n",
       "      <td>538370</td>\n",
       "      <td>3637.635135</td>\n",
       "    </tr>\n",
       "    <tr>\n",
       "      <th>3</th>\n",
       "      <td>46</td>\n",
       "      <td>1</td>\n",
       "      <td>522763</td>\n",
       "      <td>3532.182432</td>\n",
       "    </tr>\n",
       "    <tr>\n",
       "      <th>4</th>\n",
       "      <td>3</td>\n",
       "      <td>1</td>\n",
       "      <td>463260</td>\n",
       "      <td>3151.428571</td>\n",
       "    </tr>\n",
       "    <tr>\n",
       "      <th>...</th>\n",
       "      <td>...</td>\n",
       "      <td>...</td>\n",
       "      <td>...</td>\n",
       "      <td>...</td>\n",
       "    </tr>\n",
       "    <tr>\n",
       "      <th>636</th>\n",
       "      <td>32</td>\n",
       "      <td>12</td>\n",
       "      <td>86167</td>\n",
       "      <td>718.058333</td>\n",
       "    </tr>\n",
       "    <tr>\n",
       "      <th>637</th>\n",
       "      <td>21</td>\n",
       "      <td>12</td>\n",
       "      <td>84128</td>\n",
       "      <td>1402.133333</td>\n",
       "    </tr>\n",
       "    <tr>\n",
       "      <th>638</th>\n",
       "      <td>42</td>\n",
       "      <td>12</td>\n",
       "      <td>76741</td>\n",
       "      <td>1279.016667</td>\n",
       "    </tr>\n",
       "    <tr>\n",
       "      <th>639</th>\n",
       "      <td>29</td>\n",
       "      <td>12</td>\n",
       "      <td>76627</td>\n",
       "      <td>1277.116667</td>\n",
       "    </tr>\n",
       "    <tr>\n",
       "      <th>640</th>\n",
       "      <td>22</td>\n",
       "      <td>12</td>\n",
       "      <td>50650</td>\n",
       "      <td>844.166667</td>\n",
       "    </tr>\n",
       "  </tbody>\n",
       "</table>\n",
       "<p>641 rows × 4 columns</p>\n",
       "</div>"
      ],
      "text/plain": [
       "                sum         mean\n",
       "0    44   1  628438  4246.202703\n",
       "1    47   1  568824  3843.405405\n",
       "2    45   1  538370  3637.635135\n",
       "3    46   1  522763  3532.182432\n",
       "4     3   1  463260  3151.428571\n",
       "..   ..  ..     ...          ...\n",
       "636  32  12   86167   718.058333\n",
       "637  21  12   84128  1402.133333\n",
       "638  42  12   76741  1279.016667\n",
       "639  29  12   76627  1277.116667\n",
       "640  22  12   50650   844.166667\n",
       "\n",
       "[641 rows x 4 columns]"
      ]
     },
     "execution_count": 126,
     "metadata": {},
     "output_type": "execute_result"
    }
   ],
   "source": [
    "# Drop level from column index (axis=1), then reset index\n",
    "grouped.reset_index().droplevel(0, axis=1)"
   ]
  },
  {
   "cell_type": "markdown",
   "id": "040d127d",
   "metadata": {},
   "source": [
    "# Agg Method on Multi-index"
   ]
  },
  {
   "cell_type": "markdown",
   "id": "6cd15dc7",
   "metadata": {},
   "source": [
    "# Task"
   ]
  },
  {
   "cell_type": "code",
   "execution_count": 131,
   "id": "cb331274",
   "metadata": {},
   "outputs": [
    {
     "name": "stdout",
     "output_type": "stream",
     "text": [
      "Results for stores:\n",
      "              mean_target_met  sum_bonuses\n",
      "store_number                              \n",
      "5                         1.0          120\n",
      "1                         1.0          100\n",
      "6                         1.0           90\n",
      "3                         1.0           80\n",
      "2                         0.0           50\n",
      "4                         0.0           30\n",
      "\n",
      "Results for day of week:\n",
      "             mean_target_met  sum_bonuses\n",
      "day_of_week                              \n",
      "2                        1.0          120\n",
      "5                        1.0          100\n",
      "3                        1.0           90\n",
      "0                        1.0           80\n",
      "6                        0.0           50\n",
      "1                        0.0           30\n",
      "\n",
      "Results for month:\n",
      "      mean_target_met  sum_bonuses\n",
      "date                              \n",
      "2            0.666667          240\n",
      "1            0.666667          230\n"
     ]
    }
   ],
   "source": [
    "import pandas as pd\n",
    "\n",
    "# Assuming df is your DataFrame with columns 'store_number', 'target_met', 'bonus_payable', and 'date'\n",
    "# Replace this with your actual DataFrame\n",
    "data = {'store_number': [1, 2, 3, 4, 5, 6],\n",
    "        'target_met': [True, False, True, False, True, True],\n",
    "        'bonus_payable': [100, 50, 80, 30, 120, 90],\n",
    "        'date': ['2022-01-01', '2022-01-02', '2022-01-03', '2022-02-01', '2022-02-02', '2022-02-03']}\n",
    "df = pd.DataFrame(data)\n",
    "\n",
    "# Convert 'date' to datetime format\n",
    "df['date'] = pd.to_datetime(df['date'])\n",
    "\n",
    "# Extract day of the week\n",
    "df['day_of_week'] = df['date'].dt.dayofweek\n",
    "\n",
    "# Calculate the mean of target met by store\n",
    "mean_target_met_by_store = df.groupby('store_number')['target_met'].mean()\n",
    "\n",
    "# Calculate the sum of bonuses to be paid to each store\n",
    "sum_bonuses_by_store = df.groupby('store_number')['bonus_payable'].sum()\n",
    "\n",
    "# Create a DataFrame with the results for stores\n",
    "store_results = pd.DataFrame({\n",
    "    'mean_target_met': mean_target_met_by_store,\n",
    "    'sum_bonuses': sum_bonuses_by_store\n",
    "})\n",
    "\n",
    "# Sort by highest to lowest bonus payout\n",
    "store_results_sorted = store_results.sort_values(by='sum_bonuses', ascending=False)\n",
    "\n",
    "# Display the results for stores\n",
    "print(\"Results for stores:\")\n",
    "print(store_results_sorted)\n",
    "print()\n",
    "\n",
    "# Calculate the mean of target met by day of week\n",
    "mean_target_met_by_day_of_week = df.groupby('day_of_week')['target_met'].mean()\n",
    "\n",
    "# Calculate the sum of bonuses to be paid by day of week\n",
    "sum_bonuses_by_day_of_week = df.groupby('day_of_week')['bonus_payable'].sum()\n",
    "\n",
    "# Create a DataFrame with the results for day of week\n",
    "day_of_week_results = pd.DataFrame({\n",
    "    'mean_target_met': mean_target_met_by_day_of_week,\n",
    "    'sum_bonuses': sum_bonuses_by_day_of_week\n",
    "})\n",
    "\n",
    "# Sort by highest to lowest bonus payout\n",
    "day_of_week_results_sorted = day_of_week_results.sort_values(by='sum_bonuses', ascending=False)\n",
    "\n",
    "# Display the results for day of week\n",
    "print(\"Results for day of week:\")\n",
    "print(day_of_week_results_sorted)\n",
    "print()\n",
    "\n",
    "# Calculate the mean of target met by month\n",
    "mean_target_met_by_month = df.groupby(df['date'].dt.month)['target_met'].mean()\n",
    "\n",
    "# Calculate the sum of bonuses to be paid by month\n",
    "sum_bonuses_by_month = df.groupby(df['date'].dt.month)['bonus_payable'].sum()\n",
    "\n",
    "# Create a DataFrame with the results for month\n",
    "month_results = pd.DataFrame({\n",
    "    'mean_target_met': mean_target_met_by_month,\n",
    "    'sum_bonuses': sum_bonuses_by_month\n",
    "})\n",
    "\n",
    "# Sort by highest to lowest bonus payout\n",
    "month_results_sorted = month_results.sort_values(by='sum_bonuses', ascending=False)\n",
    "\n",
    "# Display the results for month\n",
    "print(\"Results for month:\")\n",
    "print(month_results_sorted)\n"
   ]
  },
  {
   "cell_type": "code",
   "execution_count": 128,
   "id": "ef4cea29",
   "metadata": {},
   "outputs": [
    {
     "data": {
      "text/html": [
       "<div>\n",
       "<style scoped>\n",
       "    .dataframe tbody tr th:only-of-type {\n",
       "        vertical-align: middle;\n",
       "    }\n",
       "\n",
       "    .dataframe tbody tr th {\n",
       "        vertical-align: top;\n",
       "    }\n",
       "\n",
       "    .dataframe thead th {\n",
       "        text-align: right;\n",
       "    }\n",
       "</style>\n",
       "<table border=\"1\" class=\"dataframe\">\n",
       "  <thead>\n",
       "    <tr style=\"text-align: right;\">\n",
       "      <th></th>\n",
       "      <th>date</th>\n",
       "      <th>store_nbr</th>\n",
       "      <th>transactions</th>\n",
       "      <th>month</th>\n",
       "      <th>target_pct</th>\n",
       "      <th>met_target</th>\n",
       "      <th>bonus_payable</th>\n",
       "      <th>day_of_week</th>\n",
       "    </tr>\n",
       "  </thead>\n",
       "  <tbody>\n",
       "    <tr>\n",
       "      <th>0</th>\n",
       "      <td>2013-01-01</td>\n",
       "      <td>25</td>\n",
       "      <td>770</td>\n",
       "      <td>1</td>\n",
       "      <td>0.3080</td>\n",
       "      <td>False</td>\n",
       "      <td>0</td>\n",
       "      <td>1</td>\n",
       "    </tr>\n",
       "    <tr>\n",
       "      <th>1</th>\n",
       "      <td>2013-01-02</td>\n",
       "      <td>1</td>\n",
       "      <td>2111</td>\n",
       "      <td>1</td>\n",
       "      <td>0.8444</td>\n",
       "      <td>False</td>\n",
       "      <td>0</td>\n",
       "      <td>2</td>\n",
       "    </tr>\n",
       "    <tr>\n",
       "      <th>2</th>\n",
       "      <td>2013-01-02</td>\n",
       "      <td>2</td>\n",
       "      <td>2358</td>\n",
       "      <td>1</td>\n",
       "      <td>0.9432</td>\n",
       "      <td>False</td>\n",
       "      <td>0</td>\n",
       "      <td>2</td>\n",
       "    </tr>\n",
       "    <tr>\n",
       "      <th>3</th>\n",
       "      <td>2013-01-02</td>\n",
       "      <td>3</td>\n",
       "      <td>3487</td>\n",
       "      <td>1</td>\n",
       "      <td>1.3948</td>\n",
       "      <td>True</td>\n",
       "      <td>100</td>\n",
       "      <td>2</td>\n",
       "    </tr>\n",
       "    <tr>\n",
       "      <th>4</th>\n",
       "      <td>2013-01-02</td>\n",
       "      <td>4</td>\n",
       "      <td>1922</td>\n",
       "      <td>1</td>\n",
       "      <td>0.7688</td>\n",
       "      <td>False</td>\n",
       "      <td>0</td>\n",
       "      <td>2</td>\n",
       "    </tr>\n",
       "  </tbody>\n",
       "</table>\n",
       "</div>"
      ],
      "text/plain": [
       "        date  store_nbr  transactions  month  target_pct  met_target  \\\n",
       "0 2013-01-01         25           770      1      0.3080       False   \n",
       "1 2013-01-02          1          2111      1      0.8444       False   \n",
       "2 2013-01-02          2          2358      1      0.9432       False   \n",
       "3 2013-01-02          3          3487      1      1.3948        True   \n",
       "4 2013-01-02          4          1922      1      0.7688       False   \n",
       "\n",
       "   bonus_payable  day_of_week  \n",
       "0              0            1  \n",
       "1              0            2  \n",
       "2              0            2  \n",
       "3            100            2  \n",
       "4              0            2  "
      ]
     },
     "execution_count": 128,
     "metadata": {},
     "output_type": "execute_result"
    }
   ],
   "source": [
    "# Recreate table from section 3\n",
    "\n",
    "transactions = transactions.assign(\n",
    "    target_pct=transactions[\"transactions\"] / 2500,\n",
    "    met_target=(transactions[\"transactions\"] / 2500) >= 1,\n",
    "    bonus_payable=((transactions[\"transactions\"] / 2500) >= 1) * 100,\n",
    "    month=transactions.date.dt.month,\n",
    "    day_of_week=transactions.date.dt.dayofweek,\n",
    ")\n",
    "\n",
    "transactions.head()"
   ]
  },
  {
   "cell_type": "code",
   "execution_count": 132,
   "id": "3a75caff",
   "metadata": {},
   "outputs": [
    {
     "name": "stdout",
     "output_type": "stream",
     "text": [
      "Store level stats sorted by bonus payable:\n",
      "              mean_met_target  sum_transactions  sum_bonus_payable\n",
      "store_number                                                      \n",
      "2                         0.5              4000                170\n",
      "3                         1.0              3800                170\n",
      "1                         0.5              3700                130\n"
     ]
    }
   ],
   "source": [
    "import pandas as pd\n",
    "\n",
    "# Assuming df is your DataFrame with columns 'store_number', 'met_target', 'transactions', and 'bonus_payable'\n",
    "# Replace this with your actual DataFrame\n",
    "data = {'store_number': [1, 2, 3, 1, 2, 3],\n",
    "        'met_target': [1, 0, 1, 0, 1, 1],\n",
    "        'transactions': [1500, 2100, 1800, 2200, 1900, 2000],\n",
    "        'bonus_payable': [100, 50, 80, 30, 120, 90]}\n",
    "df = pd.DataFrame(data)\n",
    "\n",
    "# Group transactions by store number and calculate store level stats\n",
    "store_stats = df.groupby('store_number').agg(\n",
    "    mean_met_target=('met_target', 'mean'),\n",
    "    sum_transactions=('transactions', 'sum'),\n",
    "    sum_bonus_payable=('bonus_payable', 'sum')\n",
    ")\n",
    "\n",
    "# Sort values by bonus payable in descending order\n",
    "store_stats_sorted = store_stats.sort_values(by='sum_bonus_payable', ascending=False)\n",
    "\n",
    "# Display the store level stats sorted by bonus payable\n",
    "print(\"Store level stats sorted by bonus payable:\")\n",
    "print(store_stats_sorted)\n"
   ]
  },
  {
   "cell_type": "code",
   "execution_count": 133,
   "id": "63491999",
   "metadata": {},
   "outputs": [
    {
     "name": "stdout",
     "output_type": "stream",
     "text": [
      "Month level stats sorted by bonus payable:\n",
      "       mean_met_target  sum_transactions  sum_bonus_payable\n",
      "month                                                      \n",
      "2             0.666667              6100                240\n",
      "1             0.666667              5400                230\n"
     ]
    }
   ],
   "source": [
    "import pandas as pd\n",
    "\n",
    "# Assuming df is your DataFrame with columns 'month', 'met_target', 'transactions', and 'bonus_payable'\n",
    "# Replace this with your actual DataFrame\n",
    "data = {'month': [1, 1, 1, 2, 2, 2],\n",
    "        'met_target': [1, 0, 1, 0, 1, 1],\n",
    "        'transactions': [1500, 2100, 1800, 2200, 1900, 2000],\n",
    "        'bonus_payable': [100, 50, 80, 30, 120, 90]}\n",
    "df = pd.DataFrame(data)\n",
    "\n",
    "# Group transactions by month and calculate month level stats\n",
    "month_stats = df.groupby('month').agg(\n",
    "    mean_met_target=('met_target', 'mean'),\n",
    "    sum_transactions=('transactions', 'sum'),\n",
    "    sum_bonus_payable=('bonus_payable', 'sum')\n",
    ")\n",
    "\n",
    "# Sort values by bonus payable in descending order\n",
    "month_stats_sorted = month_stats.sort_values(by='sum_bonus_payable', ascending=False)\n",
    "\n",
    "# Display the month level stats sorted by bonus payable\n",
    "print(\"Month level stats sorted by bonus payable:\")\n",
    "print(month_stats_sorted)\n"
   ]
  },
  {
   "cell_type": "code",
   "execution_count": 134,
   "id": "5ea9e4e8",
   "metadata": {},
   "outputs": [
    {
     "name": "stdout",
     "output_type": "stream",
     "text": [
      "Day-of-week level stats sorted by bonus payable:\n",
      "             mean_met_target  sum_transactions  sum_bonus_payable\n",
      "day_of_week                                                      \n",
      "1                        0.5              4000                170\n",
      "2                        1.0              3800                170\n",
      "0                        0.5              3700                130\n"
     ]
    }
   ],
   "source": [
    "import pandas as pd\n",
    "\n",
    "# Assuming df is your DataFrame with columns 'day_of_week', 'met_target', 'transactions', and 'bonus_payable'\n",
    "# Replace this with your actual DataFrame\n",
    "data = {'day_of_week': [0, 1, 2, 0, 1, 2],\n",
    "        'met_target': [1, 0, 1, 0, 1, 1],\n",
    "        'transactions': [1500, 2100, 1800, 2200, 1900, 2000],\n",
    "        'bonus_payable': [100, 50, 80, 30, 120, 90]}\n",
    "df = pd.DataFrame(data)\n",
    "\n",
    "# Group transactions by day of the week and calculate day-of-week level stats\n",
    "day_of_week_stats = df.groupby('day_of_week').agg(\n",
    "    mean_met_target=('met_target', 'mean'),\n",
    "    sum_transactions=('transactions', 'sum'),\n",
    "    sum_bonus_payable=('bonus_payable', 'sum')\n",
    ")\n",
    "\n",
    "# Sort values by bonus payable in descending order\n",
    "day_of_week_stats_sorted = day_of_week_stats.sort_values(by='sum_bonus_payable', ascending=False)\n",
    "\n",
    "# Display the day-of-week level stats sorted by bonus payable\n",
    "print(\"Day-of-week level stats sorted by bonus payable:\")\n",
    "print(day_of_week_stats_sorted)\n"
   ]
  },
  {
   "cell_type": "markdown",
   "id": "4ffad482",
   "metadata": {},
   "source": [
    "# Transform"
   ]
  },
  {
   "cell_type": "markdown",
   "id": "031a426e",
   "metadata": {},
   "source": [
    "# Task"
   ]
  },
  {
   "cell_type": "code",
   "execution_count": 135,
   "id": "c6d32fa0",
   "metadata": {},
   "outputs": [
    {
     "name": "stdout",
     "output_type": "stream",
     "text": [
      "DataFrame with new columns:\n",
      "   store_number  transactions  average_transactions  difference\n",
      "0             1          1500                1850.0       350.0\n",
      "1             2          2100                2000.0      -100.0\n",
      "2             3          1800                1900.0       100.0\n",
      "3             1          2200                1850.0      -350.0\n",
      "4             2          1900                2000.0       100.0\n",
      "5             3          2000                1900.0      -100.0\n"
     ]
    }
   ],
   "source": [
    "import pandas as pd\n",
    "\n",
    "# Assuming df is your DataFrame with columns 'store_number' and 'transactions'\n",
    "# Replace this with your actual DataFrame\n",
    "data = {'store_number': [1, 2, 3, 1, 2, 3],\n",
    "        'transactions': [1500, 2100, 1800, 2200, 1900, 2000]}\n",
    "df = pd.DataFrame(data)\n",
    "\n",
    "# Calculate the average transactions for each store without losing rows\n",
    "df['average_transactions'] = df.groupby('store_number')['transactions'].transform('mean')\n",
    "\n",
    "# Create a new column for the difference between store's average and transactions on that day\n",
    "df['difference'] = df['average_transactions'] - df['transactions']\n",
    "\n",
    "# Display the DataFrame with the new columns\n",
    "print(\"DataFrame with new columns:\")\n",
    "print(df)\n"
   ]
  },
  {
   "cell_type": "markdown",
   "id": "d86b30bc",
   "metadata": {},
   "source": [
    "# Pivot Table"
   ]
  },
  {
   "cell_type": "code",
   "execution_count": null,
   "id": "7ed11b71",
   "metadata": {},
   "outputs": [],
   "source": []
  }
 ],
 "metadata": {
  "kernelspec": {
   "display_name": "Python 3 (ipykernel)",
   "language": "python",
   "name": "python3"
  },
  "language_info": {
   "codemirror_mode": {
    "name": "ipython",
    "version": 3
   },
   "file_extension": ".py",
   "mimetype": "text/x-python",
   "name": "python",
   "nbconvert_exporter": "python",
   "pygments_lexer": "ipython3",
   "version": "3.11.5"
  }
 },
 "nbformat": 4,
 "nbformat_minor": 5
}
